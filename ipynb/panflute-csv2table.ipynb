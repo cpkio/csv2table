{
 "cells": [
  {
   "cell_type": "markdown",
   "metadata": {},
   "source": [
    "# Write input.md (Choose One Only)"
   ]
  },
  {
   "cell_type": "markdown",
   "metadata": {},
   "source": [
    "## Comparison"
   ]
  },
  {
   "cell_type": "markdown",
   "metadata": {
    "collapsed": false
   },
   "source": [
    "%%writefile input.md\n",
    "~~~table\n",
    "---\n",
    "table-width: 1.3\n",
    "---\n",
    ",pandoc-csv2table,pandoc-placetable,panflute example,my proposal\n",
    "type,type=simple|multiline|grid|pipe,,,\n",
    "header,header=yes|no,header=yes|no,header: True|False,header: True|False\n",
    "caption,caption,caption,title,caption\n",
    "source,source,file,source,source\n",
    "aligns,aligns=LRCD,aligns=LRCD,,alignment: LRCD\n",
    "width,,\"widths=\"\"0.5 0.2 0.3\"\"\",,\"column-width: [0.5, 0.2, 0.3]\"\n",
    ",,inlinemarkdown,,markdown: True|False\n",
    ",,delimiter,,\n",
    ",,quotechar,,\n",
    ",,id (wrapped by div),,\n",
    "~~~"
   ]
  },
  {
   "cell_type": "markdown",
   "metadata": {},
   "source": [
    "## Simple Test"
   ]
  },
  {
   "cell_type": "markdown",
   "metadata": {},
   "source": [
    "%%writefile input.md\n",
    "~~~table\n",
    "**_Fruit_**,~~Price~~,_Number_,`Advantages`\n",
    "*Bananas~1~*,$1.34,12~units~,\"Benefits of eating bananas \n",
    "(**Note the appropriately\n",
    "rendered block markdown**):    \n",
    "\n",
    "- _built-in wrapper_        \n",
    "- ~~**bright color**~~\n",
    "\n",
    "\"\n",
    "*Oranges~2~*,$2.10,5^10^~units~,\"Benefits of eating oranges:\n",
    "\n",
    "- **cures** scurvy\n",
    "- `tasty`\"\n",
    "~~~"
   ]
  },
  {
   "cell_type": "markdown",
   "metadata": {},
   "source": [
    "## Full Test (This one goes into the docstring)"
   ]
  },
  {
   "cell_type": "code",
   "execution_count": 1,
   "metadata": {
    "collapsed": false
   },
   "outputs": [
    {
     "name": "stdout",
     "output_type": "stream",
     "text": [
      "Overwriting input.md\n"
     ]
    }
   ],
   "source": [
    "%%writefile input.md\n",
    "~~~table\n",
    "---\n",
    "caption: \"*Great* Title\"\n",
    "alignment: LRC\n",
    "width:\n",
    "  - 0.1\n",
    "  - 0.2\n",
    "  - 0.3\n",
    "  - 0.4\n",
    "header: False\n",
    "markdown: True\n",
    "...\n",
    "**_Fruit_**,~~Price~~,_Number_,`Advantages`\n",
    "*Bananas~1~*,$1.34,12~units~,\"Benefits of eating bananas \n",
    "(**Note the appropriately\n",
    "rendered block markdown**):    \n",
    "\n",
    "- _built-in wrapper_        \n",
    "- ~~**bright color**~~\n",
    "\n",
    "\"\n",
    "*Oranges~2~*,$2.10,5^10^~units~,\"Benefits of eating oranges:\n",
    "\n",
    "- **cures** scurvy\n",
    "- `tasty`\"\n",
    "~~~\n"
   ]
  },
  {
   "cell_type": "markdown",
   "metadata": {},
   "source": [
    "## Testing wrong type"
   ]
  },
  {
   "cell_type": "markdown",
   "metadata": {},
   "source": [
    "%%writefile input.md\n",
    "~~~table\n",
    "**_Fruit_**,~~Price~~,_Number_,`Advantages`\n",
    "*Bananas~1~*,$1.34,12~units~,\"Benefits of eating bananas \n",
    "(**Note the appropriately\n",
    "rendered block markdown**):    \n",
    "\n",
    "- _built-in wrapper_        \n",
    "- ~~**bright color**~~\n",
    "\n",
    "---\n",
    "caption: 0.1\n",
    "header: IDK\n",
    "markdown: false\n",
    "...\n",
    "\n",
    "\"\n",
    "*Oranges~2~*,$2.10,5^10^~units~,\"Benefits of eating oranges:\n",
    "\n",
    "- **cures** scurvy\n",
    "- `tasty`\"\n",
    "\n",
    "\n",
    "---\n",
    "width:\n",
    "- -0.1\n",
    "- -0.2\n",
    "- -0.3\n",
    "- -0.4\n",
    "alignment: 0.1\n",
    "---\n",
    "~~~\n"
   ]
  },
  {
   "cell_type": "markdown",
   "metadata": {},
   "source": [
    "## Testing Zero Table width"
   ]
  },
  {
   "cell_type": "markdown",
   "metadata": {},
   "source": [
    "%%writefile input.md\n",
    "~~~table\n",
    ",\n",
    ",\n",
    "~~~\n"
   ]
  },
  {
   "cell_type": "markdown",
   "metadata": {},
   "source": [
    "## Test external CSV @todo"
   ]
  },
  {
   "cell_type": "markdown",
   "metadata": {},
   "source": [
    "%%writefile input.md\n",
    "~~~table\n",
    "---\n",
    "caption: \"*Great* Title\"\n",
    "header: True\n",
    "alignment: AlignLeft, AlignRight, AlignCenter, AlignDefault\n",
    "include: ../source/grid.csv\n",
    "...\n",
    "~~~"
   ]
  },
  {
   "cell_type": "markdown",
   "metadata": {},
   "source": [
    "# Write Filter"
   ]
  },
  {
   "cell_type": "code",
   "execution_count": 2,
   "metadata": {
    "collapsed": false
   },
   "outputs": [
    {
     "name": "stdout",
     "output_type": "stream",
     "text": [
      "Overwriting ../bin/table.py\n"
     ]
    }
   ],
   "source": [
    "%%writefile ../bin/table.py\n",
    "#!/usr/bin/env python3\n",
    "\n",
    "\"\"\"\n",
    "Panflute filter to parse table in fenced YAML code blocks.\n",
    "Currently only CSV table is supported.\n",
    "\n",
    "7 metadata keys are recognized:\n",
    "\n",
    "-   caption: the caption of the table. If omitted, no caption will be inserted.\n",
    "-   alignment: a string of characters among L,R,C,D, case-insensitive,\n",
    "    corresponds to Left-aligned, Right-aligned, Center-aligned, Default-aligned respectively.\n",
    "    e.g. LCRD for a table with 4 columns\n",
    "    default: DDD...\n",
    "-   width: a list of relative width corresponding to the width of each columns.\n",
    "    default: auto calculate from the length of line in a (potentially multiline) cell.\n",
    "-   table-width: the relative width of the table (comparing to, say, \\linewidth).\n",
    "    default: 1.0\n",
    "-   header: If it has a header row. default: true\n",
    "-   markdown: If CSV table cell contains markdown syntax. default: True\n",
    "-   include: the path to an CSV file. If non-empty, override the CSV in the CodeBlock.\n",
    "    default: None\n",
    "\n",
    "When the metadata keys is invalid, the default will be used instead.\n",
    "\n",
    "e.g.\n",
    "\n",
    "```markdown\n",
    "~~~table\n",
    "---\n",
    "caption: \"*Great* Title\"\n",
    "alignment: LRC\n",
    "width:\n",
    "  - 0.1\n",
    "  - 0.2\n",
    "  - 0.3\n",
    "  - 0.4\n",
    "header: False\n",
    "markdown: True\n",
    "...\n",
    "**_Fruit_**,~~Price~~,_Number_,`Advantages`\n",
    "*Bananas~1~*,$1.34,12~units~,\"Benefits of eating bananas \n",
    "(**Note the appropriately\n",
    "rendered block markdown**):    \n",
    "\n",
    "- _built-in wrapper_        \n",
    "- ~~**bright color**~~\n",
    "\n",
    "\"\n",
    "*Oranges~2~*,$2.10,5^10^~units~,\"Benefits of eating oranges:\n",
    "\n",
    "- **cures** scurvy\n",
    "- `tasty`\"\n",
    "~~~\n",
    "```\n",
    "\"\"\"\n",
    "\n",
    "import io\n",
    "import os\n",
    "import csv\n",
    "import panflute\n",
    "\n",
    "def to_bool(x):\n",
    "    \"\"\"\n",
    "    Do nothing if x is boolean,\n",
    "    return `False` if it is \"false\" or \"no\" (case-insensitive),\n",
    "    otherwise return `True`.\n",
    "    \"\"\"\n",
    "    if not isinstance(x, bool):\n",
    "        if str(x).lower() in (\"false\", \"no\"):\n",
    "            x = False\n",
    "        else:\n",
    "            x = True\n",
    "    return x\n",
    "\n",
    "def get_table_options(options):\n",
    "    \"\"\"\n",
    "    It parses the options output from `panflute.yaml_filter` and\n",
    "    return it as variables `(caption, alignment, width, table_width, header, markdown)`.\n",
    "    \"\"\"\n",
    "    caption = options.get('caption')\n",
    "    alignment = options.get('alignment')\n",
    "    width = options.get('width')\n",
    "    table_width = options.get('table-width',1.0)\n",
    "    header = options.get('header',True)\n",
    "    markdown = options.get('markdown',True)\n",
    "    include = options.get('include',None)\n",
    "    return (caption, alignment, width, table_width, header, markdown, include)\n",
    "\n",
    "def check_table_options(width, table_width, header, markdown, include):\n",
    "    \"\"\"\n",
    "    It sets the varaibles to default if they are invalid:\n",
    "    \n",
    "    - `width` set to `None` when invalid, each element in `width` set to `0` when negative\n",
    "    - `table_width`: set to `1.0` if invalid or not positive\n",
    "    - set `header` to `True` if invalid\n",
    "    - set `markdown` to `True` if invalid\n",
    "    \"\"\"\n",
    "    try:\n",
    "        width = [(float(x) if float(x) >= 0 else 0) for x in width]\n",
    "    except (TypeError, ValueError):\n",
    "        width = None\n",
    "    try:\n",
    "        table_width = float(table_width) if float(table_width) > 0 else 1.0\n",
    "    except (TypeError, ValueError):\n",
    "        table_width = 1.0\n",
    "    header = to_bool(header)\n",
    "    markdown = to_bool(markdown)\n",
    "    if include != None:\n",
    "        if not os.path.isfile(include):\n",
    "            include = None\n",
    "    return (width, table_width, header, markdown, include)\n",
    "\n",
    "def parse_table_options(caption, alignment, width, table_width, raw_table_list):\n",
    "    \"\"\"\n",
    "    `caption` is assumed to contain markdown, as in standard pandoc YAML metadata\n",
    "    `alignment` string is parsed into pandoc format (AlignDefault, etc.)\n",
    "    `width` is auto-calculated if not given in YAML\n",
    "    \"\"\"\n",
    "    # parse caption\n",
    "    if caption != None:\n",
    "        caption = panflute.convert_text(str(caption))[0].content\n",
    "    # preparation: get no of columns of the table\n",
    "    number_of_columns = len(raw_table_list[0])\n",
    "    ## parse alignment\n",
    "    if alignment != None:\n",
    "        alignment = str(alignment)\n",
    "        parsed_alignment = []\n",
    "        for i in range(number_of_columns):\n",
    "            try:\n",
    "                if alignment[i].lower() == \"l\":\n",
    "                    parsed_alignment.append(\"AlignLeft\")\n",
    "                elif alignment[i].lower() == \"c\":\n",
    "                    parsed_alignment.append(\"AlignCenter\")\n",
    "                elif alignment[i].lower() == \"r\":\n",
    "                    parsed_alignment.append(\"AlignRight\")\n",
    "                else:\n",
    "                    parsed_alignment.append(\"AlignDefault\")\n",
    "            except IndexError:\n",
    "                for i in range(number_of_columns-len(parsed_alignment)):\n",
    "                    parsed_alignment.append(\"AlignDefault\")\n",
    "        alignment = parsed_alignment\n",
    "    # calculate width\n",
    "    if width == None:\n",
    "        width_abs = [max([max([len(line) for line in row[i].split(\"\\n\")]) for row in raw_table_list]) for i in range(number_of_columns)]\n",
    "        width_tot = sum(width_abs)\n",
    "        try:\n",
    "            width = [width_abs[i]/width_tot*table_width for i in range(number_of_columns)]\n",
    "        except ZeroDivisionError:\n",
    "            width = None\n",
    "    return (caption, alignment, width)\n",
    "\n",
    "def read_csv(data, include):\n",
    "    \"\"\"\n",
    "    read csv and return the table in list\n",
    "    \"\"\"\n",
    "    if include != None:\n",
    "        with open(include) as f:\n",
    "            raw_table_list = list(csv.reader(f))\n",
    "    else:\n",
    "        with io.StringIO(data) as f:\n",
    "            raw_table_list = list(csv.reader(f))\n",
    "    return raw_table_list\n",
    "\n",
    "def parse_table_list(raw_table_list, markdown):\n",
    "    \"\"\"\n",
    "    read table in list and return panflute table format\n",
    "    \"\"\"\n",
    "    body = []\n",
    "    for row in raw_table_list:\n",
    "        if markdown:\n",
    "            cells = [panflute.TableCell(*panflute.convert_text(x)) for x in row]\n",
    "        else:\n",
    "            cells = [panflute.TableCell(panflute.Plain(panflute.Str(x))) for x in row]\n",
    "        body.append(panflute.TableRow(*cells))\n",
    "    return body\n",
    "\n",
    "def convert2table(options, data, element, doc):\n",
    "    # get table options from YAML metadata\n",
    "    caption, alignment, width, table_width, header, markdown, include = get_table_options(options)\n",
    "    # check table options\n",
    "    width, table_width, header, markdown, include = check_table_options(width, table_width, header, markdown, include)\n",
    "    # parse csv to list\n",
    "    raw_table_list = read_csv(data, include)\n",
    "    # parse list to panflute table\n",
    "    body = parse_table_list(raw_table_list, markdown)\n",
    "    # parse table options\n",
    "    caption, alignment, width = parse_table_options(caption, alignment, width, table_width, raw_table_list)\n",
    "    # finalize table according to metadata\n",
    "    header_row = body.pop(0) if header else None\n",
    "    table = panflute.Table(*body, caption=caption, alignment=alignment, width=width, header=header_row)\n",
    "    return table\n",
    "\n",
    "# We'll only run this for CodeBlock elements of class 'table'\n",
    "def main(doc=None):\n",
    "     return panflute.run_filter(panflute.yaml_filter, tag='table', function=convert2table, strict_yaml=True)\n",
    "\n",
    "if __name__ == '__main__':\n",
    "    main()"
   ]
  },
  {
   "cell_type": "code",
   "execution_count": 3,
   "metadata": {
    "collapsed": true
   },
   "outputs": [],
   "source": [
    "!chmod +x ../bin/csv-tables.py"
   ]
  },
  {
   "cell_type": "markdown",
   "metadata": {},
   "source": [
    "# Output"
   ]
  },
  {
   "cell_type": "markdown",
   "metadata": {},
   "source": [
    "## Original"
   ]
  },
  {
   "cell_type": "code",
   "execution_count": 4,
   "metadata": {
    "collapsed": false
   },
   "outputs": [
    {
     "name": "stdout",
     "output_type": "stream",
     "text": [
      "~~~table\r\n",
      "---\r\n",
      "caption: \"*Great* Title\"\r\n",
      "alignment: LRC\r\n",
      "width:\r\n",
      "  - 0.1\r\n",
      "  - 0.2\r\n",
      "  - 0.3\r\n",
      "  - 0.4\r\n",
      "header: False\r\n",
      "markdown: True\r\n",
      "...\r\n",
      "**_Fruit_**,~~Price~~,_Number_,`Advantages`\r\n",
      "*Bananas~1~*,$1.34,12~units~,\"Benefits of eating bananas \r\n",
      "(**Note the appropriately\r\n",
      "rendered block markdown**):    \r\n",
      "\r\n",
      "- _built-in wrapper_        \r\n",
      "- ~~**bright color**~~\r\n",
      "\r\n",
      "\"\r\n",
      "*Oranges~2~*,$2.10,5^10^~units~,\"Benefits of eating oranges:\r\n",
      "\r\n",
      "- **cures** scurvy\r\n",
      "- `tasty`\"\r\n",
      "~~~"
     ]
    }
   ],
   "source": [
    "!cat input.md"
   ]
  },
  {
   "cell_type": "markdown",
   "metadata": {},
   "source": [
    "## Direct output"
   ]
  },
  {
   "cell_type": "code",
   "execution_count": 5,
   "metadata": {
    "collapsed": false
   },
   "outputs": [
    {
     "name": "stdout",
     "output_type": "stream",
     "text": [
      "{\"pandoc-api-version\":[1,17,0,4],\"meta\":{},\"blocks\":[{\"t\":\"Table\",\"c\":[[{\"t\":\"Emph\",\"c\":[{\"t\":\"Str\",\"c\":\"Great\"}]},{\"t\":\"Space\"},{\"t\":\"Str\",\"c\":\"Title\"}],[{\"t\":\"AlignLeft\"},{\"t\":\"AlignRight\"},{\"t\":\"AlignCenter\"},{\"t\":\"AlignDefault\"}],[0.1,0.2,0.3,0.4],[],[[[{\"t\":\"Para\",\"c\":[{\"t\":\"Strong\",\"c\":[{\"t\":\"Emph\",\"c\":[{\"t\":\"Str\",\"c\":\"Fruit\"}]}]}]}],[{\"t\":\"Para\",\"c\":[{\"t\":\"Strikeout\",\"c\":[{\"t\":\"Str\",\"c\":\"Price\"}]}]}],[{\"t\":\"Para\",\"c\":[{\"t\":\"Emph\",\"c\":[{\"t\":\"Str\",\"c\":\"Number\"}]}]}],[{\"t\":\"Para\",\"c\":[{\"t\":\"Code\",\"c\":[[\"\",[],[]],\"Advantages\"]}]}]],[[{\"t\":\"Para\",\"c\":[{\"t\":\"Emph\",\"c\":[{\"t\":\"Str\",\"c\":\"Bananas\"},{\"t\":\"Subscript\",\"c\":[{\"t\":\"Str\",\"c\":\"1\"}]}]}]}],[{\"t\":\"Para\",\"c\":[{\"t\":\"Str\",\"c\":\"$1.34\"}]}],[{\"t\":\"Para\",\"c\":[{\"t\":\"Str\",\"c\":\"12\"},{\"t\":\"Subscript\",\"c\":[{\"t\":\"Str\",\"c\":\"units\"}]}]}],[{\"t\":\"Para\",\"c\":[{\"t\":\"Str\",\"c\":\"Benefits\"},{\"t\":\"Space\"},{\"t\":\"Str\",\"c\":\"of\"},{\"t\":\"Space\"},{\"t\":\"Str\",\"c\":\"eating\"},{\"t\":\"Space\"},{\"t\":\"Str\",\"c\":\"bananas\"},{\"t\":\"SoftBreak\"},{\"t\":\"Str\",\"c\":\"(\"},{\"t\":\"Strong\",\"c\":[{\"t\":\"Str\",\"c\":\"Note\"},{\"t\":\"Space\"},{\"t\":\"Str\",\"c\":\"the\"},{\"t\":\"Space\"},{\"t\":\"Str\",\"c\":\"appropriately\"},{\"t\":\"SoftBreak\"},{\"t\":\"Str\",\"c\":\"rendered\"},{\"t\":\"Space\"},{\"t\":\"Str\",\"c\":\"block\"},{\"t\":\"Space\"},{\"t\":\"Str\",\"c\":\"markdown\"}]},{\"t\":\"Str\",\"c\":\"):\"}]},{\"t\":\"BulletList\",\"c\":[[{\"t\":\"Plain\",\"c\":[{\"t\":\"Emph\",\"c\":[{\"t\":\"Str\",\"c\":\"built-in\"},{\"t\":\"Space\"},{\"t\":\"Str\",\"c\":\"wrapper\"}]},{\"t\":\"LineBreak\"}]}],[{\"t\":\"Plain\",\"c\":[{\"t\":\"Strikeout\",\"c\":[{\"t\":\"Strong\",\"c\":[{\"t\":\"Str\",\"c\":\"bright\"},{\"t\":\"Space\"},{\"t\":\"Str\",\"c\":\"color\"}]}]}]}]]}]],[[{\"t\":\"Para\",\"c\":[{\"t\":\"Emph\",\"c\":[{\"t\":\"Str\",\"c\":\"Oranges\"},{\"t\":\"Subscript\",\"c\":[{\"t\":\"Str\",\"c\":\"2\"}]}]}]}],[{\"t\":\"Para\",\"c\":[{\"t\":\"Str\",\"c\":\"$2.10\"}]}],[{\"t\":\"Para\",\"c\":[{\"t\":\"Str\",\"c\":\"5\"},{\"t\":\"Superscript\",\"c\":[{\"t\":\"Str\",\"c\":\"10\"}]},{\"t\":\"Subscript\",\"c\":[{\"t\":\"Str\",\"c\":\"units\"}]}]}],[{\"t\":\"Para\",\"c\":[{\"t\":\"Str\",\"c\":\"Benefits\"},{\"t\":\"Space\"},{\"t\":\"Str\",\"c\":\"of\"},{\"t\":\"Space\"},{\"t\":\"Str\",\"c\":\"eating\"},{\"t\":\"Space\"},{\"t\":\"Str\",\"c\":\"oranges:\"}]},{\"t\":\"BulletList\",\"c\":[[{\"t\":\"Plain\",\"c\":[{\"t\":\"Strong\",\"c\":[{\"t\":\"Str\",\"c\":\"cures\"}]},{\"t\":\"Space\"},{\"t\":\"Str\",\"c\":\"scurvy\"}]}],[{\"t\":\"Plain\",\"c\":[{\"t\":\"Code\",\"c\":[[\"\",[],[]],\"tasty\"]}]}]]}]]]]}]}"
     ]
    }
   ],
   "source": [
    "!pandoc input.md -t json | ../bin/csv-tables.py"
   ]
  },
  {
   "cell_type": "markdown",
   "metadata": {},
   "source": [
    "## Native Output"
   ]
  },
  {
   "cell_type": "code",
   "execution_count": 6,
   "metadata": {
    "collapsed": false
   },
   "outputs": [
    {
     "name": "stdout",
     "output_type": "stream",
     "text": [
      "[Table [Emph [Str \"Great\"],Space,Str \"Title\"] [AlignLeft,AlignRight,AlignCenter,AlignDefault] [0.1,0.2,0.3,0.4]\r\n",
      " []\r\n",
      " [[[Para [Strong [Emph [Str \"Fruit\"]]]]\r\n",
      "  ,[Para [Strikeout [Str \"Price\"]]]\r\n",
      "  ,[Para [Emph [Str \"Number\"]]]\r\n",
      "  ,[Para [Code (\"\",[],[]) \"Advantages\"]]]\r\n",
      " ,[[Para [Emph [Str \"Bananas\",Subscript [Str \"1\"]]]]\r\n",
      "  ,[Para [Str \"$1.34\"]]\r\n",
      "  ,[Para [Str \"12\",Subscript [Str \"units\"]]]\r\n",
      "  ,[Para [Str \"Benefits\",Space,Str \"of\",Space,Str \"eating\",Space,Str \"bananas\",SoftBreak,Str \"(\",Strong [Str \"Note\",Space,Str \"the\",Space,Str \"appropriately\",SoftBreak,Str \"rendered\",Space,Str \"block\",Space,Str \"markdown\"],Str \"):\"]\r\n",
      "   ,BulletList\r\n",
      "    [[Plain [Emph [Str \"built-in\",Space,Str \"wrapper\"],LineBreak]]\r\n",
      "    ,[Plain [Strikeout [Strong [Str \"bright\",Space,Str \"color\"]]]]]]]\r\n",
      " ,[[Para [Emph [Str \"Oranges\",Subscript [Str \"2\"]]]]\r\n",
      "  ,[Para [Str \"$2.10\"]]\r\n",
      "  ,[Para [Str \"5\",Superscript [Str \"10\"],Subscript [Str \"units\"]]]\r\n",
      "  ,[Para [Str \"Benefits\",Space,Str \"of\",Space,Str \"eating\",Space,Str \"oranges:\"]\r\n",
      "   ,BulletList\r\n",
      "    [[Plain [Strong [Str \"cures\"],Space,Str \"scurvy\"]]\r\n",
      "    ,[Plain [Code (\"\",[],[]) \"tasty\"]]]]]]]\r\n"
     ]
    }
   ],
   "source": [
    "!pandoc --filter=../bin/csv-tables.py input.md -t native"
   ]
  },
  {
   "cell_type": "markdown",
   "metadata": {},
   "source": [
    "## Markdown Output"
   ]
  },
  {
   "cell_type": "code",
   "execution_count": 7,
   "metadata": {
    "collapsed": false
   },
   "outputs": [
    {
     "name": "stdout",
     "output_type": "stream",
     "text": [
      "+---------+----------------+-----------------------+------------------------------+\r\n",
      "| ***Frui | ~~Price~~      | *Number*              | `Advantages`                 |\r\n",
      "| t***    |                |                       |                              |\r\n",
      "+---------+----------------+-----------------------+------------------------------+\r\n",
      "| *Banana | \\$1.34         | 12~units~             | Benefits of eating bananas   |\r\n",
      "| s~1~*   |                |                       | (**Note the appropriately    |\r\n",
      "|         |                |                       | rendered block markdown**):  |\r\n",
      "|         |                |                       |                              |\r\n",
      "|         |                |                       | -   *built-in wrapper*\\      |\r\n",
      "|         |                |                       | -   ~~**bright color**~~     |\r\n",
      "+---------+----------------+-----------------------+------------------------------+\r\n",
      "| *Orange | \\$2.10         | 5^10^~units~          | Benefits of eating oranges:  |\r\n",
      "| s~2~*   |                |                       |                              |\r\n",
      "|         |                |                       | -   **cures** scurvy         |\r\n",
      "|         |                |                       | -   `tasty`                  |\r\n",
      "+---------+----------------+-----------------------+------------------------------+\r\n",
      "\r\n",
      ": *Great* Title\r\n",
      "\r\n",
      "\r\n"
     ]
    }
   ],
   "source": [
    "!pandoc --filter=../bin/csv-tables.py input.md -t markdown"
   ]
  },
  {
   "cell_type": "code",
   "execution_count": null,
   "metadata": {
    "collapsed": true
   },
   "outputs": [],
   "source": []
  }
 ],
 "metadata": {
  "kernelspec": {
   "display_name": "Python 3",
   "language": "python",
   "name": "python3"
  },
  "language_info": {
   "codemirror_mode": {
    "name": "ipython",
    "version": 3
   },
   "file_extension": ".py",
   "mimetype": "text/x-python",
   "name": "python",
   "nbconvert_exporter": "python",
   "pygments_lexer": "ipython3",
   "version": "3.5.2"
  }
 },
 "nbformat": 4,
 "nbformat_minor": 1
}
