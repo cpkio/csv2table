{
 "cells": [
  {
   "cell_type": "code",
   "execution_count": 1,
   "metadata": {
    "collapsed": false
   },
   "outputs": [
    {
     "name": "stdout",
     "output_type": "stream",
     "text": [
      "Overwriting test-simple.md\n"
     ]
    }
   ],
   "source": [
    "%%writefile test-simple.md\n",
    "~~~csv\n",
    "table-width: 1.2\n",
    "---\n",
    "**_Fruit_**,~~Price~~,_Number_,`Advantages`\n",
    "*Bananas~1~*,$1.34,12~units~,\"Benefits of eating bananas \n",
    "(**Note the appropriately\n",
    "rendered block markdown**):    \n",
    "\n",
    "- _built-in wrapper_        \n",
    "- ~~**bright color**~~\n",
    "\n",
    "\"\n",
    "*Oranges~2~*,$2.10,5^10^~units~,\"Benefits of eating oranges:\n",
    "\n",
    "- **cures** scurvy\n",
    "- `tasty`\"\n",
    "~~~\n"
   ]
  },
  {
   "cell_type": "code",
   "execution_count": 2,
   "metadata": {
    "collapsed": false
   },
   "outputs": [
    {
     "name": "stdout",
     "output_type": "stream",
     "text": [
      "Overwriting test-full.md\n"
     ]
    }
   ],
   "source": [
    "%%writefile test-full.md\n",
    "~~~csv\n",
    "title: \"*Great* Title\"\n",
    "has-header: False\n",
    "column-width: 0.1, 0.2, 0.3, 0.4\n",
    "alignment: AlignLeft, AlignRight, AlignCenter, AlignDefault\n",
    "---\n",
    "**_Fruit_**,~~Price~~,_Number_,`Advantages`\n",
    "*Bananas~1~*,$1.34,12~units~,\"Benefits of eating bananas \n",
    "(**Note the appropriately\n",
    "rendered block markdown**):    \n",
    "\n",
    "- _built-in wrapper_        \n",
    "- ~~**bright color**~~\n",
    "\n",
    "\"\n",
    "*Oranges~2~*,$2.10,5^10^~units~,\"Benefits of eating oranges:\n",
    "\n",
    "- **cures** scurvy\n",
    "- `tasty`\"\n",
    "~~~\n"
   ]
  },
  {
   "cell_type": "code",
   "execution_count": 3,
   "metadata": {
    "collapsed": false
   },
   "outputs": [
    {
     "name": "stdout",
     "output_type": "stream",
     "text": [
      "Overwriting ../bin/csv-tables.py\n"
     ]
    }
   ],
   "source": [
    "%%writefile ../bin/csv-tables.py\n",
    "#!/usr/bin/env python3\n",
    "\n",
    "\"\"\"\n",
    "Panflute filter to parse CSV in fenced YAML code blocks\n",
    "e.g.\n",
    "\n",
    "```markdown\n",
    "~~~csv\n",
    "title: \"*Great* Title\"\n",
    "has-header: False\n",
    "table-width: 1\n",
    "alignment: AlignLeft, AlignRight, AlignCenter, AlignDefault\n",
    "---\n",
    "**_Fruit_**,~~Price~~,_Number_,`Advantages`\n",
    "*Bananas~1~*,$1.34,12~units~,\"Benefits of eating bananas \n",
    "(**Note the appropriately\n",
    "rendered block markdown**):    \n",
    "\n",
    "- _built-in wrapper_        \n",
    "- ~~**bright color**~~\n",
    "\n",
    "\"\n",
    "*Oranges~2~*,$2.10,5^10^~units~,\"Benefits of eating oranges:\n",
    "\n",
    "- **cures** scurvy\n",
    "- `tasty`\"\n",
    "~~~\n",
    "```\n",
    "\"\"\"\n",
    "\n",
    "import io\n",
    "import csv\n",
    "import panflute\n",
    "\n",
    "def fenced_csv(options, data, element, doc):\n",
    "    # read csv and convert to panflute table representation\n",
    "    with io.StringIO(data) as f:\n",
    "        reader = list(csv.reader(f))\n",
    "        body = []\n",
    "        for row in reader:\n",
    "            cells = [panflute.TableCell(*panflute.convert_text(x)) for x in row]\n",
    "            body.append(panflute.TableRow(*cells))\n",
    "        # get no of columns for header\n",
    "        noOfColumn = len(reader[0])\n",
    "    # read YAML metadata\n",
    "    try:\n",
    "        caption = options.get('title')\n",
    "        column_width = options.get('column-width')\n",
    "        table_width = options.get('table-width',1.0)\n",
    "        alignment = options.get('alignment')\n",
    "        has_header = options.get('has-header',True)\n",
    "    except AttributeError:\n",
    "        caption = None\n",
    "        column_width = None\n",
    "        table_width = 1.0\n",
    "        alignment = None\n",
    "        has_header = True\n",
    "    # get caption\n",
    "    if caption != None:\n",
    "        caption = panflute.convert_text(caption)[0].content\n",
    "    # get column_width\n",
    "    if column_width != None:\n",
    "        column_width = [float(x) for x in column_width.split(\",\")]\n",
    "    else:\n",
    "        column_width_abs = [max([max([len(line) for line in row[i].split(\"\\n\")]) for row in list(reader)]) for i in range(noOfColumn)]\n",
    "        column_width_tot = sum(column_width_abs)\n",
    "        column_width = [column_width_abs[i]/column_width_tot*float(table_width) for i in range(noOfColumn)]\n",
    "    # get alignment\n",
    "    if alignment != None:\n",
    "        alignment = [x.strip() for x in alignment.split(\",\")]\n",
    "    # finalize table according to metadata\n",
    "    header = body.pop(0) if has_header else panflute.TableRow(*[panflute.TableCell() for i in range(noOfColumn)])\n",
    "    table = panflute.Table(*body, header=header, caption=caption, width=column_width, alignment=alignment)\n",
    "    return table\n",
    "\n",
    "# We'll only run this for CodeBlock elements of class 'csv'\n",
    "if __name__ == '__main__':\n",
    "    panflute.toJSONFilter(panflute.yaml_filter, tag='csv', function=fenced_csv)"
   ]
  },
  {
   "cell_type": "code",
   "execution_count": 4,
   "metadata": {
    "collapsed": false
   },
   "outputs": [
    {
     "name": "stdout",
     "output_type": "stream",
     "text": [
      "JSON Simple ================================================================================\n",
      "{\"pandoc-api-version\":[1,17,0,4],\"meta\":{},\"blocks\":[{\"t\":\"Table\",\"c\":[[],[{\"t\":\"AlignDefault\"},{\"t\":\"AlignDefault\"},{\"t\":\"AlignDefault\"},{\"t\":\"AlignDefault\"}],[0.22499999999999998,0.16874999999999998,0.22499999999999998,0.5812499999999999],[[{\"t\":\"Para\",\"c\":[{\"t\":\"Strong\",\"c\":[{\"t\":\"Emph\",\"c\":[{\"t\":\"Str\",\"c\":\"Fruit\"}]}]}]}],[{\"t\":\"Para\",\"c\":[{\"t\":\"Strikeout\",\"c\":[{\"t\":\"Str\",\"c\":\"Price\"}]}]}],[{\"t\":\"Para\",\"c\":[{\"t\":\"Emph\",\"c\":[{\"t\":\"Str\",\"c\":\"Number\"}]}]}],[{\"t\":\"Para\",\"c\":[{\"t\":\"Code\",\"c\":[[\"\",[],[]],\"Advantages\"]}]}]],[[[{\"t\":\"Para\",\"c\":[{\"t\":\"Emph\",\"c\":[{\"t\":\"Str\",\"c\":\"Bananas\"},{\"t\":\"Subscript\",\"c\":[{\"t\":\"Str\",\"c\":\"1\"}]}]}]}],[{\"t\":\"Para\",\"c\":[{\"t\":\"Str\",\"c\":\"$1.34\"}]}],[{\"t\":\"Para\",\"c\":[{\"t\":\"Str\",\"c\":\"12\"},{\"t\":\"Subscript\",\"c\":[{\"t\":\"Str\",\"c\":\"units\"}]}]}],[{\"t\":\"Para\",\"c\":[{\"t\":\"Str\",\"c\":\"Benefits\"},{\"t\":\"Space\"},{\"t\":\"Str\",\"c\":\"of\"},{\"t\":\"Space\"},{\"t\":\"Str\",\"c\":\"eating\"},{\"t\":\"Space\"},{\"t\":\"Str\",\"c\":\"bananas\"},{\"t\":\"SoftBreak\"},{\"t\":\"Str\",\"c\":\"(\"},{\"t\":\"Strong\",\"c\":[{\"t\":\"Str\",\"c\":\"Note\"},{\"t\":\"Space\"},{\"t\":\"Str\",\"c\":\"the\"},{\"t\":\"Space\"},{\"t\":\"Str\",\"c\":\"appropriately\"},{\"t\":\"SoftBreak\"},{\"t\":\"Str\",\"c\":\"rendered\"},{\"t\":\"Space\"},{\"t\":\"Str\",\"c\":\"block\"},{\"t\":\"Space\"},{\"t\":\"Str\",\"c\":\"markdown\"}]},{\"t\":\"Str\",\"c\":\"):\"}]},{\"t\":\"BulletList\",\"c\":[[{\"t\":\"Plain\",\"c\":[{\"t\":\"Emph\",\"c\":[{\"t\":\"Str\",\"c\":\"built-in\"},{\"t\":\"Space\"},{\"t\":\"Str\",\"c\":\"wrapper\"}]},{\"t\":\"LineBreak\"}]}],[{\"t\":\"Plain\",\"c\":[{\"t\":\"Strikeout\",\"c\":[{\"t\":\"Strong\",\"c\":[{\"t\":\"Str\",\"c\":\"bright\"},{\"t\":\"Space\"},{\"t\":\"Str\",\"c\":\"color\"}]}]}]}]]}]],[[{\"t\":\"Para\",\"c\":[{\"t\":\"Emph\",\"c\":[{\"t\":\"Str\",\"c\":\"Oranges\"},{\"t\":\"Subscript\",\"c\":[{\"t\":\"Str\",\"c\":\"2\"}]}]}]}],[{\"t\":\"Para\",\"c\":[{\"t\":\"Str\",\"c\":\"$2.10\"}]}],[{\"t\":\"Para\",\"c\":[{\"t\":\"Str\",\"c\":\"5\"},{\"t\":\"Superscript\",\"c\":[{\"t\":\"Str\",\"c\":\"10\"}]},{\"t\":\"Subscript\",\"c\":[{\"t\":\"Str\",\"c\":\"units\"}]}]}],[{\"t\":\"Para\",\"c\":[{\"t\":\"Str\",\"c\":\"Benefits\"},{\"t\":\"Space\"},{\"t\":\"Str\",\"c\":\"of\"},{\"t\":\"Space\"},{\"t\":\"Str\",\"c\":\"eating\"},{\"t\":\"Space\"},{\"t\":\"Str\",\"c\":\"oranges:\"}]},{\"t\":\"BulletList\",\"c\":[[{\"t\":\"Plain\",\"c\":[{\"t\":\"Strong\",\"c\":[{\"t\":\"Str\",\"c\":\"cures\"}]},{\"t\":\"Space\"},{\"t\":\"Str\",\"c\":\"scurvy\"}]}],[{\"t\":\"Plain\",\"c\":[{\"t\":\"Code\",\"c\":[[\"\",[],[]],\"tasty\"]}]}]]}]]]]}]}\n",
      " Native Simple ================================================================================\n",
      "[Table [] [AlignDefault,AlignDefault,AlignDefault,AlignDefault] [0.22499999999999998,0.16874999999999998,0.22499999999999998,0.5812499999999999]\n",
      " [[Para [Strong [Emph [Str \"Fruit\"]]]]\n",
      " ,[Para [Strikeout [Str \"Price\"]]]\n",
      " ,[Para [Emph [Str \"Number\"]]]\n",
      " ,[Para [Code (\"\",[],[]) \"Advantages\"]]]\n",
      " [[[Para [Emph [Str \"Bananas\",Subscript [Str \"1\"]]]]\n",
      "  ,[Para [Str \"$1.34\"]]\n",
      "  ,[Para [Str \"12\",Subscript [Str \"units\"]]]\n",
      "  ,[Para [Str \"Benefits\",Space,Str \"of\",Space,Str \"eating\",Space,Str \"bananas\",SoftBreak,Str \"(\",Strong [Str \"Note\",Space,Str \"the\",Space,Str \"appropriately\",SoftBreak,Str \"rendered\",Space,Str \"block\",Space,Str \"markdown\"],Str \"):\"]\n",
      "   ,BulletList\n",
      "    [[Plain [Emph [Str \"built-in\",Space,Str \"wrapper\"],LineBreak]]\n",
      "    ,[Plain [Strikeout [Strong [Str \"bright\",Space,Str \"color\"]]]]]]]\n",
      " ,[[Para [Emph [Str \"Oranges\",Subscript [Str \"2\"]]]]\n",
      "  ,[Para [Str \"$2.10\"]]\n",
      "  ,[Para [Str \"5\",Superscript [Str \"10\"],Subscript [Str \"units\"]]]\n",
      "  ,[Para [Str \"Benefits\",Space,Str \"of\",Space,Str \"eating\",Space,Str \"oranges:\"]\n",
      "   ,BulletList\n",
      "    [[Plain [Strong [Str \"cures\"],Space,Str \"scurvy\"]]\n",
      "    ,[Plain [Code (\"\",[],[]) \"tasty\"]]]]]]]\n",
      "\n",
      " Markdown Simple ================================================================================\n",
      "+------------------+--------------+------------------+-------------------------------------------+\n",
      "| ***Fruit***      | ~~Price~~    | *Number*         | `Advantages`                              |\n",
      "+==================+==============+==================+===========================================+\n",
      "| *Bananas~1~*     | \\$1.34       | 12~units~        | Benefits of eating bananas (**Note the    |\n",
      "|                  |              |                  | appropriately rendered block markdown**): |\n",
      "|                  |              |                  |                                           |\n",
      "|                  |              |                  | -   *built-in wrapper*\\                   |\n",
      "|                  |              |                  | -   ~~**bright color**~~                  |\n",
      "+------------------+--------------+------------------+-------------------------------------------+\n",
      "| *Oranges~2~*     | \\$2.10       | 5^10^~units~     | Benefits of eating oranges:               |\n",
      "|                  |              |                  |                                           |\n",
      "|                  |              |                  | -   **cures** scurvy                      |\n",
      "|                  |              |                  | -   `tasty`                               |\n",
      "+------------------+--------------+------------------+-------------------------------------------+\n",
      "\n",
      "\n",
      "JSON Full ================================================================================\n",
      "{\"pandoc-api-version\":[1,17,0,4],\"meta\":{},\"blocks\":[{\"t\":\"Table\",\"c\":[[{\"t\":\"Emph\",\"c\":[{\"t\":\"Str\",\"c\":\"Great\"}]},{\"t\":\"Space\"},{\"t\":\"Str\",\"c\":\"Title\"}],[{\"t\":\"AlignLeft\"},{\"t\":\"AlignRight\"},{\"t\":\"AlignCenter\"},{\"t\":\"AlignDefault\"}],[0.1,0.2,0.3,0.4],[[],[],[],[]],[[[{\"t\":\"Para\",\"c\":[{\"t\":\"Strong\",\"c\":[{\"t\":\"Emph\",\"c\":[{\"t\":\"Str\",\"c\":\"Fruit\"}]}]}]}],[{\"t\":\"Para\",\"c\":[{\"t\":\"Strikeout\",\"c\":[{\"t\":\"Str\",\"c\":\"Price\"}]}]}],[{\"t\":\"Para\",\"c\":[{\"t\":\"Emph\",\"c\":[{\"t\":\"Str\",\"c\":\"Number\"}]}]}],[{\"t\":\"Para\",\"c\":[{\"t\":\"Code\",\"c\":[[\"\",[],[]],\"Advantages\"]}]}]],[[{\"t\":\"Para\",\"c\":[{\"t\":\"Emph\",\"c\":[{\"t\":\"Str\",\"c\":\"Bananas\"},{\"t\":\"Subscript\",\"c\":[{\"t\":\"Str\",\"c\":\"1\"}]}]}]}],[{\"t\":\"Para\",\"c\":[{\"t\":\"Str\",\"c\":\"$1.34\"}]}],[{\"t\":\"Para\",\"c\":[{\"t\":\"Str\",\"c\":\"12\"},{\"t\":\"Subscript\",\"c\":[{\"t\":\"Str\",\"c\":\"units\"}]}]}],[{\"t\":\"Para\",\"c\":[{\"t\":\"Str\",\"c\":\"Benefits\"},{\"t\":\"Space\"},{\"t\":\"Str\",\"c\":\"of\"},{\"t\":\"Space\"},{\"t\":\"Str\",\"c\":\"eating\"},{\"t\":\"Space\"},{\"t\":\"Str\",\"c\":\"bananas\"},{\"t\":\"SoftBreak\"},{\"t\":\"Str\",\"c\":\"(\"},{\"t\":\"Strong\",\"c\":[{\"t\":\"Str\",\"c\":\"Note\"},{\"t\":\"Space\"},{\"t\":\"Str\",\"c\":\"the\"},{\"t\":\"Space\"},{\"t\":\"Str\",\"c\":\"appropriately\"},{\"t\":\"SoftBreak\"},{\"t\":\"Str\",\"c\":\"rendered\"},{\"t\":\"Space\"},{\"t\":\"Str\",\"c\":\"block\"},{\"t\":\"Space\"},{\"t\":\"Str\",\"c\":\"markdown\"}]},{\"t\":\"Str\",\"c\":\"):\"}]},{\"t\":\"BulletList\",\"c\":[[{\"t\":\"Plain\",\"c\":[{\"t\":\"Emph\",\"c\":[{\"t\":\"Str\",\"c\":\"built-in\"},{\"t\":\"Space\"},{\"t\":\"Str\",\"c\":\"wrapper\"}]},{\"t\":\"LineBreak\"}]}],[{\"t\":\"Plain\",\"c\":[{\"t\":\"Strikeout\",\"c\":[{\"t\":\"Strong\",\"c\":[{\"t\":\"Str\",\"c\":\"bright\"},{\"t\":\"Space\"},{\"t\":\"Str\",\"c\":\"color\"}]}]}]}]]}]],[[{\"t\":\"Para\",\"c\":[{\"t\":\"Emph\",\"c\":[{\"t\":\"Str\",\"c\":\"Oranges\"},{\"t\":\"Subscript\",\"c\":[{\"t\":\"Str\",\"c\":\"2\"}]}]}]}],[{\"t\":\"Para\",\"c\":[{\"t\":\"Str\",\"c\":\"$2.10\"}]}],[{\"t\":\"Para\",\"c\":[{\"t\":\"Str\",\"c\":\"5\"},{\"t\":\"Superscript\",\"c\":[{\"t\":\"Str\",\"c\":\"10\"}]},{\"t\":\"Subscript\",\"c\":[{\"t\":\"Str\",\"c\":\"units\"}]}]}],[{\"t\":\"Para\",\"c\":[{\"t\":\"Str\",\"c\":\"Benefits\"},{\"t\":\"Space\"},{\"t\":\"Str\",\"c\":\"of\"},{\"t\":\"Space\"},{\"t\":\"Str\",\"c\":\"eating\"},{\"t\":\"Space\"},{\"t\":\"Str\",\"c\":\"oranges:\"}]},{\"t\":\"BulletList\",\"c\":[[{\"t\":\"Plain\",\"c\":[{\"t\":\"Strong\",\"c\":[{\"t\":\"Str\",\"c\":\"cures\"}]},{\"t\":\"Space\"},{\"t\":\"Str\",\"c\":\"scurvy\"}]}],[{\"t\":\"Plain\",\"c\":[{\"t\":\"Code\",\"c\":[[\"\",[],[]],\"tasty\"]}]}]]}]]]]}]}\n",
      " Native Full ================================================================================\n",
      "[Table [Emph [Str \"Great\"],Space,Str \"Title\"] [AlignLeft,AlignRight,AlignCenter,AlignDefault] [0.1,0.2,0.3,0.4]\n",
      " [[]\n",
      " ,[]\n",
      " ,[]\n",
      " ,[]]\n",
      " [[[Para [Strong [Emph [Str \"Fruit\"]]]]\n",
      "  ,[Para [Strikeout [Str \"Price\"]]]\n",
      "  ,[Para [Emph [Str \"Number\"]]]\n",
      "  ,[Para [Code (\"\",[],[]) \"Advantages\"]]]\n",
      " ,[[Para [Emph [Str \"Bananas\",Subscript [Str \"1\"]]]]\n",
      "  ,[Para [Str \"$1.34\"]]\n",
      "  ,[Para [Str \"12\",Subscript [Str \"units\"]]]\n",
      "  ,[Para [Str \"Benefits\",Space,Str \"of\",Space,Str \"eating\",Space,Str \"bananas\",SoftBreak,Str \"(\",Strong [Str \"Note\",Space,Str \"the\",Space,Str \"appropriately\",SoftBreak,Str \"rendered\",Space,Str \"block\",Space,Str \"markdown\"],Str \"):\"]\n",
      "   ,BulletList\n",
      "    [[Plain [Emph [Str \"built-in\",Space,Str \"wrapper\"],LineBreak]]\n",
      "    ,[Plain [Strikeout [Strong [Str \"bright\",Space,Str \"color\"]]]]]]]\n",
      " ,[[Para [Emph [Str \"Oranges\",Subscript [Str \"2\"]]]]\n",
      "  ,[Para [Str \"$2.10\"]]\n",
      "  ,[Para [Str \"5\",Superscript [Str \"10\"],Subscript [Str \"units\"]]]\n",
      "  ,[Para [Str \"Benefits\",Space,Str \"of\",Space,Str \"eating\",Space,Str \"oranges:\"]\n",
      "   ,BulletList\n",
      "    [[Plain [Strong [Str \"cures\"],Space,Str \"scurvy\"]]\n",
      "    ,[Plain [Code (\"\",[],[]) \"tasty\"]]]]]]]\n",
      "\n",
      " Markdown Full ================================================================================\n",
      "+---------+----------------+-----------------------+------------------------------+\n",
      "| ***Frui | ~~Price~~      | *Number*              | `Advantages`                 |\n",
      "| t***    |                |                       |                              |\n",
      "+---------+----------------+-----------------------+------------------------------+\n",
      "| *Banana | \\$1.34         | 12~units~             | Benefits of eating bananas   |\n",
      "| s~1~*   |                |                       | (**Note the appropriately    |\n",
      "|         |                |                       | rendered block markdown**):  |\n",
      "|         |                |                       |                              |\n",
      "|         |                |                       | -   *built-in wrapper*\\      |\n",
      "|         |                |                       | -   ~~**bright color**~~     |\n",
      "+---------+----------------+-----------------------+------------------------------+\n",
      "| *Orange | \\$2.10         | 5^10^~units~          | Benefits of eating oranges:  |\n",
      "| s~2~*   |                |                       |                              |\n",
      "|         |                |                       | -   **cures** scurvy         |\n",
      "|         |                |                       | -   `tasty`                  |\n",
      "+---------+----------------+-----------------------+------------------------------+\n",
      "\n",
      ": *Great* Title\n",
      "\n",
      "\n"
     ]
    }
   ],
   "source": [
    "!chmod +x ../bin/csv-tables.py\n",
    "print(\"JSON\", \"Simple\", \"=\"*80)\n",
    "!pandoc test-simple.md -t json | ../bin/csv-tables.py\n",
    "print(\"\\n\", \"Native\", \"Simple\", \"=\"*80)\n",
    "!pandoc --filter=../bin/csv-tables.py test-simple.md -t native\n",
    "print(\"\\n\", \"Markdown\", \"Simple\", \"=\"*80)\n",
    "!pandoc --filter=../bin/csv-tables.py test-simple.md -t markdown\n",
    "print(\"JSON\", \"Full\", \"=\"*80)\n",
    "!pandoc test-full.md -t json | ../bin/csv-tables.py\n",
    "print(\"\\n\", \"Native\", \"Full\", \"=\"*80)\n",
    "!pandoc --filter=../bin/csv-tables.py test-full.md -t native\n",
    "print(\"\\n\", \"Markdown\", \"Full\", \"=\"*80)\n",
    "!pandoc --filter=../bin/csv-tables.py test-full.md -t markdown"
   ]
  },
  {
   "cell_type": "code",
   "execution_count": null,
   "metadata": {
    "collapsed": true
   },
   "outputs": [],
   "source": []
  }
 ],
 "metadata": {
  "kernelspec": {
   "display_name": "Python 3",
   "language": "python",
   "name": "python3"
  },
  "language_info": {
   "codemirror_mode": {
    "name": "ipython",
    "version": 3
   },
   "file_extension": ".py",
   "mimetype": "text/x-python",
   "name": "python",
   "nbconvert_exporter": "python",
   "pygments_lexer": "ipython3",
   "version": "3.5.2"
  }
 },
 "nbformat": 4,
 "nbformat_minor": 1
}
