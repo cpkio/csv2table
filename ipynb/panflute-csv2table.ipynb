{
 "cells": [
  {
   "cell_type": "markdown",
   "metadata": {},
   "source": [
    "# Write input.md (Choose One Only)"
   ]
  },
  {
   "cell_type": "markdown",
   "metadata": {},
   "source": [
    "## Comparison"
   ]
  },
  {
   "cell_type": "markdown",
   "metadata": {
    "collapsed": false
   },
   "source": [
    "%%writefile input.md\n",
    "~~~csv\n",
    "---\n",
    "table-width: 1.3\n",
    "---\n",
    ",pandoc-csv2table,pandoc-placetable,panflute example,my proposal\n",
    "type,type=simple|multiline|grid|pipe,,,\n",
    "header,header=yes|no,header=yes|no,header: True|False,header: True|False\n",
    "caption,caption,caption,title,caption\n",
    "source,source,file,source,source\n",
    "aligns,aligns=LRCD,aligns=LRCD,,alignment: LRCD\n",
    "width,,\"widths=\"\"0.5 0.2 0.3\"\"\",,\"column-width: [0.5, 0.2, 0.3]\"\n",
    ",,inlinemarkdown,,markdown: True|False\n",
    ",,delimiter,,\n",
    ",,quotechar,,\n",
    ",,id (wrapped by div),,\n",
    "~~~"
   ]
  },
  {
   "cell_type": "markdown",
   "metadata": {},
   "source": [
    "## Simple Test"
   ]
  },
  {
   "cell_type": "markdown",
   "metadata": {},
   "source": [
    "%%writefile input.md\n",
    "~~~csv\n",
    "**_Fruit_**,~~Price~~,_Number_,`Advantages`\n",
    "*Bananas~1~*,$1.34,12~units~,\"Benefits of eating bananas \n",
    "(**Note the appropriately\n",
    "rendered block markdown**):    \n",
    "\n",
    "- _built-in wrapper_        \n",
    "- ~~**bright color**~~\n",
    "\n",
    "\"\n",
    "*Oranges~2~*,$2.10,5^10^~units~,\"Benefits of eating oranges:\n",
    "\n",
    "- **cures** scurvy\n",
    "- `tasty`\"\n",
    "~~~"
   ]
  },
  {
   "cell_type": "markdown",
   "metadata": {},
   "source": [
    "## Full Test (This one goes into the docstring)"
   ]
  },
  {
   "cell_type": "code",
   "execution_count": 1,
   "metadata": {
    "collapsed": false
   },
   "outputs": [
    {
     "name": "stdout",
     "output_type": "stream",
     "text": [
      "Overwriting input.md\n"
     ]
    }
   ],
   "source": [
    "%%writefile input.md\n",
    "~~~csv\n",
    "---\n",
    "caption: \"*Great* Title\"\n",
    "header: False\n",
    "width:\n",
    "  - 0.1\n",
    "  - 0.2\n",
    "  - 0.3\n",
    "  - 0.4\n",
    "alignment: LRC\n",
    "...\n",
    "**_Fruit_**,~~Price~~,_Number_,`Advantages`\n",
    "*Bananas~1~*,$1.34,12~units~,\"Benefits of eating bananas \n",
    "(**Note the appropriately\n",
    "rendered block markdown**):    \n",
    "\n",
    "- _built-in wrapper_        \n",
    "- ~~**bright color**~~\n",
    "\n",
    "\"\n",
    "*Oranges~2~*,$2.10,5^10^~units~,\"Benefits of eating oranges:\n",
    "\n",
    "- **cures** scurvy\n",
    "- `tasty`\"\n",
    "~~~\n"
   ]
  },
  {
   "cell_type": "markdown",
   "metadata": {},
   "source": [
    "## Testing wrong type"
   ]
  },
  {
   "cell_type": "markdown",
   "metadata": {},
   "source": [
    "%%writefile input.md\n",
    "~~~csv\n",
    "**_Fruit_**,~~Price~~,_Number_,`Advantages`\n",
    "*Bananas~1~*,$1.34,12~units~,\"Benefits of eating bananas \n",
    "(**Note the appropriately\n",
    "rendered block markdown**):    \n",
    "\n",
    "- _built-in wrapper_        \n",
    "- ~~**bright color**~~\n",
    "\n",
    "---\n",
    "caption: 0.1\n",
    "header: IDK\n",
    "markdown: false\n",
    "...\n",
    "\n",
    "\"\n",
    "*Oranges~2~*,$2.10,5^10^~units~,\"Benefits of eating oranges:\n",
    "\n",
    "- **cures** scurvy\n",
    "- `tasty`\"\n",
    "\n",
    "\n",
    "---\n",
    "width:\n",
    "- -0.1\n",
    "- -0.2\n",
    "- -0.3\n",
    "- -0.4\n",
    "alignment: 0.1\n",
    "---\n",
    "~~~\n"
   ]
  },
  {
   "cell_type": "markdown",
   "metadata": {},
   "source": [
    "## Testing Zero Table width"
   ]
  },
  {
   "cell_type": "markdown",
   "metadata": {},
   "source": [
    "%%writefile input.md\n",
    "~~~csv\n",
    ",\n",
    ",\n",
    "~~~\n"
   ]
  },
  {
   "cell_type": "markdown",
   "metadata": {},
   "source": [
    "## Test external CSV @todo"
   ]
  },
  {
   "cell_type": "markdown",
   "metadata": {},
   "source": [
    "%%writefile input.md\n",
    "~~~csv\n",
    "caption: \"*Great* Title\"\n",
    "header: False\n",
    "width: 0.1, 0.2, 0.3, 0.4\n",
    "alignment: AlignLeft, AlignRight, AlignCenter, AlignDefault\n",
    "source: ../source/grid.csv\n",
    "~~~"
   ]
  },
  {
   "cell_type": "markdown",
   "metadata": {},
   "source": [
    "# Write Filter"
   ]
  },
  {
   "cell_type": "code",
   "execution_count": 2,
   "metadata": {
    "collapsed": false
   },
   "outputs": [
    {
     "name": "stdout",
     "output_type": "stream",
     "text": [
      "Overwriting ../bin/csv-tables.py\n"
     ]
    }
   ],
   "source": [
    "%%writefile ../bin/csv-tables.py\n",
    "#!/usr/bin/env python3\n",
    "\n",
    "\"\"\"\n",
    "Panflute filter to parse CSV in fenced YAML code blocks\n",
    "\n",
    "5 metadata keys are recognized:\n",
    "\n",
    "-   caption: the caption of the table. If omitted, no caption will be inserted.\n",
    "-   header: If true, has a header row. default: true\n",
    "-   width: a list of relative width corresponding to the width of each columns.\n",
    "    default: auto calculate from the length of line in a (potentially multiline) cell.\n",
    "-   table-width: the relative width of the table (comparing to, say, \\linewidth).\n",
    "    default: 1.0\n",
    "-   alignment: a string of characters among L,R,C,D, case-insensitive,\n",
    "    corresponds to Left-aligned, Right-aligned, Center-aligned, Default-aligned respectively.\n",
    "    e.g. LCRD for a table with 4 columns\n",
    "    default: DDD...\n",
    "-   markdown: If CSV table cell contains markdown syntax or not. default: True\n",
    "\n",
    "When the metadata keys is invalid, the default will be used instead.\n",
    "\n",
    "e.g.\n",
    "\n",
    "```markdown\n",
    "~~~csv\n",
    "caption: \"*Great* Title\"\n",
    "header: False\n",
    "width:\n",
    "  - 0.1\n",
    "  - 0.2\n",
    "  - 0.3\n",
    "  - 0.4\n",
    "alignment: LRC\n",
    "---\n",
    "**_Fruit_**,~~Price~~,_Number_,`Advantages`\n",
    "*Bananas~1~*,$1.34,12~units~,\"Benefits of eating bananas \n",
    "(**Note the appropriately\n",
    "rendered block markdown**):    \n",
    "\n",
    "- _built-in wrapper_        \n",
    "- ~~**bright color**~~\n",
    "\n",
    "\"\n",
    "*Oranges~2~*,$2.10,5^10^~units~,\"Benefits of eating oranges:\n",
    "\n",
    "- **cures** scurvy\n",
    "- `tasty`\"\n",
    "~~~\n",
    "```\n",
    "\"\"\"\n",
    "\n",
    "import io\n",
    "import csv\n",
    "import panflute\n",
    "\n",
    "def yaml2table_metadata(options):\n",
    "    \"\"\"\n",
    "    It parses the options output from `panflute.yaml_filter` and\n",
    "    return it as variables (caption, width, table_width, alignment, header, markdown).\n",
    "    \n",
    "    It also check if the metadata is valid:\n",
    "    \n",
    "    - width set to None when invalid, each element in width set to 0 when negative\n",
    "    - table_width: set to 1.0 if invalid or not positive\n",
    "    - set header to True if invalid\n",
    "    - set markdown to True if invalid\n",
    "    \"\"\"\n",
    "    caption = options.get('caption')\n",
    "    width = options.get('width')\n",
    "    table_width = options.get('table-width',1.0)\n",
    "    alignment = options.get('alignment')\n",
    "    header = options.get('header',True)\n",
    "    markdown = options.get('markdown',True)\n",
    "    try:\n",
    "        width = [(float(x) if float(x) >= 0 else 0) for x in width]\n",
    "    except (TypeError, ValueError):\n",
    "        width = None\n",
    "    try:\n",
    "        table_width = float(table_width) if float(table_width) > 0 else 1.0\n",
    "    except (TypeError, ValueError):\n",
    "        table_width = 1.0\n",
    "    if not isinstance(header, bool):\n",
    "        if str(header).lower() == \"false\":\n",
    "            header = False\n",
    "        else:\n",
    "            header = True\n",
    "    if not isinstance(markdown, bool):\n",
    "        if str(markdown).lower() == \"false\":\n",
    "            markdown = False\n",
    "        else:\n",
    "            markdown = True\n",
    "    return (caption, width, table_width, alignment, header, markdown)\n",
    "\n",
    "def csv_data2table(data, markdown):\n",
    "    with io.StringIO(data) as f:\n",
    "        raw_table_list = list(csv.reader(f))\n",
    "    body = []\n",
    "    for row in raw_table_list:\n",
    "        if markdown:\n",
    "            cells = [panflute.TableCell(*panflute.convert_text(x)) for x in row]\n",
    "        else:\n",
    "            cells = [panflute.TableCell(panflute.Plain(panflute.Str(x))) for x in row]\n",
    "        body.append(panflute.TableRow(*cells))\n",
    "    # get no of columns of the table\n",
    "    number_of_columns = len(raw_table_list[0])\n",
    "    ## calculate width\n",
    "    if width == None:\n",
    "        width_abs = [max([max([len(line) for line in row[i].split(\"\\n\")]) for row in raw_table_list]) for i in range(number_of_columns)]\n",
    "        width_tot = sum(width_abs)\n",
    "        try:\n",
    "            width = [width_abs[i]/width_tot*table_width for i in range(number_of_columns)]\n",
    "        except ZeroDivisionError:\n",
    "            width = None\n",
    "    return (body, number_of_columns, width)\n",
    "\n",
    "def csv2table(options, data, element, doc):\n",
    "    # read YAML metadata\n",
    "    caption, width, table_width, alignment, header, markdown = yaml2table_metadata(options)\n",
    "    # read csv and convert to panflute table representation\n",
    "    body, number_of_columns, width = csv_data2table(data, markdown)\n",
    "    # transform metadata\n",
    "    ## convert caption from markdown\n",
    "    if caption != None:\n",
    "        caption = panflute.convert_text(str(caption))[0].content\n",
    "    \n",
    "    ## convert alignment string into pandoc format (AlignDefault, etc.)\n",
    "    if alignment != None:\n",
    "        alignment = str(alignment)\n",
    "        parsed_alignment = []\n",
    "        for i in range(number_of_columns):\n",
    "            try:\n",
    "                if alignment[i].lower() == \"l\":\n",
    "                    parsed_alignment.append(\"AlignLeft\")\n",
    "                elif alignment[i].lower() == \"c\":\n",
    "                    parsed_alignment.append(\"AlignCenter\")\n",
    "                elif alignment[i].lower() == \"r\":\n",
    "                    parsed_alignment.append(\"AlignRight\")\n",
    "                else:\n",
    "                    parsed_alignment.append(\"AlignDefault\")\n",
    "            except IndexError:\n",
    "                for i in range(number_of_columns-len(parsed_alignment)):\n",
    "                    parsed_alignment.append(\"AlignDefault\")\n",
    "        alignment = parsed_alignment\n",
    "\n",
    "    # finalize table according to metadata\n",
    "    header_row = body.pop(0) if header else None # panflute.TableRow(*[panflute.TableCell() for i in range(number_of_columns)]) # for panflute < 1.4.3\n",
    "    table = panflute.Table(*body, header=header_row, caption=caption, width=width, alignment=alignment)\n",
    "    return table\n",
    "\n",
    "# We'll only run this for CodeBlock elements of class 'csv'\n",
    "def main(doc=None):\n",
    "     return panflute.run_filter(panflute.yaml_filter, tag='csv', function=csv2table, strict_yaml=True)\n",
    "\n",
    "if __name__ == '__main__':\n",
    "    main()"
   ]
  },
  {
   "cell_type": "code",
   "execution_count": 3,
   "metadata": {
    "collapsed": true
   },
   "outputs": [],
   "source": [
    "!chmod +x ../bin/csv-tables.py"
   ]
  },
  {
   "cell_type": "markdown",
   "metadata": {},
   "source": [
    "# Output"
   ]
  },
  {
   "cell_type": "markdown",
   "metadata": {},
   "source": [
    "## Direct output"
   ]
  },
  {
   "cell_type": "code",
   "execution_count": 4,
   "metadata": {
    "collapsed": false
   },
   "outputs": [
    {
     "name": "stdout",
     "output_type": "stream",
     "text": [
      "Traceback (most recent call last):\n",
      "  File \"../bin/csv-tables.py\", line 155, in <module>\n",
      "    main()\n",
      "  File \"../bin/csv-tables.py\", line 152, in main\n",
      "    return panflute.run_filter(panflute.yaml_filter, tag='csv', function=csv2table, strict_yaml=True)\n",
      "  File \"/usr/local/lib/python3.5/site-packages/panflute/io.py\", line 249, in run_filter\n",
      "    return run_filters([action], *args, **kwargs)\n",
      "  File \"/usr/local/lib/python3.5/site-packages/panflute/io.py\", line 231, in run_filters\n",
      "    doc = doc.walk(action, doc)\n",
      "  File \"/usr/local/lib/python3.5/site-packages/panflute/base.py\", line 248, in walk\n",
      "    ans = list(chain.from_iterable(ans))\n",
      "  File \"/usr/local/lib/python3.5/site-packages/panflute/base.py\", line 246, in <genexpr>\n",
      "    ans = ((item,) if type(item) != list else item for item in ans)\n",
      "  File \"/usr/local/lib/python3.5/site-packages/panflute/base.py\", line 243, in <genexpr>\n",
      "    ans = (item.walk(action, doc) for item in obj)\n",
      "  File \"/usr/local/lib/python3.5/site-packages/panflute/base.py\", line 259, in walk\n",
      "    altered = action(self, doc)\n",
      "  File \"/usr/local/lib/python3.5/site-packages/panflute/tools.py\", line 282, in yaml_filter\n",
      "    element=element, doc=doc)\n",
      "  File \"../bin/csv-tables.py\", line 120, in csv2table\n",
      "    body, number_of_columns, width = csv_data2table(data, markdown)\n",
      "  File \"../bin/csv-tables.py\", line 107, in csv_data2table\n",
      "    if width == None:\n",
      "UnboundLocalError: local variable 'width' referenced before assignment\n"
     ]
    }
   ],
   "source": [
    "!pandoc input.md -t json | ../bin/csv-tables.py"
   ]
  },
  {
   "cell_type": "markdown",
   "metadata": {},
   "source": [
    "## Native Output"
   ]
  },
  {
   "cell_type": "code",
   "execution_count": 5,
   "metadata": {
    "collapsed": false
   },
   "outputs": [
    {
     "name": "stdout",
     "output_type": "stream",
     "text": [
      "Traceback (most recent call last):\r\n",
      "  File \"../bin/csv-tables.py\", line 155, in <module>\r\n",
      "    main()\r\n",
      "  File \"../bin/csv-tables.py\", line 152, in main\r\n",
      "    return panflute.run_filter(panflute.yaml_filter, tag='csv', function=csv2table, strict_yaml=True)\r\n",
      "  File \"/usr/local/lib/python3.5/site-packages/panflute/io.py\", line 249, in run_filter\r\n",
      "    return run_filters([action], *args, **kwargs)\r\n",
      "  File \"/usr/local/lib/python3.5/site-packages/panflute/io.py\", line 231, in run_filters\r\n",
      "    doc = doc.walk(action, doc)\r\n",
      "  File \"/usr/local/lib/python3.5/site-packages/panflute/base.py\", line 248, in walk\r\n",
      "    ans = list(chain.from_iterable(ans))\r\n",
      "  File \"/usr/local/lib/python3.5/site-packages/panflute/base.py\", line 246, in <genexpr>\r\n",
      "    ans = ((item,) if type(item) != list else item for item in ans)\r\n",
      "  File \"/usr/local/lib/python3.5/site-packages/panflute/base.py\", line 243, in <genexpr>\r\n",
      "    ans = (item.walk(action, doc) for item in obj)\r\n",
      "  File \"/usr/local/lib/python3.5/site-packages/panflute/base.py\", line 259, in walk\r\n",
      "    altered = action(self, doc)\r\n",
      "  File \"/usr/local/lib/python3.5/site-packages/panflute/tools.py\", line 282, in yaml_filter\r\n",
      "    element=element, doc=doc)\r\n",
      "  File \"../bin/csv-tables.py\", line 120, in csv2table\r\n",
      "    body, number_of_columns, width = csv_data2table(data, markdown)\r\n",
      "  File \"../bin/csv-tables.py\", line 107, in csv_data2table\r\n",
      "    if width == None:\r\n",
      "UnboundLocalError: local variable 'width' referenced before assignment\r\n",
      "pandoc: Error running filter ../bin/csv-tables.py\r\n",
      "Filter returned error status 1\r\n"
     ]
    }
   ],
   "source": [
    "!pandoc --filter=../bin/csv-tables.py input.md -t native"
   ]
  },
  {
   "cell_type": "markdown",
   "metadata": {},
   "source": [
    "## Markdown Output"
   ]
  },
  {
   "cell_type": "code",
   "execution_count": 6,
   "metadata": {
    "collapsed": false
   },
   "outputs": [
    {
     "name": "stdout",
     "output_type": "stream",
     "text": [
      "Traceback (most recent call last):\r\n",
      "  File \"../bin/csv-tables.py\", line 155, in <module>\r\n",
      "    main()\r\n",
      "  File \"../bin/csv-tables.py\", line 152, in main\r\n",
      "    return panflute.run_filter(panflute.yaml_filter, tag='csv', function=csv2table, strict_yaml=True)\r\n",
      "  File \"/usr/local/lib/python3.5/site-packages/panflute/io.py\", line 249, in run_filter\r\n",
      "    return run_filters([action], *args, **kwargs)\r\n",
      "  File \"/usr/local/lib/python3.5/site-packages/panflute/io.py\", line 231, in run_filters\r\n",
      "    doc = doc.walk(action, doc)\r\n",
      "  File \"/usr/local/lib/python3.5/site-packages/panflute/base.py\", line 248, in walk\r\n",
      "    ans = list(chain.from_iterable(ans))\r\n",
      "  File \"/usr/local/lib/python3.5/site-packages/panflute/base.py\", line 246, in <genexpr>\r\n",
      "    ans = ((item,) if type(item) != list else item for item in ans)\r\n",
      "  File \"/usr/local/lib/python3.5/site-packages/panflute/base.py\", line 243, in <genexpr>\r\n",
      "    ans = (item.walk(action, doc) for item in obj)\r\n",
      "  File \"/usr/local/lib/python3.5/site-packages/panflute/base.py\", line 259, in walk\r\n",
      "    altered = action(self, doc)\r\n",
      "  File \"/usr/local/lib/python3.5/site-packages/panflute/tools.py\", line 282, in yaml_filter\r\n",
      "    element=element, doc=doc)\r\n",
      "  File \"../bin/csv-tables.py\", line 120, in csv2table\r\n",
      "    body, number_of_columns, width = csv_data2table(data, markdown)\r\n",
      "  File \"../bin/csv-tables.py\", line 107, in csv_data2table\r\n",
      "    if width == None:\r\n",
      "UnboundLocalError: local variable 'width' referenced before assignment\r\n",
      "pandoc: Error running filter ../bin/csv-tables.py\r\n",
      "Filter returned error status 1\r\n"
     ]
    }
   ],
   "source": [
    "!pandoc --filter=../bin/csv-tables.py input.md -t markdown"
   ]
  },
  {
   "cell_type": "code",
   "execution_count": null,
   "metadata": {
    "collapsed": true
   },
   "outputs": [],
   "source": []
  }
 ],
 "metadata": {
  "kernelspec": {
   "display_name": "Python 3",
   "language": "python",
   "name": "python3"
  },
  "language_info": {
   "codemirror_mode": {
    "name": "ipython",
    "version": 3
   },
   "file_extension": ".py",
   "mimetype": "text/x-python",
   "name": "python",
   "nbconvert_exporter": "python",
   "pygments_lexer": "ipython3",
   "version": "3.5.2"
  }
 },
 "nbformat": 4,
 "nbformat_minor": 1
}
