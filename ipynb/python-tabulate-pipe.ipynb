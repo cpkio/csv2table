{
 "cells": [
  {
   "cell_type": "code",
   "execution_count": 1,
   "metadata": {
    "collapsed": false
   },
   "outputs": [],
   "source": [
    "import csv\n",
    "from tabulate import tabulate\n",
    "# from io import StringIO"
   ]
  },
  {
   "cell_type": "code",
   "execution_count": 2,
   "metadata": {
    "collapsed": false
   },
   "outputs": [],
   "source": [
    "with open('../source/pipe.csv', newline='') as f:\n",
    "    table1 = list(csv.reader(f))"
   ]
  },
  {
   "cell_type": "code",
   "execution_count": 3,
   "metadata": {
    "collapsed": false
   },
   "outputs": [
    {
     "name": "stdout",
     "output_type": "stream",
     "text": [
      "[['Right', 'Left', 'Default', 'Center'], ['12', '12', '12', '12'], ['123', '123', '123', '123'], ['1', '1', '1', '1']]\n"
     ]
    }
   ],
   "source": [
    "print(table1)"
   ]
  },
  {
   "cell_type": "code",
   "execution_count": 4,
   "metadata": {
    "collapsed": false
   },
   "outputs": [
    {
     "name": "stdout",
     "output_type": "stream",
     "text": [
      "  Right    Left    Default    Center\n",
      "     12      12         12        12\n",
      "    123     123        123       123\n",
      "      1       1          1         1\n"
     ]
    }
   ],
   "source": [
    "print(tabulate(table1,headers=\"firstrow\", tablefmt=\"plain\"))"
   ]
  },
  {
   "cell_type": "code",
   "execution_count": 5,
   "metadata": {
    "collapsed": false
   },
   "outputs": [
    {
     "name": "stdout",
     "output_type": "stream",
     "text": [
      "  Right    Left    Default    Center\n",
      "-------  ------  ---------  --------\n",
      "     12      12         12        12\n",
      "    123     123        123       123\n",
      "      1       1          1         1\n"
     ]
    }
   ],
   "source": [
    "print(tabulate(table1,headers=\"firstrow\", tablefmt=\"simple\"))"
   ]
  },
  {
   "cell_type": "code",
   "execution_count": 6,
   "metadata": {
    "collapsed": false
   },
   "outputs": [
    {
     "name": "stdout",
     "output_type": "stream",
     "text": [
      "+---------+--------+-----------+----------+\n",
      "|   Right |   Left |   Default |   Center |\n",
      "+=========+========+===========+==========+\n",
      "|      12 |     12 |        12 |       12 |\n",
      "+---------+--------+-----------+----------+\n",
      "|     123 |    123 |       123 |      123 |\n",
      "+---------+--------+-----------+----------+\n",
      "|       1 |      1 |         1 |        1 |\n",
      "+---------+--------+-----------+----------+\n"
     ]
    }
   ],
   "source": [
    "print(tabulate(table1,headers=\"firstrow\", tablefmt=\"grid\"))"
   ]
  },
  {
   "cell_type": "code",
   "execution_count": 7,
   "metadata": {
    "collapsed": false
   },
   "outputs": [
    {
     "name": "stdout",
     "output_type": "stream",
     "text": [
      "╒═════════╤════════╤═══════════╤══════════╕\n",
      "│   Right │   Left │   Default │   Center │\n",
      "╞═════════╪════════╪═══════════╪══════════╡\n",
      "│      12 │     12 │        12 │       12 │\n",
      "├─────────┼────────┼───────────┼──────────┤\n",
      "│     123 │    123 │       123 │      123 │\n",
      "├─────────┼────────┼───────────┼──────────┤\n",
      "│       1 │      1 │         1 │        1 │\n",
      "╘═════════╧════════╧═══════════╧══════════╛\n"
     ]
    }
   ],
   "source": [
    "print(tabulate(table1,headers=\"firstrow\", tablefmt=\"fancy_grid\"))"
   ]
  },
  {
   "cell_type": "code",
   "execution_count": 8,
   "metadata": {
    "collapsed": false
   },
   "outputs": [
    {
     "name": "stdout",
     "output_type": "stream",
     "text": [
      "|   Right |   Left |   Default |   Center |\n",
      "|--------:|-------:|----------:|---------:|\n",
      "|      12 |     12 |        12 |       12 |\n",
      "|     123 |    123 |       123 |      123 |\n",
      "|       1 |      1 |         1 |        1 |\n"
     ]
    }
   ],
   "source": [
    "print(tabulate(table1,headers=\"firstrow\", tablefmt=\"pipe\"))"
   ]
  },
  {
   "cell_type": "code",
   "execution_count": 9,
   "metadata": {
    "collapsed": false
   },
   "outputs": [
    {
     "name": "stdout",
     "output_type": "stream",
     "text": [
      "|   Right |   Left |   Default |   Center |\n",
      "|---------+--------+-----------+----------|\n",
      "|      12 |     12 |        12 |       12 |\n",
      "|     123 |    123 |       123 |      123 |\n",
      "|       1 |      1 |         1 |        1 |\n"
     ]
    }
   ],
   "source": [
    "print(tabulate(table1,headers=\"firstrow\", tablefmt=\"orgtbl\"))"
   ]
  },
  {
   "cell_type": "code",
   "execution_count": 10,
   "metadata": {
    "collapsed": false
   },
   "outputs": [
    {
     "name": "stdout",
     "output_type": "stream",
     "text": [
      "||   Right ||   Left ||   Default ||   Center ||\n",
      "|      12 |     12 |        12 |       12 |\n",
      "|     123 |    123 |       123 |      123 |\n",
      "|       1 |      1 |         1 |        1 |\n"
     ]
    }
   ],
   "source": [
    "print(tabulate(table1,headers=\"firstrow\", tablefmt=\"jira\"))"
   ]
  },
  {
   "cell_type": "code",
   "execution_count": 11,
   "metadata": {
    "collapsed": false
   },
   "outputs": [
    {
     "name": "stdout",
     "output_type": "stream",
     "text": [
      "+---------+--------+-----------+----------+\n",
      "|   Right |   Left |   Default |   Center |\n",
      "|---------+--------+-----------+----------|\n",
      "|      12 |     12 |        12 |       12 |\n",
      "|     123 |    123 |       123 |      123 |\n",
      "|       1 |      1 |         1 |        1 |\n",
      "+---------+--------+-----------+----------+\n"
     ]
    }
   ],
   "source": [
    "print(tabulate(table1,headers=\"firstrow\", tablefmt=\"psql\"))"
   ]
  },
  {
   "cell_type": "code",
   "execution_count": 12,
   "metadata": {
    "collapsed": false
   },
   "outputs": [
    {
     "name": "stdout",
     "output_type": "stream",
     "text": [
      "=======  ======  =========  ========\n",
      "  Right    Left    Default    Center\n",
      "=======  ======  =========  ========\n",
      "     12      12         12        12\n",
      "    123     123        123       123\n",
      "      1       1          1         1\n",
      "=======  ======  =========  ========\n"
     ]
    }
   ],
   "source": [
    "print(tabulate(table1,headers=\"firstrow\", tablefmt=\"rst\"))"
   ]
  },
  {
   "cell_type": "code",
   "execution_count": 13,
   "metadata": {
    "collapsed": false
   },
   "outputs": [
    {
     "name": "stdout",
     "output_type": "stream",
     "text": [
      "{| class=\"wikitable\" style=\"text-align: left;\"\n",
      "|+ <!-- caption -->\n",
      "|-\n",
      "! align=\"right\"|   Right !! align=\"right\"|   Left !! align=\"right\"|   Default !! align=\"right\"|   Center\n",
      "|-\n",
      "| align=\"right\"|      12 || align=\"right\"|     12 || align=\"right\"|        12 || align=\"right\"|       12\n",
      "|-\n",
      "| align=\"right\"|     123 || align=\"right\"|    123 || align=\"right\"|       123 || align=\"right\"|      123\n",
      "|-\n",
      "| align=\"right\"|       1 || align=\"right\"|      1 || align=\"right\"|         1 || align=\"right\"|        1\n",
      "|}\n"
     ]
    }
   ],
   "source": [
    "print(tabulate(table1,headers=\"firstrow\", tablefmt=\"mediawiki\"))"
   ]
  },
  {
   "cell_type": "code",
   "execution_count": 14,
   "metadata": {
    "collapsed": false
   },
   "outputs": [
    {
     "name": "stdout",
     "output_type": "stream",
     "text": [
      "||<style=\"text-align: right;\"> '''   Right ''' ||<style=\"text-align: right;\"> '''   Left ''' ||<style=\"text-align: right;\"> '''   Default ''' ||<style=\"text-align: right;\"> '''   Center ''' ||\n",
      "||<style=\"text-align: right;\">       12  ||<style=\"text-align: right;\">      12  ||<style=\"text-align: right;\">         12  ||<style=\"text-align: right;\">        12  ||\n",
      "||<style=\"text-align: right;\">      123  ||<style=\"text-align: right;\">     123  ||<style=\"text-align: right;\">        123  ||<style=\"text-align: right;\">       123  ||\n",
      "||<style=\"text-align: right;\">        1  ||<style=\"text-align: right;\">       1  ||<style=\"text-align: right;\">          1  ||<style=\"text-align: right;\">         1  ||\n"
     ]
    }
   ],
   "source": [
    "print(tabulate(table1,headers=\"firstrow\", tablefmt=\"moinmoin\"))"
   ]
  },
  {
   "cell_type": "code",
   "execution_count": 15,
   "metadata": {
    "collapsed": false
   },
   "outputs": [
    {
     "name": "stdout",
     "output_type": "stream",
     "text": [
      "<table>\n",
      "<thead>\n",
      "<tr><th style=\"text-align: right;\">  Right</th><th style=\"text-align: right;\">  Left</th><th style=\"text-align: right;\">  Default</th><th style=\"text-align: right;\">  Center</th></tr>\n",
      "</thead>\n",
      "<tbody>\n",
      "<tr><td style=\"text-align: right;\">     12</td><td style=\"text-align: right;\">    12</td><td style=\"text-align: right;\">       12</td><td style=\"text-align: right;\">      12</td></tr>\n",
      "<tr><td style=\"text-align: right;\">    123</td><td style=\"text-align: right;\">   123</td><td style=\"text-align: right;\">      123</td><td style=\"text-align: right;\">     123</td></tr>\n",
      "<tr><td style=\"text-align: right;\">      1</td><td style=\"text-align: right;\">     1</td><td style=\"text-align: right;\">        1</td><td style=\"text-align: right;\">       1</td></tr>\n",
      "</tbody>\n",
      "</table>\n"
     ]
    }
   ],
   "source": [
    "print(tabulate(table1,headers=\"firstrow\", tablefmt=\"html\"))"
   ]
  },
  {
   "cell_type": "code",
   "execution_count": 16,
   "metadata": {
    "collapsed": false
   },
   "outputs": [
    {
     "name": "stdout",
     "output_type": "stream",
     "text": [
      "\\begin{tabular}{rrrr}\n",
      "\\hline\n",
      "   Right &   Left &   Default &   Center \\\\\n",
      "\\hline\n",
      "      12 &     12 &        12 &       12 \\\\\n",
      "     123 &    123 &       123 &      123 \\\\\n",
      "       1 &      1 &         1 &        1 \\\\\n",
      "\\hline\n",
      "\\end{tabular}\n"
     ]
    }
   ],
   "source": [
    "print(tabulate(table1,headers=\"firstrow\", tablefmt=\"latex\"))"
   ]
  },
  {
   "cell_type": "code",
   "execution_count": 17,
   "metadata": {
    "collapsed": false
   },
   "outputs": [
    {
     "name": "stdout",
     "output_type": "stream",
     "text": [
      "\\begin{tabular}{rrrr}\n",
      "\\toprule\n",
      "   Right &   Left &   Default &   Center \\\\\n",
      "\\midrule\n",
      "      12 &     12 &        12 &       12 \\\\\n",
      "     123 &    123 &       123 &      123 \\\\\n",
      "       1 &      1 &         1 &        1 \\\\\n",
      "\\bottomrule\n",
      "\\end{tabular}\n"
     ]
    }
   ],
   "source": [
    "print(tabulate(table1,headers=\"firstrow\", tablefmt=\"latex_booktabs\"))"
   ]
  },
  {
   "cell_type": "code",
   "execution_count": 18,
   "metadata": {
    "collapsed": false
   },
   "outputs": [
    {
     "name": "stdout",
     "output_type": "stream",
     "text": [
      "|_.    Right |_.   Left |_.   Default |_.   Center |\n",
      "|>.      12  |>.     12 |>.        12 |>.       12 |\n",
      "|>.     123  |>.    123 |>.       123 |>.      123 |\n",
      "|>.       1  |>.      1 |>.         1 |>.        1 |\n"
     ]
    }
   ],
   "source": [
    "print(tabulate(table1,headers=\"firstrow\", tablefmt=\"textile\"))"
   ]
  },
  {
   "cell_type": "code",
   "execution_count": null,
   "metadata": {
    "collapsed": true
   },
   "outputs": [],
   "source": []
  }
 ],
 "metadata": {
  "kernelspec": {
   "display_name": "Python 3",
   "language": "python",
   "name": "python3"
  },
  "language_info": {
   "codemirror_mode": {
    "name": "ipython",
    "version": 3
   },
   "file_extension": ".py",
   "mimetype": "text/x-python",
   "name": "python",
   "nbconvert_exporter": "python",
   "pygments_lexer": "ipython3",
   "version": "3.5.2"
  }
 },
 "nbformat": 4,
 "nbformat_minor": 1
}
