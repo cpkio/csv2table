{
 "cells": [
  {
   "cell_type": "code",
   "execution_count": null,
   "metadata": {
    "collapsed": true
   },
   "outputs": [],
   "source": [
    "import panflute\n",
    "import io\n",
    "import csv"
   ]
  },
  {
   "cell_type": "code",
   "execution_count": null,
   "metadata": {
    "collapsed": true
   },
   "outputs": [],
   "source": [
    "Table?"
   ]
  },
  {
   "cell_type": "code",
   "execution_count": 2,
   "metadata": {
    "collapsed": false
   },
   "outputs": [
    {
     "name": "stdout",
     "output_type": "stream",
     "text": [
      "[Table [] [AlignDefault,AlignDefault] [0.0,0.0]\n",
      " []\n",
      " [[[Para [Str \"Something\"]\n",
      "   ,Para [Space,Str \"else\"]]\n",
      "  ,[Header 1 (\"\",[],[]) [Str \"Title\"]]]]]\n"
     ]
    }
   ],
   "source": [
    "from panflute import *\n",
    "x = [Para(Str('Something')), Para(Space, Str('else'))]\n",
    "c1 = TableCell(*x)\n",
    "c2 = TableCell(Header(Str('Title')))\n",
    "rows = [TableRow(c1, c2)]\n",
    "table = Table(*rows, header=None)\n",
    "print(convert_text([table], input_format='panflute', output_format='native'))"
   ]
  },
  {
   "cell_type": "code",
   "execution_count": null,
   "metadata": {
    "collapsed": false
   },
   "outputs": [],
   "source": [
    "import panflute\n",
    "import io\n",
    "md = 'Some *markdown* **text** ~xyz~'\n",
    "md2PanfluteJson = panflute.convert_text(md, input_format='markdown', output_format='json')\n",
    "print(md2PanfluteJson)\n",
    "with io.StringIO() as f:\n",
    "    panflute.dump(panflute.Doc(*md2PanfluteJson), f)\n",
    "    md2PandocJson = f.getvalue()\n",
    "print(md2PandocJson)\n",
    "# json_string = [str(i) for i in md2PandocJson]\n",
    "json_string = ''.join(md2PandocJson)\n",
    "print(json_string)\n",
    "md2json2md = panflute.convert_text(json_string, input_format='json', output_format='markdown')"
   ]
  },
  {
   "cell_type": "code",
   "execution_count": null,
   "metadata": {
    "collapsed": false
   },
   "outputs": [],
   "source": [
    "from panflute import *\n",
    "md = 'Some *markdown* **text** ~xyz~'\n",
    "md2json = convert_text(md, input_format='markdown', output_format='json')\n",
    "print(md2json)\n",
    "md2json2md = convert_text(md2json, input_format='native', output_format='markdown')\n",
    "print(md2json2md)"
   ]
  },
  {
   "cell_type": "markdown",
   "metadata": {},
   "source": [
    "# parse alignment"
   ]
  },
  {
   "cell_type": "code",
   "execution_count": null,
   "metadata": {
    "collapsed": true
   },
   "outputs": [],
   "source": [
    "alignment = 0.2\n",
    "alignment = str(alignment)\n",
    "noOfColumn = 4"
   ]
  },
  {
   "cell_type": "code",
   "execution_count": null,
   "metadata": {
    "collapsed": false
   },
   "outputs": [],
   "source": [
    "if alignment != None:\n",
    "    parsed_alignment = []\n",
    "    for i in range(noOfColumn):\n",
    "        try:\n",
    "            if alignment[i].lower() == \"l\":\n",
    "                parsed_alignment.append(\"AlignLeft\")\n",
    "            elif alignment[i].lower() == \"c\":\n",
    "                parsed_alignment.append(\"AlignCenter\")\n",
    "            elif alignment[i].lower() == \"r\":\n",
    "                parsed_alignment.append(\"AlignRight\")\n",
    "            else:\n",
    "                parsed_alignment.append(\"AlignDefault\")\n",
    "        except IndexError:\n",
    "            for i in range(noOfColumn-len(parsed_alignment)):\n",
    "                parsed_alignment.append(\"AlignDefault\")\n",
    "print(parsed_alignment)"
   ]
  },
  {
   "cell_type": "code",
   "execution_count": null,
   "metadata": {
    "collapsed": true
   },
   "outputs": [],
   "source": [
    "panflute.Table?"
   ]
  },
  {
   "cell_type": "markdown",
   "metadata": {},
   "source": [
    "# Calculate Column_width"
   ]
  },
  {
   "cell_type": "code",
   "execution_count": null,
   "metadata": {
    "collapsed": false
   },
   "outputs": [],
   "source": [
    "with open('../source/grid.csv', newline='') as f:\n",
    "    table1 = list(csv.reader(f))\n",
    "    f.seek(0)\n",
    "    noOfColumn = len(list(table1)[0])\n",
    "print(list(table1))\n",
    "print(noOfColumn)"
   ]
  },
  {
   "cell_type": "code",
   "execution_count": null,
   "metadata": {
    "collapsed": false
   },
   "outputs": [],
   "source": [
    "column_width_abs = [max([len(row[i]) for row in list(table1)]) for i in range(noOfColumn)]\n",
    "print(column_width_abs)\n",
    "print(sum(column_width_abs))"
   ]
  },
  {
   "cell_type": "code",
   "execution_count": null,
   "metadata": {
    "collapsed": false
   },
   "outputs": [],
   "source": [
    "print([[row[i].split(\"\\n\") for row in list(table1)] for i in range(noOfColumn)])"
   ]
  },
  {
   "cell_type": "code",
   "execution_count": null,
   "metadata": {
    "collapsed": false
   },
   "outputs": [],
   "source": [
    "column_width_abs = [max([max([len(line) for line in row[i].split(\"\\n\")]) for row in list(table1)]) for i in range(noOfColumn)]\n",
    "print(column_width_abs)\n",
    "print(sum(column_width_abs))"
   ]
  },
  {
   "cell_type": "code",
   "execution_count": null,
   "metadata": {
    "collapsed": false
   },
   "outputs": [],
   "source": [
    "column_width_tot = sum(column_width_abs)\n",
    "column_width = [column_width_abs[i]/column_width_tot for i in range(noOfColumn)]\n",
    "print(column_width)\n",
    "print(sum(column_width))"
   ]
  },
  {
   "cell_type": "markdown",
   "metadata": {},
   "source": [
    "# Others"
   ]
  },
  {
   "cell_type": "code",
   "execution_count": null,
   "metadata": {
    "collapsed": false
   },
   "outputs": [],
   "source": [
    "x = [Para(Str('Something')), Para(Space, Str('else'))]\n",
    "c1 = TableCell(*x)\n",
    "c2 = TableCell(Header(Str('Title')))\n",
    "rows = [TableRow(c1, c2)]\n",
    "table = Table(*rows, header=TableRow(c2,c1), alignment = [\"AlignLeft\", \"AlignRight\"])"
   ]
  },
  {
   "cell_type": "code",
   "execution_count": null,
   "metadata": {
    "collapsed": false
   },
   "outputs": [],
   "source": [
    "print(table)"
   ]
  },
  {
   "cell_type": "code",
   "execution_count": null,
   "metadata": {
    "collapsed": false
   },
   "outputs": [],
   "source": [
    "temp = \"AlignLeft, AlignRight, AlignCenter, AlignDefault\"\n",
    "print(temp)"
   ]
  },
  {
   "cell_type": "code",
   "execution_count": null,
   "metadata": {
    "collapsed": false
   },
   "outputs": [],
   "source": [
    "alignment = temp.split(\",\")\n",
    "print(alignment)\n",
    "type(alignment)"
   ]
  },
  {
   "cell_type": "code",
   "execution_count": null,
   "metadata": {
    "collapsed": false
   },
   "outputs": [],
   "source": [
    "print(rows[0])"
   ]
  },
  {
   "cell_type": "code",
   "execution_count": null,
   "metadata": {
    "collapsed": false
   },
   "outputs": [],
   "source": [
    "data = \"a,b,c,d\"\n",
    "has_header = False\n",
    "with io.StringIO(data) as f:\n",
    "    reader = csv.reader(f)\n",
    "    body = []\n",
    "    for row in reader:\n",
    "        cells = [pf.TableCell(*pf.convert_text(x)) for x in row]\n",
    "        body.append(pf.TableRow(*cells))\n",
    "    # get no of columns for header\n",
    "    f.seek(0)\n",
    "    noOfColumn = len(list(reader)[0])\n",
    "print(cells)\n",
    "print(noOfColumn)"
   ]
  },
  {
   "cell_type": "code",
   "execution_count": null,
   "metadata": {
    "collapsed": false
   },
   "outputs": [],
   "source": [
    "range(noOfColumn)"
   ]
  },
  {
   "cell_type": "code",
   "execution_count": null,
   "metadata": {
    "collapsed": false
   },
   "outputs": [],
   "source": [
    "head = pf.TableRow(*[pf.TableCell(pf.Plain(pf.Str(\"\"))) for i in range(noOfColumn)])\n",
    "print(head)"
   ]
  },
  {
   "cell_type": "code",
   "execution_count": null,
   "metadata": {
    "collapsed": false
   },
   "outputs": [],
   "source": [
    "header = body.pop(0) if has_header else [\"AlignDefault\"]*noOfColumn\n",
    "print(header)"
   ]
  },
  {
   "cell_type": "code",
   "execution_count": null,
   "metadata": {
    "collapsed": true
   },
   "outputs": [],
   "source": []
  }
 ],
 "metadata": {
  "kernelspec": {
   "display_name": "Python 3",
   "language": "python",
   "name": "python3"
  },
  "language_info": {
   "codemirror_mode": {
    "name": "ipython",
    "version": 3
   },
   "file_extension": ".py",
   "mimetype": "text/x-python",
   "name": "python",
   "nbconvert_exporter": "python",
   "pygments_lexer": "ipython3",
   "version": "3.5.2"
  }
 },
 "nbformat": 4,
 "nbformat_minor": 0
}
