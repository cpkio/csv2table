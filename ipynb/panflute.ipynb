{
 "cells": [
  {
   "cell_type": "code",
   "execution_count": 27,
   "metadata": {
    "collapsed": true
   },
   "outputs": [],
   "source": [
    "from panflute import *\n",
    "import io\n",
    "import csv"
   ]
  },
  {
   "cell_type": "code",
   "execution_count": 18,
   "metadata": {
    "collapsed": false
   },
   "outputs": [],
   "source": [
    "pf.Table?"
   ]
  },
  {
   "cell_type": "code",
   "execution_count": 22,
   "metadata": {
    "collapsed": false
   },
   "outputs": [],
   "source": [
    "x = [Para(Str('Something')), Para(Space, Str('else'))]\n",
    "c1 = TableCell(*x)\n",
    "c2 = TableCell(Header(Str('Title')))\n",
    "rows = [TableRow(c1, c2)]\n",
    "table = Table(*rows, header=TableRow(c2,c1), alignment = [\"AlignLeft\", \"AlignRight\"])"
   ]
  },
  {
   "cell_type": "code",
   "execution_count": 9,
   "metadata": {
    "collapsed": false
   },
   "outputs": [
    {
     "name": "stdout",
     "output_type": "stream",
     "text": [
      "Table(TableRow(TableCell(Para(Str(Something)) Para(Space Str(else))) TableCell(Header(Str(Title); level=1))); alignment=['AlignDefault', 'AlignDefault'], width=[0.0, 0.0], rows=1, cols=2)\n"
     ]
    }
   ],
   "source": [
    "print(table)"
   ]
  },
  {
   "cell_type": "code",
   "execution_count": 14,
   "metadata": {
    "collapsed": false
   },
   "outputs": [
    {
     "name": "stdout",
     "output_type": "stream",
     "text": [
      "AlignLeft, AlignRight, AlignCenter, AlignDefault\n"
     ]
    }
   ],
   "source": [
    "temp = \"AlignLeft, AlignRight, AlignCenter, AlignDefault\"\n",
    "print(temp)"
   ]
  },
  {
   "cell_type": "code",
   "execution_count": 17,
   "metadata": {
    "collapsed": false
   },
   "outputs": [
    {
     "name": "stdout",
     "output_type": "stream",
     "text": [
      "['AlignLeft', ' AlignRight', ' AlignCenter', ' AlignDefault']\n"
     ]
    },
    {
     "data": {
      "text/plain": [
       "list"
      ]
     },
     "execution_count": 17,
     "metadata": {},
     "output_type": "execute_result"
    }
   ],
   "source": [
    "alignment = temp.split(\",\")\n",
    "print(alignment)\n",
    "type(alignment)"
   ]
  },
  {
   "cell_type": "code",
   "execution_count": 25,
   "metadata": {
    "collapsed": false
   },
   "outputs": [
    {
     "name": "stdout",
     "output_type": "stream",
     "text": [
      "TableRow(TableCell(Para(Str(Something)) Para(Space Str(else))) TableCell(Header(Str(Title); level=1)))\n"
     ]
    }
   ],
   "source": [
    "print(rows[0])"
   ]
  },
  {
   "cell_type": "code",
   "execution_count": 44,
   "metadata": {
    "collapsed": false
   },
   "outputs": [
    {
     "name": "stdout",
     "output_type": "stream",
     "text": [
      "[TableCell(Para(Str(a))), TableCell(Para(Str(b))), TableCell(Para(Str(c))), TableCell(Para(Str(d)))]\n",
      "4\n"
     ]
    }
   ],
   "source": [
    "data = \"a,b,c,d\"\n",
    "has_header = False\n",
    "with io.StringIO(data) as f:\n",
    "    reader = csv.reader(f)\n",
    "    body = []\n",
    "    for row in reader:\n",
    "        cells = [pf.TableCell(*pf.convert_text(x)) for x in row]\n",
    "        body.append(pf.TableRow(*cells))\n",
    "    # get no of columns for header\n",
    "    f.seek(0)\n",
    "    noOfColumn = len(list(reader)[0])\n",
    "print(cells)\n",
    "print(noOfColumn)"
   ]
  },
  {
   "cell_type": "code",
   "execution_count": 53,
   "metadata": {
    "collapsed": false
   },
   "outputs": [
    {
     "data": {
      "text/plain": [
       "range(0, 4)"
      ]
     },
     "execution_count": 53,
     "metadata": {},
     "output_type": "execute_result"
    }
   ],
   "source": [
    "range(noOfColumn)"
   ]
  },
  {
   "cell_type": "code",
   "execution_count": 56,
   "metadata": {
    "collapsed": false
   },
   "outputs": [
    {
     "name": "stdout",
     "output_type": "stream",
     "text": [
      "TableRow(TableCell(Plain(Str())) TableCell(Plain(Str())) TableCell(Plain(Str())) TableCell(Plain(Str())))\n"
     ]
    }
   ],
   "source": [
    "head = pf.TableRow(*[pf.TableCell(pf.Plain(pf.Str(\"\"))) for i in range(noOfColumn)])\n",
    "print(head)"
   ]
  },
  {
   "cell_type": "code",
   "execution_count": 46,
   "metadata": {
    "collapsed": false
   },
   "outputs": [
    {
     "name": "stdout",
     "output_type": "stream",
     "text": [
      "['AlignDefault', 'AlignDefault', 'AlignDefault', 'AlignDefault']\n"
     ]
    }
   ],
   "source": [
    "header = body.pop(0) if has_header else [\"AlignDefault\"]*noOfColumn\n",
    "print(header)"
   ]
  },
  {
   "cell_type": "code",
   "execution_count": null,
   "metadata": {
    "collapsed": true
   },
   "outputs": [],
   "source": []
  }
 ],
 "metadata": {
  "kernelspec": {
   "display_name": "Python 3",
   "language": "python",
   "name": "python3"
  },
  "language_info": {
   "codemirror_mode": {
    "name": "ipython",
    "version": 3
   },
   "file_extension": ".py",
   "mimetype": "text/x-python",
   "name": "python",
   "nbconvert_exporter": "python",
   "pygments_lexer": "ipython3",
   "version": "3.5.2"
  }
 },
 "nbformat": 4,
 "nbformat_minor": 1
}
