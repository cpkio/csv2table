{
 "cells": [
  {
   "cell_type": "code",
   "execution_count": 1,
   "metadata": {
    "collapsed": false
   },
   "outputs": [],
   "source": [
    "import csv\n",
    "from terminaltables import *"
   ]
  },
  {
   "cell_type": "code",
   "execution_count": 2,
   "metadata": {
    "collapsed": false
   },
   "outputs": [],
   "source": [
    "with open('../source/simple.csv', newline='') as f:\n",
    "    table = list(csv.reader(f))"
   ]
  },
  {
   "cell_type": "code",
   "execution_count": 3,
   "metadata": {
    "collapsed": false
   },
   "outputs": [
    {
     "name": "stdout",
     "output_type": "stream",
     "text": [
      "[['Numbers', '_Words_'], ['1', '**Yes**'], ['2^2^', '*No*'], ['**_3_**', 'Yes']]\n"
     ]
    }
   ],
   "source": [
    "print(table)"
   ]
  },
  {
   "cell_type": "code",
   "execution_count": 4,
   "metadata": {
    "collapsed": false
   },
   "outputs": [
    {
     "name": "stdout",
     "output_type": "stream",
     "text": [
      "+---------+---------+\n",
      "| Numbers | _Words_ |\n",
      "+---------+---------+\n",
      "| 1       | **Yes** |\n",
      "| 2^2^    | *No*    |\n",
      "| **_3_** | Yes     |\n",
      "+---------+---------+\n"
     ]
    }
   ],
   "source": [
    "table1 = AsciiTable(table)\n",
    "print(table1.table)"
   ]
  },
  {
   "cell_type": "code",
   "execution_count": 5,
   "metadata": {
    "collapsed": false
   },
   "outputs": [
    {
     "name": "stdout",
     "output_type": "stream",
     "text": [
      "+---------+---------+\n",
      "| Numbers | _Words_ |\n",
      "+---------+---------+\n",
      "| 1       | **Yes** |\n",
      "+---------+---------+\n",
      "| 2^2^    | *No*    |\n",
      "+---------+---------+\n",
      "| **_3_** | Yes     |\n",
      "+---------+---------+\n"
     ]
    }
   ],
   "source": [
    "table1.inner_row_border = True\n",
    "print(table1.table)"
   ]
  },
  {
   "cell_type": "code",
   "execution_count": 6,
   "metadata": {
    "collapsed": false
   },
   "outputs": [
    {
     "name": "stdout",
     "output_type": "stream",
     "text": [
      "\u001b(0lqqqqqqqqqwqqqqqqqqqk\u001b(B\n",
      "\u001b(0x\u001b(B Numbers \u001b(0x\u001b(B _Words_ \u001b(0x\u001b(B\n",
      "\u001b(0tqqqqqqqqqnqqqqqqqqqu\u001b(B\n",
      "\u001b(0x\u001b(B 1       \u001b(0x\u001b(B **Yes** \u001b(0x\u001b(B\n",
      "\u001b(0x\u001b(B 2^2^    \u001b(0x\u001b(B *No*    \u001b(0x\u001b(B\n",
      "\u001b(0x\u001b(B **_3_** \u001b(0x\u001b(B Yes     \u001b(0x\u001b(B\n",
      "\u001b(0mqqqqqqqqqvqqqqqqqqqj\u001b(B\n"
     ]
    }
   ],
   "source": [
    "table2 = SingleTable(table)\n",
    "print(table2.table)"
   ]
  },
  {
   "cell_type": "code",
   "execution_count": 7,
   "metadata": {
    "collapsed": false
   },
   "outputs": [
    {
     "name": "stdout",
     "output_type": "stream",
     "text": [
      "╔═════════╦═════════╗\n",
      "║ Numbers ║ _Words_ ║\n",
      "╠═════════╬═════════╣\n",
      "║ 1       ║ **Yes** ║\n",
      "║ 2^2^    ║ *No*    ║\n",
      "║ **_3_** ║ Yes     ║\n",
      "╚═════════╩═════════╝\n"
     ]
    }
   ],
   "source": [
    "table3 = DoubleTable(table)\n",
    "print(table3.table)"
   ]
  },
  {
   "cell_type": "code",
   "execution_count": 8,
   "metadata": {
    "collapsed": false
   },
   "outputs": [
    {
     "name": "stdout",
     "output_type": "stream",
     "text": [
      "| Numbers | _Words_ |\n",
      "|---------|---------|\n",
      "| 1       | **Yes** |\n",
      "| 2^2^    | *No*    |\n",
      "| **_3_** | Yes     |\n"
     ]
    }
   ],
   "source": [
    "table4 = GithubFlavoredMarkdownTable(table)\n",
    "print(table4.table)"
   ]
  }
 ],
 "metadata": {
  "kernelspec": {
   "display_name": "Python 3",
   "language": "python",
   "name": "python3"
  },
  "language_info": {
   "codemirror_mode": {
    "name": "ipython",
    "version": 3
   },
   "file_extension": ".py",
   "mimetype": "text/x-python",
   "name": "python",
   "nbconvert_exporter": "python",
   "pygments_lexer": "ipython3",
   "version": "3.5.2"
  }
 },
 "nbformat": 4,
 "nbformat_minor": 1
}
