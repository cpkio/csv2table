{
 "cells": [
  {
   "cell_type": "markdown",
   "metadata": {},
   "source": [
    "# Notes\n",
    "\n",
    "- caption\n",
    "- alignment\n",
    "- width\n",
    "- header\n",
    "- content"
   ]
  },
  {
   "cell_type": "markdown",
   "metadata": {},
   "source": [
    "# Tests"
   ]
  },
  {
   "cell_type": "code",
   "execution_count": 1,
   "metadata": {
    "collapsed": false
   },
   "outputs": [
    {
     "data": {
      "text/plain": [
       "'1.6.8'"
      ]
     },
     "execution_count": 1,
     "metadata": {},
     "output_type": "execute_result"
    }
   ],
   "source": [
    "import panflute\n",
    "panflute.__version__"
   ]
  },
  {
   "cell_type": "code",
   "execution_count": 2,
   "metadata": {
    "collapsed": false
   },
   "outputs": [],
   "source": [
    "from pantable.pantable import *"
   ]
  },
  {
   "cell_type": "code",
   "execution_count": 3,
   "metadata": {
    "collapsed": false
   },
   "outputs": [],
   "source": [
    "# initialize\n",
    "data = r'''\n",
    "some,column\n",
    "1,2\n",
    "3,4\n",
    "'''\n",
    "table = convert2table({'caption': 'Some Title', 'markdown': True}, data)"
   ]
  },
  {
   "cell_type": "code",
   "execution_count": 4,
   "metadata": {
    "collapsed": false
   },
   "outputs": [
    {
     "data": {
      "text/plain": [
       "Table(TableRow(TableCell(Para(Str(some))) TableCell(Para(Str(column)))) TableRow(TableCell(Para(Str(1))) TableCell(Para(Str(2)))) TableRow(TableCell(Para(Str(3))) TableCell(Para(Str(4)))); alignment=['AlignDefault', 'AlignDefault'], width=[0.4, 0.6], rows=3, cols=2)"
      ]
     },
     "execution_count": 4,
     "metadata": {},
     "output_type": "execute_result"
    }
   ],
   "source": [
    "table"
   ]
  },
  {
   "cell_type": "code",
   "execution_count": 5,
   "metadata": {
    "collapsed": false,
    "scrolled": true
   },
   "outputs": [
    {
     "data": {
      "text/plain": [
       "ListContainer(Str(Some) Space Str(Title))"
      ]
     },
     "execution_count": 5,
     "metadata": {},
     "output_type": "execute_result"
    }
   ],
   "source": [
    "table.caption"
   ]
  },
  {
   "cell_type": "code",
   "execution_count": 6,
   "metadata": {
    "collapsed": false
   },
   "outputs": [
    {
     "data": {
      "text/plain": [
       "['AlignDefault', 'AlignDefault']"
      ]
     },
     "execution_count": 6,
     "metadata": {},
     "output_type": "execute_result"
    }
   ],
   "source": [
    "table.alignment"
   ]
  },
  {
   "cell_type": "code",
   "execution_count": 7,
   "metadata": {
    "collapsed": false
   },
   "outputs": [
    {
     "data": {
      "text/plain": [
       "[0.4, 0.6]"
      ]
     },
     "execution_count": 7,
     "metadata": {},
     "output_type": "execute_result"
    }
   ],
   "source": [
    "table.width"
   ]
  },
  {
   "cell_type": "code",
   "execution_count": 8,
   "metadata": {
    "collapsed": false
   },
   "outputs": [
    {
     "data": {
      "text/plain": [
       "TableRow(TableCell() TableCell())"
      ]
     },
     "execution_count": 8,
     "metadata": {},
     "output_type": "execute_result"
    }
   ],
   "source": [
    "table.header"
   ]
  },
  {
   "cell_type": "code",
   "execution_count": 9,
   "metadata": {
    "collapsed": false
   },
   "outputs": [
    {
     "data": {
      "text/plain": [
       "ListContainer(TableRow(TableCell(Para(Str(some))) TableCell(Para(Str(column)))) TableRow(TableCell(Para(Str(1))) TableCell(Para(Str(2)))) TableRow(TableCell(Para(Str(3))) TableCell(Para(Str(4)))))"
      ]
     },
     "execution_count": 9,
     "metadata": {},
     "output_type": "execute_result"
    }
   ],
   "source": [
    "table.content"
   ]
  },
  {
   "cell_type": "markdown",
   "metadata": {},
   "source": [
    "# Markdown Test Source"
   ]
  },
  {
   "cell_type": "markdown",
   "metadata": {},
   "source": [
    "## CSV Code Block"
   ]
  },
  {
   "cell_type": "code",
   "execution_count": 10,
   "metadata": {
    "collapsed": false
   },
   "outputs": [
    {
     "name": "stdout",
     "output_type": "stream",
     "text": [
      "Overwriting csvtable.md\n"
     ]
    }
   ],
   "source": [
    "%%writefile csvtable.md\n",
    "```table\n",
    "---\n",
    "caption: '*Awesome* **Markdown** Table'\n",
    "alignment: RC\n",
    "table-width: 0.7\n",
    "markdown: True\n",
    "---\n",
    "First row,defaulted to be header row,can be disabled\n",
    "1,cell can contain **markdown**,\"It can be aribrary block element:\n",
    "\n",
    "- following standard markdown syntax\n",
    "- like this\"\n",
    "2,\"Any markdown syntax, e.g.\",$$E = mc^2$$\n",
    "```"
   ]
  },
  {
   "cell_type": "markdown",
   "metadata": {},
   "source": [
    "### Native Format of CSV Code Block"
   ]
  },
  {
   "cell_type": "code",
   "execution_count": 11,
   "metadata": {
    "collapsed": false
   },
   "outputs": [
    {
     "name": "stdout",
     "output_type": "stream",
     "text": [
      "[CodeBlock (\"\",[\"table\"],[]) \"---\\ncaption: '*Awesome* **Markdown** Table'\\nalignment: RC\\ntable-width: 0.7\\nmarkdown: True\\n---\\nFirst row,defaulted to be header row,can be disabled\\n1,cell can contain **markdown**,\\\"It can be aribrary block element:\\n\\n- following standard markdown syntax\\n- like this\\\"\\n2,\\\"Any markdown syntax, e.g.\\\",$$E = mc^2$$\"]\r\n"
     ]
    }
   ],
   "source": [
    "!pandoc -t native csvtable.md -o csvtable.native\n",
    "!cat csvtable.native"
   ]
  },
  {
   "cell_type": "markdown",
   "metadata": {},
   "source": [
    "## markdown Table"
   ]
  },
  {
   "cell_type": "code",
   "execution_count": 12,
   "metadata": {
    "collapsed": false
   },
   "outputs": [
    {
     "name": "stdout",
     "output_type": "stream",
     "text": [
      "pantable: alignment string is either invalid or too short\n",
      "+--------+---------------------+--------------------------+\n",
      "| First  | defaulted to be     | can be disabled          |\n",
      "| row    | header row          |                          |\n",
      "+========+=====================+==========================+\n",
      "| 1      | cell can contain    | It can be aribrary block |\n",
      "|        | **markdown**        | element:                 |\n",
      "|        |                     |                          |\n",
      "|        |                     | -   following standard   |\n",
      "|        |                     |     markdown syntax      |\n",
      "|        |                     | -   like this            |\n",
      "+--------+---------------------+--------------------------+\n",
      "| 2      | Any markdown        | $$E = mc^2$$             |\n",
      "|        | syntax, e.g.        |                          |\n",
      "+--------+---------------------+--------------------------+\n",
      "\n",
      ": *Awesome* **Markdown** Table\n",
      "\n",
      "\n"
     ]
    }
   ],
   "source": [
    "!pandoc -t markdown csvtable.md -o table.md -F pantable\n",
    "!cat table.md"
   ]
  },
  {
   "cell_type": "markdown",
   "metadata": {},
   "source": [
    "### Native format of markdown Table"
   ]
  },
  {
   "cell_type": "markdown",
   "metadata": {},
   "source": [
    "#### original"
   ]
  },
  {
   "cell_type": "code",
   "execution_count": 13,
   "metadata": {
    "collapsed": false
   },
   "outputs": [
    {
     "name": "stdout",
     "output_type": "stream",
     "text": [
      "pantable: alignment string is either invalid or too short\r\n",
      "[Table [Emph [Str \"Awesome\"],Space,Strong [Str \"Markdown\"],Space,Str \"Table\"] [AlignRight,AlignCenter,AlignDefault] [8.513513513513514e-2,0.2743243243243243,0.34054054054054056]\r\n",
      " [[Para [Str \"First\",Space,Str \"row\"]]\r\n",
      " ,[Para [Str \"defaulted\",Space,Str \"to\",Space,Str \"be\",Space,Str \"header\",Space,Str \"row\"]]\r\n",
      " ,[Para [Str \"can\",Space,Str \"be\",Space,Str \"disabled\"]]]\r\n",
      " [[[Para [Str \"1\"]]\r\n",
      "  ,[Para [Str \"cell\",Space,Str \"can\",Space,Str \"contain\",Space,Strong [Str \"markdown\"]]]\r\n",
      "  ,[Para [Str \"It\",Space,Str \"can\",Space,Str \"be\",Space,Str \"aribrary\",Space,Str \"block\",Space,Str \"element:\"]\r\n",
      "   ,BulletList\r\n",
      "    [[Plain [Str \"following\",Space,Str \"standard\",Space,Str \"markdown\",Space,Str \"syntax\"]]\r\n",
      "    ,[Plain [Str \"like\",Space,Str \"this\"]]]]]\r\n",
      " ,[[Para [Str \"2\"]]\r\n",
      "  ,[Para [Str \"Any\",Space,Str \"markdown\",Space,Str \"syntax,\",Space,Str \"e.g.\"]]\r\n",
      "  ,[Para [Math DisplayMath \"E = mc^2\"]]]]]\r\n"
     ]
    }
   ],
   "source": [
    "!pandoc -t native csvtable.md -F pantable"
   ]
  },
  {
   "cell_type": "markdown",
   "metadata": {},
   "source": [
    "#### from markdown output"
   ]
  },
  {
   "cell_type": "code",
   "execution_count": 14,
   "metadata": {
    "collapsed": false
   },
   "outputs": [
    {
     "name": "stdout",
     "output_type": "stream",
     "text": [
      "[Table [Emph [Str \"Awesome\"],Space,Strong [Str \"Markdown\"],Space,Str \"Table\"] [AlignDefault,AlignDefault,AlignDefault] [0.125,0.3055555555555556,0.375]\r\n",
      " [[Plain [Str \"First\",SoftBreak,Str \"row\"]]\r\n",
      " ,[Plain [Str \"defaulted\",Space,Str \"to\",Space,Str \"be\",SoftBreak,Str \"header\",Space,Str \"row\"]]\r\n",
      " ,[Plain [Str \"can\",Space,Str \"be\",Space,Str \"disabled\"]]]\r\n",
      " [[[Para [Str \"1\"]]\r\n",
      "  ,[Para [Str \"cell\",Space,Str \"can\",Space,Str \"contain\",SoftBreak,Strong [Str \"markdown\"]]]\r\n",
      "  ,[Para [Str \"It\",Space,Str \"can\",Space,Str \"be\",Space,Str \"aribrary\",Space,Str \"block\",SoftBreak,Str \"element:\"]\r\n",
      "   ,BulletList\r\n",
      "    [[Plain [Str \"following\",Space,Str \"standard\",SoftBreak,Str \"markdown\",Space,Str \"syntax\"]]\r\n",
      "    ,[Plain [Str \"like\",Space,Str \"this\"]]]]]\r\n",
      " ,[[Para [Str \"2\"]]\r\n",
      "  ,[Para [Str \"Any\",Space,Str \"markdown\",SoftBreak,Str \"syntax,\",Space,Str \"e.g.\"]]\r\n",
      "  ,[Para [Math DisplayMath \"E = mc^2\"]]]]]\r\n"
     ]
    }
   ],
   "source": [
    "!pandoc -t native table.md"
   ]
  },
  {
   "cell_type": "markdown",
   "metadata": {},
   "source": [
    "# Python Test"
   ]
  },
  {
   "cell_type": "code",
   "execution_count": 15,
   "metadata": {
    "collapsed": false
   },
   "outputs": [
    {
     "name": "stdout",
     "output_type": "stream",
     "text": [
      "Overwriting test.py\n"
     ]
    }
   ],
   "source": [
    "%%writefile test.py\n",
    "#!/usr/bin/env python3\n",
    "import panflute\n",
    "\n",
    "def action(elem, doc):\n",
    "    if isinstance(elem, panflute.CodeBlock):\n",
    "        print(elem, \"=\"*80)\n",
    "    if isinstance(elem, panflute.Table):\n",
    "        print(elem.header, \"=\"*80)\n",
    "        print(elem.content, \"=\"*80)\n",
    "\n",
    "if __name__ == '__main__':\n",
    "    panflute.run_filter(action)"
   ]
  },
  {
   "cell_type": "code",
   "execution_count": 16,
   "metadata": {
    "collapsed": true
   },
   "outputs": [],
   "source": [
    "!chmod +x test.py"
   ]
  },
  {
   "cell_type": "markdown",
   "metadata": {},
   "source": [
    "## Applied on Markdown Test Source"
   ]
  },
  {
   "cell_type": "code",
   "execution_count": 17,
   "metadata": {
    "collapsed": false,
    "scrolled": false
   },
   "outputs": [
    {
     "name": "stdout",
     "output_type": "stream",
     "text": [
      "CodeBlock(---\n",
      "caption: '*Awesome* **Markdown** Table'\n",
      "alignment: RC\n",
      "table-width: 0.7\n",
      "markdown: True\n",
      "---\n",
      "First row,defaulted to be header row,can be disabled\n",
      "1,cell can contain **markdown**,\"It can be aribrary block element:\n",
      "\n",
      "- following standard markdown syntax\n",
      "- like this\"\n",
      "2,\"Any markdown syntax, e.g.\",$$E = mc^2$$; classes=['table']) ================================================================================\n",
      "{\"pandoc-api-version\":[1,17,0,4],\"meta\":{},\"blocks\":[{\"t\":\"CodeBlock\",\"c\":[[\"\",[\"table\"],[]],\"---\\ncaption: '*Awesome* **Markdown** Table'\\nalignment: RC\\ntable-width: 0.7\\nmarkdown: True\\n---\\nFirst row,defaulted to be header row,can be disabled\\n1,cell can contain **markdown**,\\\"It can be aribrary block element:\\n\\n- following standard markdown syntax\\n- like this\\\"\\n2,\\\"Any markdown syntax, e.g.\\\",$$E = mc^2$$\"]}]}\n",
      "================================================================================\n",
      "TableRow(TableCell(Plain(Str(First) SoftBreak Str(row))) TableCell(Plain(Str(defaulted) Space Str(to) Space Str(be) SoftBreak Str(header) Space Str(row))) TableCell(Plain(Str(can) Space Str(be) Space Str(disabled)))) ================================================================================\n",
      "ListContainer(TableRow(TableCell(Para(Str(1))) TableCell(Para(Str(cell) Space Str(can) Space Str(contain) SoftBreak Strong(Str(markdown)))) TableCell(Para(Str(It) Space Str(can) Space Str(be) Space Str(aribrary) Space Str(block) SoftBreak Str(element:)) BulletList(ListItem(Plain(Str(following) Space Str(standard) SoftBreak Str(markdown) Space Str(syntax))) ListItem(Plain(Str(like) Space Str(this)))))) TableRow(TableCell(Para(Str(2))) TableCell(Para(Str(Any) Space Str(markdown) SoftBreak Str(syntax,) Space Str(e.g.))) TableCell(Para(Math(E = mc^2; format='DisplayMath'))))) ================================================================================\n",
      "{\"pandoc-api-version\":[1,17,0,4],\"meta\":{},\"blocks\":[{\"t\":\"Table\",\"c\":[[{\"t\":\"Emph\",\"c\":[{\"t\":\"Str\",\"c\":\"Awesome\"}]},{\"t\":\"Space\"},{\"t\":\"Strong\",\"c\":[{\"t\":\"Str\",\"c\":\"Markdown\"}]},{\"t\":\"Space\"},{\"t\":\"Str\",\"c\":\"Table\"}],[{\"t\":\"AlignDefault\"},{\"t\":\"AlignDefault\"},{\"t\":\"AlignDefault\"}],[0.125,0.3055555555555556,0.375],[[{\"t\":\"Plain\",\"c\":[{\"t\":\"Str\",\"c\":\"First\"},{\"t\":\"SoftBreak\"},{\"t\":\"Str\",\"c\":\"row\"}]}],[{\"t\":\"Plain\",\"c\":[{\"t\":\"Str\",\"c\":\"defaulted\"},{\"t\":\"Space\"},{\"t\":\"Str\",\"c\":\"to\"},{\"t\":\"Space\"},{\"t\":\"Str\",\"c\":\"be\"},{\"t\":\"SoftBreak\"},{\"t\":\"Str\",\"c\":\"header\"},{\"t\":\"Space\"},{\"t\":\"Str\",\"c\":\"row\"}]}],[{\"t\":\"Plain\",\"c\":[{\"t\":\"Str\",\"c\":\"can\"},{\"t\":\"Space\"},{\"t\":\"Str\",\"c\":\"be\"},{\"t\":\"Space\"},{\"t\":\"Str\",\"c\":\"disabled\"}]}]],[[[{\"t\":\"Para\",\"c\":[{\"t\":\"Str\",\"c\":\"1\"}]}],[{\"t\":\"Para\",\"c\":[{\"t\":\"Str\",\"c\":\"cell\"},{\"t\":\"Space\"},{\"t\":\"Str\",\"c\":\"can\"},{\"t\":\"Space\"},{\"t\":\"Str\",\"c\":\"contain\"},{\"t\":\"SoftBreak\"},{\"t\":\"Strong\",\"c\":[{\"t\":\"Str\",\"c\":\"markdown\"}]}]}],[{\"t\":\"Para\",\"c\":[{\"t\":\"Str\",\"c\":\"It\"},{\"t\":\"Space\"},{\"t\":\"Str\",\"c\":\"can\"},{\"t\":\"Space\"},{\"t\":\"Str\",\"c\":\"be\"},{\"t\":\"Space\"},{\"t\":\"Str\",\"c\":\"aribrary\"},{\"t\":\"Space\"},{\"t\":\"Str\",\"c\":\"block\"},{\"t\":\"SoftBreak\"},{\"t\":\"Str\",\"c\":\"element:\"}]},{\"t\":\"BulletList\",\"c\":[[{\"t\":\"Plain\",\"c\":[{\"t\":\"Str\",\"c\":\"following\"},{\"t\":\"Space\"},{\"t\":\"Str\",\"c\":\"standard\"},{\"t\":\"SoftBreak\"},{\"t\":\"Str\",\"c\":\"markdown\"},{\"t\":\"Space\"},{\"t\":\"Str\",\"c\":\"syntax\"}]}],[{\"t\":\"Plain\",\"c\":[{\"t\":\"Str\",\"c\":\"like\"},{\"t\":\"Space\"},{\"t\":\"Str\",\"c\":\"this\"}]}]]}]],[[{\"t\":\"Para\",\"c\":[{\"t\":\"Str\",\"c\":\"2\"}]}],[{\"t\":\"Para\",\"c\":[{\"t\":\"Str\",\"c\":\"Any\"},{\"t\":\"Space\"},{\"t\":\"Str\",\"c\":\"markdown\"},{\"t\":\"SoftBreak\"},{\"t\":\"Str\",\"c\":\"syntax,\"},{\"t\":\"Space\"},{\"t\":\"Str\",\"c\":\"e.g.\"}]}],[{\"t\":\"Para\",\"c\":[{\"t\":\"Math\",\"c\":[{\"t\":\"DisplayMath\"},\"E = mc^2\"]}]}]]]]}]}"
     ]
    }
   ],
   "source": [
    "!pandoc -t json csvtable.md | ./test.py\n",
    "!echo && printf '=%.0s' {1..80} && echo\n",
    "!pandoc -t json table.md | ./test.py"
   ]
  },
  {
   "cell_type": "markdown",
   "metadata": {},
   "source": [
    "# Python Script"
   ]
  },
  {
   "cell_type": "code",
   "execution_count": 18,
   "metadata": {
    "collapsed": false
   },
   "outputs": [
    {
     "name": "stdout",
     "output_type": "stream",
     "text": [
      "Overwriting pantable2csv.py\n"
     ]
    }
   ],
   "source": [
    "%%writefile pantable2csv.py\n",
    "#!/usr/bin/env python3\n",
    "import panflute\n",
    "import io\n",
    "import csv\n",
    "import yaml\n",
    "\n",
    "def ast2markdown(*ast):\n",
    "    \"\"\"\n",
    "    convert a panflute ast into markdown\n",
    "    \"\"\"\n",
    "    return panflute.convert_text(ast, input_format='panflute', output_format='markdown')\n",
    "\n",
    "def get_table_options(elem):\n",
    "    \"\"\"\n",
    "    parse the content of Table in ast and returns a dictionary of options\n",
    "    \"\"\"\n",
    "    options = {}\n",
    "    options['caption'] = elem.caption\n",
    "    options['alignment'] = elem.alignment\n",
    "    options['width'] = elem.width\n",
    "    options['header'] = elem.header\n",
    "    options['markdown'] = True\n",
    "    return options\n",
    "\n",
    "def parse_table_options(options):\n",
    "    \"\"\"\n",
    "    parse the options\n",
    "    \"\"\"\n",
    "    # caption: panflute ast to markdown\n",
    "    if options['caption']:\n",
    "        options['caption'] = ast2markdown(panflute.Para(*options['caption']))\n",
    "    else:\n",
    "        del options['caption']\n",
    "    # parse alignment\n",
    "    parsed_alignment = []\n",
    "    for alignment in options['alignment']:\n",
    "        if alignment == \"AlignLeft\":\n",
    "            parsed_alignment.append(\"L\")\n",
    "        elif alignment == \"AlignCenter\":\n",
    "            parsed_alignment.append(\"C\")\n",
    "        elif alignment == \"AlignRight\":\n",
    "            parsed_alignment.append(\"R\")\n",
    "        elif alignment == \"AlignDefault\":\n",
    "            parsed_alignment.append(\"D\")\n",
    "    options['alignment'] = \"\".join(parsed_alignment)\n",
    "    # table-width from width\n",
    "    options['table-width'] = sum(options['width'])\n",
    "    # header: False if empty header row, else True\n",
    "    options['header'] = bool(panflute.stringify(options['header']))\n",
    "    return\n",
    "\n",
    "def get_table_body(options, elem):\n",
    "    \"\"\"\n",
    "    from elem, get full table body including header row if any\n",
    "    \"\"\"\n",
    "    table_body = elem.content\n",
    "    if options['header']:\n",
    "        table_body.insert(0, elem.header)\n",
    "    return table_body\n",
    "\n",
    "def Table2list(Table):\n",
    "    \"\"\"\n",
    "    convert a pandoc table into a 2D list\n",
    "    \"\"\"\n",
    "    return [[ast2markdown(*cell.content) for cell in row.content] for row in Table]\n",
    "\n",
    "\n",
    "def list2csv(table_list):\n",
    "    with io.StringIO() as file:\n",
    "        writer = csv.writer(file)\n",
    "        writer.writerows(table_list)\n",
    "        csv_table = file.getvalue()\n",
    "    return csv_table\n",
    "\n",
    "def options2yaml(options):\n",
    "    return yaml.dump(options)\n",
    "\n",
    "def action(elem, doc):\n",
    "    \"\"\"\n",
    "    find Table element and return a csv table in code-block with class \"table\"\n",
    "    \"\"\"\n",
    "    if isinstance(elem, panflute.Table):\n",
    "        # obtain options from Table\n",
    "        options = get_table_options(elem)\n",
    "        parse_table_options(options)\n",
    "        # table in AST\n",
    "        table_body = get_table_body(options, elem)\n",
    "        # table in list\n",
    "        table_list = Table2list(table_body)\n",
    "        # table in CSV\n",
    "        csv_table = list2csv(table_list)\n",
    "        # option in YAML\n",
    "        yaml_metadata = options2yaml(options)\n",
    "        code_block = \"---\\n\" + yaml_metadata + \"---\\n\" + csv_table\n",
    "        return panflute.CodeBlock(code_block, classes=[\"table\"])\n",
    "    return\n",
    "\n",
    "def main(_=None):\n",
    "    \"\"\"\n",
    "    Any native pandoc tables will be converted into the CSV table format used by pantable:\n",
    "    \n",
    "    - in code-block with class table\n",
    "    - metadata in YAML\n",
    "    - table in CSV\n",
    "    \"\"\"\n",
    "    panflute.run_filter(action)\n",
    "\n",
    "if __name__ == '__main__':\n",
    "    main()\n"
   ]
  },
  {
   "cell_type": "code",
   "execution_count": 19,
   "metadata": {
    "collapsed": true
   },
   "outputs": [],
   "source": [
    "!chmod +x pantable2csv.py"
   ]
  },
  {
   "cell_type": "markdown",
   "metadata": {},
   "source": [
    "## Applied on Markdown Test Source"
   ]
  },
  {
   "cell_type": "code",
   "execution_count": 20,
   "metadata": {
    "collapsed": false,
    "scrolled": false
   },
   "outputs": [
    {
     "name": "stdout",
     "output_type": "stream",
     "text": [
      "pantable: alignment string is either invalid or too short\n",
      "{\"pandoc-api-version\":[1,17,0,4],\"meta\":{},\"blocks\":[{\"t\":\"CodeBlock\",\"c\":[[\"\",[\"table\"],[]],\"---\\nalignment: RCD\\ncaption: '*Awesome* **Markdown** Table'\\nheader: true\\nmarkdown: true\\ntable-width: 0.7\\nwidth: [0.08513513513513514, 0.2743243243243243, 0.34054054054054056]\\n---\\nFirst row,defaulted to be header row,can be disabled\\r\\n1,cell can contain **markdown**,\\\"It can be aribrary block element:\\n\\n-   following standard markdown syntax\\n-   like this\\n\\\"\\r\\n2,\\\"Any markdown syntax, e.g.\\\",$$E = mc^2$$\\r\\n\"]}]}"
     ]
    }
   ],
   "source": [
    "!pandoc -t json csvtable.md -F pantable | ./pantable2csv.py"
   ]
  },
  {
   "cell_type": "code",
   "execution_count": 21,
   "metadata": {
    "collapsed": false
   },
   "outputs": [
    {
     "name": "stdout",
     "output_type": "stream",
     "text": [
      "pantable: alignment string is either invalid or too short\n",
      "``` {.table}\n",
      "---\n",
      "alignment: RCD\n",
      "caption: '*Awesome* **Markdown** Table'\n",
      "header: true\n",
      "markdown: true\n",
      "table-width: 0.7\n",
      "width: [0.08513513513513514, 0.2743243243243243, 0.34054054054054056]\n",
      "---\n",
      "First row,defaulted to be header row,can be disabled\n",
      "1,cell can contain **markdown**,\"It can be aribrary block element:\n",
      "\n",
      "-   following standard markdown syntax\n",
      "-   like this\n",
      "\"\n",
      "2,\"Any markdown syntax, e.g.\",$$E = mc^2$$\n",
      "```\n"
     ]
    }
   ],
   "source": [
    "!pandoc -t json csvtable.md -F pantable | ./pantable2csv.py | pandoc -f json -t markdown"
   ]
  },
  {
   "cell_type": "code",
   "execution_count": 23,
   "metadata": {
    "collapsed": false
   },
   "outputs": [
    {
     "name": "stdout",
     "output_type": "stream",
     "text": [
      "``` {.table}\r\n",
      "---\r\n",
      "alignment: DDD\r\n",
      "caption: '*Awesome* **Markdown** Table'\r\n",
      "header: true\r\n",
      "markdown: true\r\n",
      "table-width: 0.8055555555555556\r\n",
      "width: [0.125, 0.3055555555555556, 0.375]\r\n",
      "---\r\n",
      "First row,defaulted to be header row,can be disabled\r",
      "\r\n",
      "1,cell can contain **markdown**,\"It can be aribrary block element:\r\n",
      "\r\n",
      "-   following standard markdown syntax\r\n",
      "-   like this\r\n",
      "\"\r",
      "\r\n",
      "2,\"Any markdown syntax, e.g.\",$$E = mc^2$$\r",
      "\r\n",
      "```\r\n"
     ]
    }
   ],
   "source": [
    "!pandoc -t markdown table.md -F ./pantable2csv.py"
   ]
  },
  {
   "cell_type": "code",
   "execution_count": null,
   "metadata": {
    "collapsed": true
   },
   "outputs": [],
   "source": []
  }
 ],
 "metadata": {
  "kernelspec": {
   "display_name": "Python 3",
   "language": "python",
   "name": "python3"
  },
  "language_info": {
   "codemirror_mode": {
    "name": "ipython",
    "version": 3
   },
   "file_extension": ".py",
   "mimetype": "text/x-python",
   "name": "python",
   "nbconvert_exporter": "python",
   "pygments_lexer": "ipython3",
   "version": "3.5.2"
  }
 },
 "nbformat": 4,
 "nbformat_minor": 0
}
