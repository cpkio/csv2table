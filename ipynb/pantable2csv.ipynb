{
 "cells": [
  {
   "cell_type": "markdown",
   "metadata": {},
   "source": [
    "# Notes\n",
    "\n",
    "- caption\n",
    "- alignment\n",
    "- width\n",
    "- header\n",
    "- content"
   ]
  },
  {
   "cell_type": "markdown",
   "metadata": {},
   "source": [
    "# Tests"
   ]
  },
  {
   "cell_type": "code",
   "execution_count": 1,
   "metadata": {
    "collapsed": false
   },
   "outputs": [
    {
     "data": {
      "text/plain": [
       "'1.6.7'"
      ]
     },
     "execution_count": 1,
     "metadata": {},
     "output_type": "execute_result"
    }
   ],
   "source": [
    "import panflute\n",
    "panflute.__version__"
   ]
  },
  {
   "cell_type": "code",
   "execution_count": 2,
   "metadata": {
    "collapsed": false
   },
   "outputs": [],
   "source": [
    "from pantable.pantable import *"
   ]
  },
  {
   "cell_type": "code",
   "execution_count": 3,
   "metadata": {
    "collapsed": false
   },
   "outputs": [],
   "source": [
    "# initialize\n",
    "data = r'''\n",
    "some,column\n",
    "1,2\n",
    "3,4\n",
    "'''\n",
    "table = convert2table({'caption': 'Some Title', 'markdown': True}, data)"
   ]
  },
  {
   "cell_type": "code",
   "execution_count": 4,
   "metadata": {
    "collapsed": false
   },
   "outputs": [
    {
     "data": {
      "text/plain": [
       "Table(TableRow(TableCell(Para(Str(some))) TableCell(Para(Str(column)))) TableRow(TableCell(Para(Str(1))) TableCell(Para(Str(2)))) TableRow(TableCell(Para(Str(3))) TableCell(Para(Str(4)))); alignment=['AlignDefault', 'AlignDefault'], width=[0.4, 0.6], rows=3, cols=2)"
      ]
     },
     "execution_count": 4,
     "metadata": {},
     "output_type": "execute_result"
    }
   ],
   "source": [
    "table"
   ]
  },
  {
   "cell_type": "code",
   "execution_count": 5,
   "metadata": {
    "collapsed": false,
    "scrolled": true
   },
   "outputs": [
    {
     "data": {
      "text/plain": [
       "ListContainer(Str(Some) Space Str(Title))"
      ]
     },
     "execution_count": 5,
     "metadata": {},
     "output_type": "execute_result"
    }
   ],
   "source": [
    "table.caption"
   ]
  },
  {
   "cell_type": "code",
   "execution_count": 6,
   "metadata": {
    "collapsed": false
   },
   "outputs": [
    {
     "data": {
      "text/plain": [
       "['AlignDefault', 'AlignDefault']"
      ]
     },
     "execution_count": 6,
     "metadata": {},
     "output_type": "execute_result"
    }
   ],
   "source": [
    "table.alignment"
   ]
  },
  {
   "cell_type": "code",
   "execution_count": 7,
   "metadata": {
    "collapsed": false
   },
   "outputs": [
    {
     "data": {
      "text/plain": [
       "[0.4, 0.6]"
      ]
     },
     "execution_count": 7,
     "metadata": {},
     "output_type": "execute_result"
    }
   ],
   "source": [
    "table.width"
   ]
  },
  {
   "cell_type": "code",
   "execution_count": 8,
   "metadata": {
    "collapsed": false
   },
   "outputs": [
    {
     "data": {
      "text/plain": [
       "TableRow(TableCell() TableCell())"
      ]
     },
     "execution_count": 8,
     "metadata": {},
     "output_type": "execute_result"
    }
   ],
   "source": [
    "table.header"
   ]
  },
  {
   "cell_type": "code",
   "execution_count": 9,
   "metadata": {
    "collapsed": false
   },
   "outputs": [
    {
     "data": {
      "text/plain": [
       "ListContainer(TableRow(TableCell(Para(Str(some))) TableCell(Para(Str(column)))) TableRow(TableCell(Para(Str(1))) TableCell(Para(Str(2)))) TableRow(TableCell(Para(Str(3))) TableCell(Para(Str(4)))))"
      ]
     },
     "execution_count": 9,
     "metadata": {},
     "output_type": "execute_result"
    }
   ],
   "source": [
    "table.content"
   ]
  },
  {
   "cell_type": "markdown",
   "metadata": {},
   "source": [
    "# Markdown Test Source"
   ]
  },
  {
   "cell_type": "markdown",
   "metadata": {},
   "source": [
    "## CSV Code Block"
   ]
  },
  {
   "cell_type": "code",
   "execution_count": 10,
   "metadata": {
    "collapsed": false
   },
   "outputs": [
    {
     "name": "stdout",
     "output_type": "stream",
     "text": [
      "Overwriting csvtable.md\n"
     ]
    }
   ],
   "source": [
    "%%writefile csvtable.md\n",
    "# Full Test\n",
    "\n",
    "``` {.table}\n",
    "---\n",
    "caption: \"*Great* Title\"\n",
    "alignment: LRCD\n",
    "width:\n",
    "  - 0.1\n",
    "  - 0.2\n",
    "  - 0.3\n",
    "  - 0.4\n",
    "header: True\n",
    "markdown: True\n",
    "...\n",
    "**_Fruit_**,~~Price~~,_Number_,`Advantages`\n",
    "*Bananas~1~*,$1.34,12~units~,\"Benefits of eating bananas\n",
    "(**Note the appropriately\n",
    "rendered block markdown**):\n",
    "\n",
    "- _built-in wrapper_\n",
    "- ~~**bright color**~~\n",
    "\n",
    "\"\n",
    "*Oranges~2~*,$2.10,5^10^~units~,\"Benefits of eating oranges:\n",
    "\n",
    "- **cures** scurvy\n",
    "- `tasty`\"\n",
    "```"
   ]
  },
  {
   "cell_type": "markdown",
   "metadata": {},
   "source": [
    "### Native Format of CSV Code Block"
   ]
  },
  {
   "cell_type": "code",
   "execution_count": 11,
   "metadata": {
    "collapsed": false
   },
   "outputs": [
    {
     "name": "stdout",
     "output_type": "stream",
     "text": [
      "[Header 1 (\"full-test\",[],[]) [Str \"Full\",Space,Str \"Test\"]\r\n",
      ",CodeBlock (\"\",[\"table\"],[]) \"---\\ncaption: \\\"*Great* Title\\\"\\nalignment: LRCD\\nwidth:\\n  - 0.1\\n  - 0.2\\n  - 0.3\\n  - 0.4\\nheader: True\\nmarkdown: True\\n...\\n**_Fruit_**,~~Price~~,_Number_,`Advantages`\\n*Bananas~1~*,$1.34,12~units~,\\\"Benefits of eating bananas\\n(**Note the appropriately\\nrendered block markdown**):\\n\\n- _built-in wrapper_\\n- ~~**bright color**~~\\n\\n\\\"\\n*Oranges~2~*,$2.10,5^10^~units~,\\\"Benefits of eating oranges:\\n\\n- **cures** scurvy\\n- `tasty`\\\"\"]\r\n"
     ]
    }
   ],
   "source": [
    "!pandoc -t native csvtable.md -o csvtable.native\n",
    "!cat csvtable.native"
   ]
  },
  {
   "cell_type": "markdown",
   "metadata": {},
   "source": [
    "## markdown Table"
   ]
  },
  {
   "cell_type": "code",
   "execution_count": 12,
   "metadata": {
    "collapsed": false
   },
   "outputs": [
    {
     "name": "stdout",
     "output_type": "stream",
     "text": [
      "Full Test\r\n",
      "=========\r\n",
      "\r\n",
      "+---------+----------------+-----------------------+------------------------------+\r\n",
      "| ***Frui | ~~Price~~      | *Number*              | `Advantages`                 |\r\n",
      "| t***    |                |                       |                              |\r\n",
      "+=========+================+=======================+==============================+\r\n",
      "| *Banana | \\$1.34         | 12~units~             | Benefits of eating bananas   |\r\n",
      "| s~1~*   |                |                       | (**Note the appropriately    |\r\n",
      "|         |                |                       | rendered block markdown**):  |\r\n",
      "|         |                |                       |                              |\r\n",
      "|         |                |                       | -   *built-in wrapper*       |\r\n",
      "|         |                |                       | -   ~~**bright color**~~     |\r\n",
      "+---------+----------------+-----------------------+------------------------------+\r\n",
      "| *Orange | \\$2.10         | 5^10^~units~          | Benefits of eating oranges:  |\r\n",
      "| s~2~*   |                |                       |                              |\r\n",
      "|         |                |                       | -   **cures** scurvy         |\r\n",
      "|         |                |                       | -   `tasty`                  |\r\n",
      "+---------+----------------+-----------------------+------------------------------+\r\n",
      "\r\n",
      ": *Great* Title\r\n",
      "\r\n",
      "\r\n"
     ]
    }
   ],
   "source": [
    "!pandoc -t markdown csvtable.md -o table.md -F pantable\n",
    "!cat table.md"
   ]
  },
  {
   "cell_type": "markdown",
   "metadata": {},
   "source": [
    "### Native format of markdown Table"
   ]
  },
  {
   "cell_type": "markdown",
   "metadata": {},
   "source": [
    "#### original"
   ]
  },
  {
   "cell_type": "code",
   "execution_count": 13,
   "metadata": {
    "collapsed": false
   },
   "outputs": [
    {
     "name": "stdout",
     "output_type": "stream",
     "text": [
      "[Header 1 (\"full-test\",[],[]) [Str \"Full\",Space,Str \"Test\"]\r\n",
      ",Table [Emph [Str \"Great\"],Space,Str \"Title\"] [AlignLeft,AlignRight,AlignCenter,AlignDefault] [0.1,0.2,0.3,0.4]\r\n",
      " [[Para [Strong [Emph [Str \"Fruit\"]]]]\r\n",
      " ,[Para [Strikeout [Str \"Price\"]]]\r\n",
      " ,[Para [Emph [Str \"Number\"]]]\r\n",
      " ,[Para [Code (\"\",[],[]) \"Advantages\"]]]\r\n",
      " [[[Para [Emph [Str \"Bananas\",Subscript [Str \"1\"]]]]\r\n",
      "  ,[Para [Str \"$1.34\"]]\r\n",
      "  ,[Para [Str \"12\",Subscript [Str \"units\"]]]\r\n",
      "  ,[Para [Str \"Benefits\",Space,Str \"of\",Space,Str \"eating\",Space,Str \"bananas\",SoftBreak,Str \"(\",Strong [Str \"Note\",Space,Str \"the\",Space,Str \"appropriately\",SoftBreak,Str \"rendered\",Space,Str \"block\",Space,Str \"markdown\"],Str \"):\"]\r\n",
      "   ,BulletList\r\n",
      "    [[Plain [Emph [Str \"built-in\",Space,Str \"wrapper\"]]]\r\n",
      "    ,[Plain [Strikeout [Strong [Str \"bright\",Space,Str \"color\"]]]]]]]\r\n",
      " ,[[Para [Emph [Str \"Oranges\",Subscript [Str \"2\"]]]]\r\n",
      "  ,[Para [Str \"$2.10\"]]\r\n",
      "  ,[Para [Str \"5\",Superscript [Str \"10\"],Subscript [Str \"units\"]]]\r\n",
      "  ,[Para [Str \"Benefits\",Space,Str \"of\",Space,Str \"eating\",Space,Str \"oranges:\"]\r\n",
      "   ,BulletList\r\n",
      "    [[Plain [Strong [Str \"cures\"],Space,Str \"scurvy\"]]\r\n",
      "    ,[Plain [Code (\"\",[],[]) \"tasty\"]]]]]]]\r\n"
     ]
    }
   ],
   "source": [
    "!pandoc -t native csvtable.md -F pantable"
   ]
  },
  {
   "cell_type": "markdown",
   "metadata": {},
   "source": [
    "#### from markdown output"
   ]
  },
  {
   "cell_type": "code",
   "execution_count": 14,
   "metadata": {
    "collapsed": false
   },
   "outputs": [
    {
     "name": "stdout",
     "output_type": "stream",
     "text": [
      "[Header 1 (\"full-test\",[],[]) [Str \"Full\",Space,Str \"Test\"]\r\n",
      ",Table [Emph [Str \"Great\"],Space,Str \"Title\"] [AlignDefault,AlignDefault,AlignDefault,AlignDefault] [0.12195121951219512,0.2073170731707317,0.2926829268292683,0.3780487804878049]\r\n",
      " [[Plain [Strong [Emph [Str \"Frui\",SoftBreak,Str \"t\"]]]]\r\n",
      " ,[Plain [Strikeout [Str \"Price\"]]]\r\n",
      " ,[Plain [Emph [Str \"Number\"]]]\r\n",
      " ,[Plain [Code (\"\",[],[]) \"Advantages\"]]]\r\n",
      " [[[Para [Emph [Str \"Banana\",SoftBreak,Str \"s\",Subscript [Str \"1\"]]]]\r\n",
      "  ,[Para [Str \"$1.34\"]]\r\n",
      "  ,[Para [Str \"12\",Subscript [Str \"units\"]]]\r\n",
      "  ,[Para [Str \"Benefits\",Space,Str \"of\",Space,Str \"eating\",Space,Str \"bananas\",SoftBreak,Str \"(\",Strong [Str \"Note\",Space,Str \"the\",Space,Str \"appropriately\",SoftBreak,Str \"rendered\",Space,Str \"block\",Space,Str \"markdown\"],Str \"):\"]\r\n",
      "   ,BulletList\r\n",
      "    [[Plain [Emph [Str \"built-in\",Space,Str \"wrapper\"]]]\r\n",
      "    ,[Plain [Strikeout [Strong [Str \"bright\",Space,Str \"color\"]]]]]]]\r\n",
      " ,[[Para [Emph [Str \"Orange\",SoftBreak,Str \"s\",Subscript [Str \"2\"]]]]\r\n",
      "  ,[Para [Str \"$2.10\"]]\r\n",
      "  ,[Para [Str \"5\",Superscript [Str \"10\"],Subscript [Str \"units\"]]]\r\n",
      "  ,[Para [Str \"Benefits\",Space,Str \"of\",Space,Str \"eating\",Space,Str \"oranges:\"]\r\n",
      "   ,BulletList\r\n",
      "    [[Plain [Strong [Str \"cures\"],Space,Str \"scurvy\"]]\r\n",
      "    ,[Plain [Code (\"\",[],[]) \"tasty\"]]]]]]]\r\n"
     ]
    }
   ],
   "source": [
    "!pandoc -t native table.md"
   ]
  },
  {
   "cell_type": "markdown",
   "metadata": {},
   "source": [
    "# Python Test"
   ]
  },
  {
   "cell_type": "code",
   "execution_count": 15,
   "metadata": {
    "collapsed": false
   },
   "outputs": [
    {
     "name": "stdout",
     "output_type": "stream",
     "text": [
      "Overwriting test.py\n"
     ]
    }
   ],
   "source": [
    "%%writefile test.py\n",
    "#!/usr/bin/env python3\n",
    "import panflute\n",
    "\n",
    "def action(elem, doc):\n",
    "    if isinstance(elem, panflute.CodeBlock):\n",
    "        print(elem, \"=\"*80)\n",
    "    if isinstance(elem, panflute.Table):\n",
    "        print(elem.header, \"=\"*80)\n",
    "        print(elem.content, \"=\"*80)\n",
    "\n",
    "if __name__ == '__main__':\n",
    "    panflute.run_filter(action)"
   ]
  },
  {
   "cell_type": "code",
   "execution_count": 16,
   "metadata": {
    "collapsed": true
   },
   "outputs": [],
   "source": [
    "!chmod +x test.py"
   ]
  },
  {
   "cell_type": "markdown",
   "metadata": {},
   "source": [
    "## Applied on Markdown Test Source"
   ]
  },
  {
   "cell_type": "code",
   "execution_count": 17,
   "metadata": {
    "collapsed": false,
    "scrolled": false
   },
   "outputs": [
    {
     "name": "stdout",
     "output_type": "stream",
     "text": [
      "CodeBlock(---\n",
      "caption: \"*Great* Title\"\n",
      "alignment: LRCD\n",
      "width:\n",
      "  - 0.1\n",
      "  - 0.2\n",
      "  - 0.3\n",
      "  - 0.4\n",
      "header: True\n",
      "markdown: True\n",
      "...\n",
      "**_Fruit_**,~~Price~~,_Number_,`Advantages`\n",
      "*Bananas~1~*,$1.34,12~units~,\"Benefits of eating bananas\n",
      "(**Note the appropriately\n",
      "rendered block markdown**):\n",
      "\n",
      "- _built-in wrapper_\n",
      "- ~~**bright color**~~\n",
      "\n",
      "\"\n",
      "*Oranges~2~*,$2.10,5^10^~units~,\"Benefits of eating oranges:\n",
      "\n",
      "- **cures** scurvy\n",
      "- `tasty`\"; classes=['table']) ================================================================================\n",
      "{\"pandoc-api-version\":[1,17,0,4],\"meta\":{},\"blocks\":[{\"t\":\"Header\",\"c\":[1,[\"full-test\",[],[]],[{\"t\":\"Str\",\"c\":\"Full\"},{\"t\":\"Space\"},{\"t\":\"Str\",\"c\":\"Test\"}]]},{\"t\":\"CodeBlock\",\"c\":[[\"\",[\"table\"],[]],\"---\\ncaption: \\\"*Great* Title\\\"\\nalignment: LRCD\\nwidth:\\n  - 0.1\\n  - 0.2\\n  - 0.3\\n  - 0.4\\nheader: True\\nmarkdown: True\\n...\\n**_Fruit_**,~~Price~~,_Number_,`Advantages`\\n*Bananas~1~*,$1.34,12~units~,\\\"Benefits of eating bananas\\n(**Note the appropriately\\nrendered block markdown**):\\n\\n- _built-in wrapper_\\n- ~~**bright color**~~\\n\\n\\\"\\n*Oranges~2~*,$2.10,5^10^~units~,\\\"Benefits of eating oranges:\\n\\n- **cures** scurvy\\n- `tasty`\\\"\"]}]}\n",
      "================================================================================\n",
      "TableRow(TableCell(Plain(Strong(Emph(Str(Frui) SoftBreak Str(t))))) TableCell(Plain(Strikeout(Str(Price)))) TableCell(Plain(Emph(Str(Number)))) TableCell(Plain(Code(Advantages)))) ================================================================================\n",
      "ListContainer(TableRow(TableCell(Para(Emph(Str(Banana) SoftBreak Str(s) Subscript(Str(1))))) TableCell(Para(Str($1.34))) TableCell(Para(Str(12) Subscript(Str(units)))) TableCell(Para(Str(Benefits) Space Str(of) Space Str(eating) Space Str(bananas) SoftBreak Str(() Strong(Str(Note) Space Str(the) Space Str(appropriately) SoftBreak Str(rendered) Space Str(block) Space Str(markdown)) Str():)) BulletList(ListItem(Plain(Emph(Str(built-in) Space Str(wrapper)))) ListItem(Plain(Strikeout(Strong(Str(bright) Space Str(color)))))))) TableRow(TableCell(Para(Emph(Str(Orange) SoftBreak Str(s) Subscript(Str(2))))) TableCell(Para(Str($2.10))) TableCell(Para(Str(5) Superscript(Str(10)) Subscript(Str(units)))) TableCell(Para(Str(Benefits) Space Str(of) Space Str(eating) Space Str(oranges:)) BulletList(ListItem(Plain(Strong(Str(cures)) Space Str(scurvy))) ListItem(Plain(Code(tasty))))))) ================================================================================\n",
      "{\"pandoc-api-version\":[1,17,0,4],\"meta\":{},\"blocks\":[{\"t\":\"Header\",\"c\":[1,[\"full-test\",[],[]],[{\"t\":\"Str\",\"c\":\"Full\"},{\"t\":\"Space\"},{\"t\":\"Str\",\"c\":\"Test\"}]]},{\"t\":\"Table\",\"c\":[[{\"t\":\"Emph\",\"c\":[{\"t\":\"Str\",\"c\":\"Great\"}]},{\"t\":\"Space\"},{\"t\":\"Str\",\"c\":\"Title\"}],[{\"t\":\"AlignDefault\"},{\"t\":\"AlignDefault\"},{\"t\":\"AlignDefault\"},{\"t\":\"AlignDefault\"}],[0.12195121951219512,0.2073170731707317,0.2926829268292683,0.3780487804878049],[[{\"t\":\"Plain\",\"c\":[{\"t\":\"Strong\",\"c\":[{\"t\":\"Emph\",\"c\":[{\"t\":\"Str\",\"c\":\"Frui\"},{\"t\":\"SoftBreak\"},{\"t\":\"Str\",\"c\":\"t\"}]}]}]}],[{\"t\":\"Plain\",\"c\":[{\"t\":\"Strikeout\",\"c\":[{\"t\":\"Str\",\"c\":\"Price\"}]}]}],[{\"t\":\"Plain\",\"c\":[{\"t\":\"Emph\",\"c\":[{\"t\":\"Str\",\"c\":\"Number\"}]}]}],[{\"t\":\"Plain\",\"c\":[{\"t\":\"Code\",\"c\":[[\"\",[],[]],\"Advantages\"]}]}]],[[[{\"t\":\"Para\",\"c\":[{\"t\":\"Emph\",\"c\":[{\"t\":\"Str\",\"c\":\"Banana\"},{\"t\":\"SoftBreak\"},{\"t\":\"Str\",\"c\":\"s\"},{\"t\":\"Subscript\",\"c\":[{\"t\":\"Str\",\"c\":\"1\"}]}]}]}],[{\"t\":\"Para\",\"c\":[{\"t\":\"Str\",\"c\":\"$1.34\"}]}],[{\"t\":\"Para\",\"c\":[{\"t\":\"Str\",\"c\":\"12\"},{\"t\":\"Subscript\",\"c\":[{\"t\":\"Str\",\"c\":\"units\"}]}]}],[{\"t\":\"Para\",\"c\":[{\"t\":\"Str\",\"c\":\"Benefits\"},{\"t\":\"Space\"},{\"t\":\"Str\",\"c\":\"of\"},{\"t\":\"Space\"},{\"t\":\"Str\",\"c\":\"eating\"},{\"t\":\"Space\"},{\"t\":\"Str\",\"c\":\"bananas\"},{\"t\":\"SoftBreak\"},{\"t\":\"Str\",\"c\":\"(\"},{\"t\":\"Strong\",\"c\":[{\"t\":\"Str\",\"c\":\"Note\"},{\"t\":\"Space\"},{\"t\":\"Str\",\"c\":\"the\"},{\"t\":\"Space\"},{\"t\":\"Str\",\"c\":\"appropriately\"},{\"t\":\"SoftBreak\"},{\"t\":\"Str\",\"c\":\"rendered\"},{\"t\":\"Space\"},{\"t\":\"Str\",\"c\":\"block\"},{\"t\":\"Space\"},{\"t\":\"Str\",\"c\":\"markdown\"}]},{\"t\":\"Str\",\"c\":\"):\"}]},{\"t\":\"BulletList\",\"c\":[[{\"t\":\"Plain\",\"c\":[{\"t\":\"Emph\",\"c\":[{\"t\":\"Str\",\"c\":\"built-in\"},{\"t\":\"Space\"},{\"t\":\"Str\",\"c\":\"wrapper\"}]}]}],[{\"t\":\"Plain\",\"c\":[{\"t\":\"Strikeout\",\"c\":[{\"t\":\"Strong\",\"c\":[{\"t\":\"Str\",\"c\":\"bright\"},{\"t\":\"Space\"},{\"t\":\"Str\",\"c\":\"color\"}]}]}]}]]}]],[[{\"t\":\"Para\",\"c\":[{\"t\":\"Emph\",\"c\":[{\"t\":\"Str\",\"c\":\"Orange\"},{\"t\":\"SoftBreak\"},{\"t\":\"Str\",\"c\":\"s\"},{\"t\":\"Subscript\",\"c\":[{\"t\":\"Str\",\"c\":\"2\"}]}]}]}],[{\"t\":\"Para\",\"c\":[{\"t\":\"Str\",\"c\":\"$2.10\"}]}],[{\"t\":\"Para\",\"c\":[{\"t\":\"Str\",\"c\":\"5\"},{\"t\":\"Superscript\",\"c\":[{\"t\":\"Str\",\"c\":\"10\"}]},{\"t\":\"Subscript\",\"c\":[{\"t\":\"Str\",\"c\":\"units\"}]}]}],[{\"t\":\"Para\",\"c\":[{\"t\":\"Str\",\"c\":\"Benefits\"},{\"t\":\"Space\"},{\"t\":\"Str\",\"c\":\"of\"},{\"t\":\"Space\"},{\"t\":\"Str\",\"c\":\"eating\"},{\"t\":\"Space\"},{\"t\":\"Str\",\"c\":\"oranges:\"}]},{\"t\":\"BulletList\",\"c\":[[{\"t\":\"Plain\",\"c\":[{\"t\":\"Strong\",\"c\":[{\"t\":\"Str\",\"c\":\"cures\"}]},{\"t\":\"Space\"},{\"t\":\"Str\",\"c\":\"scurvy\"}]}],[{\"t\":\"Plain\",\"c\":[{\"t\":\"Code\",\"c\":[[\"\",[],[]],\"tasty\"]}]}]]}]]]]}]}"
     ]
    }
   ],
   "source": [
    "!pandoc -t json csvtable.md | ./test.py\n",
    "!echo && printf '=%.0s' {1..80} && echo\n",
    "!pandoc -t json table.md | ./test.py"
   ]
  },
  {
   "cell_type": "markdown",
   "metadata": {},
   "source": [
    "# Python Script"
   ]
  },
  {
   "cell_type": "code",
   "execution_count": 18,
   "metadata": {
    "collapsed": false
   },
   "outputs": [
    {
     "name": "stdout",
     "output_type": "stream",
     "text": [
      "Overwriting pantable2csv.py\n"
     ]
    }
   ],
   "source": [
    "%%writefile pantable2csv.py\n",
    "#!/usr/bin/env python3\n",
    "import panflute\n",
    "import io\n",
    "import csv\n",
    "import yaml\n",
    "\n",
    "def ast2markdown(*ast):\n",
    "    \"\"\"\n",
    "    convert a panflute ast into markdown\n",
    "    \"\"\"\n",
    "    return panflute.convert_text(ast, input_format='panflute', output_format='markdown')\n",
    "\n",
    "def get_table_options(elem):\n",
    "    \"\"\"\n",
    "    parse the content of Table in ast and returns a dictionary of options\n",
    "    \"\"\"\n",
    "    options = {}\n",
    "    options['caption'] = elem.caption\n",
    "    options['alignment'] = elem.alignment\n",
    "    options['width'] = elem.width\n",
    "    options['header'] = elem.header\n",
    "    options['markdown'] = True\n",
    "    return options\n",
    "\n",
    "def parse_table_options(options):\n",
    "    \"\"\"\n",
    "    parse the options\n",
    "    \"\"\"\n",
    "    # caption: panflute ast to markdown\n",
    "    if options['caption']:\n",
    "        options['caption'] = ast2markdown(panflute.Para(*options['caption']))\n",
    "    else:\n",
    "        del options['caption']\n",
    "    # parse alignment\n",
    "    parsed_alignment = []\n",
    "    for alignment in options['alignment']:\n",
    "        if alignment == \"AlignLeft\":\n",
    "            parsed_alignment.append(\"L\")\n",
    "        elif alignment == \"AlignCenter\":\n",
    "            parsed_alignment.append(\"C\")\n",
    "        elif alignment == \"AlignRight\":\n",
    "            parsed_alignment.append(\"R\")\n",
    "        elif alignment == \"AlignDefault\":\n",
    "            parsed_alignment.append(\"D\")\n",
    "    options['alignment'] = \"\".join(parsed_alignment)\n",
    "    # table-width from width\n",
    "    options['table-width'] = sum(options['width'])\n",
    "    # header: False if empty header row, else True\n",
    "    options['header'] = bool(panflute.stringify(options['header']))\n",
    "    return\n",
    "\n",
    "def get_table_body(options, elem):\n",
    "    \"\"\"\n",
    "    from elem, get full table body including header row if any\n",
    "    \"\"\"\n",
    "    table_body = elem.content\n",
    "    if options['header']:\n",
    "        table_body.insert(0, elem.header)\n",
    "    return table_body\n",
    "\n",
    "def Table2list(Table):\n",
    "    \"\"\"\n",
    "    convert a pandoc table into a 2D list\n",
    "    \"\"\"\n",
    "    return [[ast2markdown(*cell.content) for cell in row.content] for row in Table]\n",
    "\n",
    "\n",
    "def list2csv(table_list):\n",
    "    with io.StringIO() as file:\n",
    "        writer = csv.writer(file)\n",
    "        writer.writerows(table_list)\n",
    "        csv_table = file.getvalue()\n",
    "    return csv_table\n",
    "\n",
    "def options2yaml(options):\n",
    "    return yaml.dump(options)\n",
    "\n",
    "def action(elem, doc):\n",
    "    \"\"\"\n",
    "    find Table element and return a csv table in code-block with class \"table\"\n",
    "    \"\"\"\n",
    "    if isinstance(elem, panflute.Table):\n",
    "        # obtain options from Table\n",
    "        options = get_table_options(elem)\n",
    "        parse_table_options(options)\n",
    "        # table in AST\n",
    "        table_body = get_table_body(options, elem)\n",
    "        # table in list\n",
    "        table_list = Table2list(table_body)\n",
    "        # table in CSV\n",
    "        csv_table = list2csv(table_list)\n",
    "        # option in YAML\n",
    "        yaml_metadata = options2yaml(options)\n",
    "        code_block = \"---\\n\" + yaml_metadata + \"---\\n\" + csv_table\n",
    "        return panflute.CodeBlock(code_block, classes=[\"table\"])\n",
    "    return\n",
    "\n",
    "def main(_=None):\n",
    "    \"\"\"\n",
    "    Any native pandoc tables will be converted into the CSV table format used by pantable:\n",
    "    \n",
    "    - in code-block with class table\n",
    "    - metadata in YAML\n",
    "    - table in CSV\n",
    "    \"\"\"\n",
    "    panflute.run_filter(action)\n",
    "\n",
    "if __name__ == '__main__':\n",
    "    main()\n"
   ]
  },
  {
   "cell_type": "code",
   "execution_count": 19,
   "metadata": {
    "collapsed": true
   },
   "outputs": [],
   "source": [
    "!chmod +x pantable2csv.py"
   ]
  },
  {
   "cell_type": "markdown",
   "metadata": {},
   "source": [
    "## Applied on Markdown Test Source"
   ]
  },
  {
   "cell_type": "code",
   "execution_count": 20,
   "metadata": {
    "collapsed": false,
    "scrolled": false
   },
   "outputs": [
    {
     "name": "stdout",
     "output_type": "stream",
     "text": [
      "{\"pandoc-api-version\":[1,17,0,4],\"meta\":{},\"blocks\":[{\"t\":\"Header\",\"c\":[1,[\"full-test\",[],[]],[{\"t\":\"Str\",\"c\":\"Full\"},{\"t\":\"Space\"},{\"t\":\"Str\",\"c\":\"Test\"}]]},{\"t\":\"CodeBlock\",\"c\":[[\"\",[\"table\"],[]],\"---\\nalignment: LRCD\\ncaption: '*Great* Title'\\nheader: true\\nmarkdown: true\\ntable-width: 1.0\\nwidth: [0.1, 0.2, 0.3, 0.4]\\n---\\n***Fruit***,~~Price~~,*Number*,`Advantages`\\r\\n*Bananas~1~*,\\\\$1.34,12~units~,\\\"Benefits of eating bananas (**Note the appropriately rendered block\\nmarkdown**):\\n\\n-   *built-in wrapper*\\n-   ~~**bright color**~~\\n\\\"\\r\\n*Oranges~2~*,\\\\$2.10,5^10^~units~,\\\"Benefits of eating oranges:\\n\\n-   **cures** scurvy\\n-   `tasty`\\n\\\"\\r\\n\"]}]}"
     ]
    }
   ],
   "source": [
    "!pandoc -t json csvtable.md -F pantable | ./pantable2csv.py"
   ]
  },
  {
   "cell_type": "code",
   "execution_count": 21,
   "metadata": {
    "collapsed": false
   },
   "outputs": [
    {
     "name": "stdout",
     "output_type": "stream",
     "text": [
      "Full Test\r\n",
      "=========\r\n",
      "\r\n",
      "``` {.table}\r\n",
      "---\r\n",
      "alignment: LRCD\r\n",
      "caption: '*Great* Title'\r\n",
      "header: true\r\n",
      "markdown: true\r\n",
      "table-width: 1.0\r\n",
      "width: [0.1, 0.2, 0.3, 0.4]\r\n",
      "---\r\n",
      "***Fruit***,~~Price~~,*Number*,`Advantages`\r",
      "\r\n",
      "*Bananas~1~*,\\$1.34,12~units~,\"Benefits of eating bananas (**Note the appropriately rendered block\r\n",
      "markdown**):\r\n",
      "\r\n",
      "-   *built-in wrapper*\r\n",
      "-   ~~**bright color**~~\r\n",
      "\"\r",
      "\r\n",
      "*Oranges~2~*,\\$2.10,5^10^~units~,\"Benefits of eating oranges:\r\n",
      "\r\n",
      "-   **cures** scurvy\r\n",
      "-   `tasty`\r\n",
      "\"\r",
      "\r\n",
      "```\r\n"
     ]
    }
   ],
   "source": [
    "!pandoc -t json csvtable.md -F pantable | ./pantable2csv.py | pandoc -f json -t markdown"
   ]
  },
  {
   "cell_type": "code",
   "execution_count": null,
   "metadata": {
    "collapsed": true
   },
   "outputs": [],
   "source": []
  }
 ],
 "metadata": {
  "kernelspec": {
   "display_name": "Python 3",
   "language": "python",
   "name": "python3"
  },
  "language_info": {
   "codemirror_mode": {
    "name": "ipython",
    "version": 3
   },
   "file_extension": ".py",
   "mimetype": "text/x-python",
   "name": "python",
   "nbconvert_exporter": "python",
   "pygments_lexer": "ipython3",
   "version": "3.5.2"
  }
 },
 "nbformat": 4,
 "nbformat_minor": 0
}
