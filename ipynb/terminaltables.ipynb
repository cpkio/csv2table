{
 "cells": [
  {
   "cell_type": "code",
   "execution_count": 2,
   "metadata": {
    "collapsed": true
   },
   "outputs": [],
   "source": [
    "import csv\n",
    "from terminaltables import *\n",
    "import os\n",
    "import sys"
   ]
  },
  {
   "cell_type": "code",
   "execution_count": 66,
   "metadata": {
    "collapsed": false
   },
   "outputs": [
    {
     "name": "stdout",
     "output_type": "stream",
     "text": [
      "Overwriting /Users/kolen/GitHub/pandoc-table-csv-test/bin/pandoc_csv2tables.py\n"
     ]
    }
   ],
   "source": [
    "%%writefile ~/GitHub/pandoc-table-csv-test/bin/pandoc_csv2tables.py\n",
    "#!/usr/bin/env python3\n",
    "import csv\n",
    "import sys\n",
    "from terminaltables import AsciiTable\n",
    "\n",
    "if __name__ == \"__main__\":\n",
    "    with open(sys.argv[1], 'r', newline='') as f:\n",
    "        data = list(csv.reader(f))\n",
    "    table = AsciiTable(data)\n",
    "    table.inner_row_border = True\n",
    "    print(table.table)\n"
   ]
  },
  {
   "cell_type": "code",
   "execution_count": 67,
   "metadata": {
    "collapsed": false
   },
   "outputs": [
    {
     "name": "stdout",
     "output_type": "stream",
     "text": [
      "+---------+---------+\r\n",
      "| Numbers | _Words_ |\r\n",
      "+---------+---------+\r\n",
      "| 1       | **Yes** |\r\n",
      "+---------+---------+\r\n",
      "| 2^2^    | *No*    |\r\n",
      "+---------+---------+\r\n",
      "| **_3_** | Yes     |\r\n",
      "+---------+---------+\r\n"
     ]
    }
   ],
   "source": [
    "!chmod +x ~/GitHub/pandoc-table-csv-test/bin/pandoc_csv2tables.py\n",
    "!~/GitHub/pandoc-table-csv-test/bin/pandoc_csv2tables.py /Users/kolen/GitHub/pandoc-table-csv-test/source/simple.csv"
   ]
  },
  {
   "cell_type": "markdown",
   "metadata": {},
   "source": [
    "# Old stuffs"
   ]
  },
  {
   "cell_type": "code",
   "execution_count": 57,
   "metadata": {
    "collapsed": false
   },
   "outputs": [],
   "source": [
    "with open('../source/simple.csv', newline='') as f:\n",
    "    table = list(csv.reader(f))"
   ]
  },
  {
   "cell_type": "code",
   "execution_count": 58,
   "metadata": {
    "collapsed": false
   },
   "outputs": [
    {
     "name": "stdout",
     "output_type": "stream",
     "text": [
      "[['Numbers', '_Words_'], ['1', '**Yes**'], ['2^2^', '*No*'], ['**_3_**', 'Yes']]\n"
     ]
    }
   ],
   "source": [
    "print(table)"
   ]
  },
  {
   "cell_type": "code",
   "execution_count": 62,
   "metadata": {
    "collapsed": false
   },
   "outputs": [
    {
     "name": "stdout",
     "output_type": "stream",
     "text": [
      "+---------+---------+\n",
      "| Numbers | _Words_ |\n",
      "+---------+---------+\n",
      "| 1       | **Yes** |\n",
      "| 2^2^    | *No*    |\n",
      "| **_3_** | Yes     |\n",
      "+---------+---------+\n"
     ]
    }
   ],
   "source": [
    "table1 = AsciiTable(table)\n",
    "print(table1.table)"
   ]
  },
  {
   "cell_type": "code",
   "execution_count": 63,
   "metadata": {
    "collapsed": false
   },
   "outputs": [
    {
     "name": "stdout",
     "output_type": "stream",
     "text": [
      "+---------+---------+\n",
      "| Numbers | _Words_ |\n",
      "+---------+---------+\n",
      "| 1       | **Yes** |\n",
      "+---------+---------+\n",
      "| 2^2^    | *No*    |\n",
      "+---------+---------+\n",
      "| **_3_** | Yes     |\n",
      "+---------+---------+\n"
     ]
    }
   ],
   "source": [
    "table1.inner_row_border = True\n",
    "print(table1.table)"
   ]
  },
  {
   "cell_type": "code",
   "execution_count": 6,
   "metadata": {
    "collapsed": false
   },
   "outputs": [
    {
     "name": "stdout",
     "output_type": "stream",
     "text": [
      "\u001b(0lqqqqqqqqqwqqqqqqqqqk\u001b(B\n",
      "\u001b(0x\u001b(B Numbers \u001b(0x\u001b(B _Words_ \u001b(0x\u001b(B\n",
      "\u001b(0tqqqqqqqqqnqqqqqqqqqu\u001b(B\n",
      "\u001b(0x\u001b(B 1       \u001b(0x\u001b(B **Yes** \u001b(0x\u001b(B\n",
      "\u001b(0x\u001b(B 2^2^    \u001b(0x\u001b(B *No*    \u001b(0x\u001b(B\n",
      "\u001b(0x\u001b(B **_3_** \u001b(0x\u001b(B Yes     \u001b(0x\u001b(B\n",
      "\u001b(0mqqqqqqqqqvqqqqqqqqqj\u001b(B\n"
     ]
    }
   ],
   "source": [
    "table2 = SingleTable(table)\n",
    "print(table2.table)"
   ]
  },
  {
   "cell_type": "code",
   "execution_count": 7,
   "metadata": {
    "collapsed": false
   },
   "outputs": [
    {
     "name": "stdout",
     "output_type": "stream",
     "text": [
      "╔═════════╦═════════╗\n",
      "║ Numbers ║ _Words_ ║\n",
      "╠═════════╬═════════╣\n",
      "║ 1       ║ **Yes** ║\n",
      "║ 2^2^    ║ *No*    ║\n",
      "║ **_3_** ║ Yes     ║\n",
      "╚═════════╩═════════╝\n"
     ]
    }
   ],
   "source": [
    "table3 = DoubleTable(table)\n",
    "print(table3.table)"
   ]
  },
  {
   "cell_type": "code",
   "execution_count": 8,
   "metadata": {
    "collapsed": false
   },
   "outputs": [
    {
     "name": "stdout",
     "output_type": "stream",
     "text": [
      "| Numbers | _Words_ |\n",
      "|---------|---------|\n",
      "| 1       | **Yes** |\n",
      "| 2^2^    | *No*    |\n",
      "| **_3_** | Yes     |\n"
     ]
    }
   ],
   "source": [
    "table4 = GithubFlavoredMarkdownTable(table)\n",
    "print(table4.table)"
   ]
  }
 ],
 "metadata": {
  "kernelspec": {
   "display_name": "Python 3",
   "language": "python",
   "name": "python3"
  },
  "language_info": {
   "codemirror_mode": {
    "name": "ipython",
    "version": 3
   },
   "file_extension": ".py",
   "mimetype": "text/x-python",
   "name": "python",
   "nbconvert_exporter": "python",
   "pygments_lexer": "ipython3",
   "version": "3.5.2"
  }
 },
 "nbformat": 4,
 "nbformat_minor": 1
}
