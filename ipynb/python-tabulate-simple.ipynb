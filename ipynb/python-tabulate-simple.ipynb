{
 "cells": [
  {
   "cell_type": "code",
   "execution_count": 1,
   "metadata": {
    "collapsed": false
   },
   "outputs": [],
   "source": [
    "import csv\n",
    "from tabulate import tabulate\n",
    "# from io import StringIO"
   ]
  },
  {
   "cell_type": "code",
   "execution_count": 2,
   "metadata": {
    "collapsed": false
   },
   "outputs": [],
   "source": [
    "with open('../source/simple.csv', newline='') as f:\n",
    "    table1 = list(csv.reader(f))"
   ]
  },
  {
   "cell_type": "code",
   "execution_count": 3,
   "metadata": {
    "collapsed": false
   },
   "outputs": [
    {
     "name": "stdout",
     "output_type": "stream",
     "text": [
      "[['Numbers', '_Words_'], ['1', '**Yes**'], ['2^2^', '*No*'], ['**_3_**', 'Yes']]\n"
     ]
    }
   ],
   "source": [
    "print(table1)"
   ]
  },
  {
   "cell_type": "code",
   "execution_count": 4,
   "metadata": {
    "collapsed": false
   },
   "outputs": [
    {
     "name": "stdout",
     "output_type": "stream",
     "text": [
      "Numbers    _Words_\n",
      "1          **Yes**\n",
      "2^2^       *No*\n",
      "**_3_**    Yes\n"
     ]
    }
   ],
   "source": [
    "print(tabulate(table1,headers=\"firstrow\", tablefmt=\"plain\"))"
   ]
  },
  {
   "cell_type": "code",
   "execution_count": 5,
   "metadata": {
    "collapsed": false
   },
   "outputs": [
    {
     "name": "stdout",
     "output_type": "stream",
     "text": [
      "Numbers    _Words_\n",
      "---------  ---------\n",
      "1          **Yes**\n",
      "2^2^       *No*\n",
      "**_3_**    Yes\n"
     ]
    }
   ],
   "source": [
    "print(tabulate(table1,headers=\"firstrow\", tablefmt=\"simple\"))"
   ]
  },
  {
   "cell_type": "code",
   "execution_count": 6,
   "metadata": {
    "collapsed": false
   },
   "outputs": [
    {
     "name": "stdout",
     "output_type": "stream",
     "text": [
      "+-----------+-----------+\n",
      "| Numbers   | _Words_   |\n",
      "+===========+===========+\n",
      "| 1         | **Yes**   |\n",
      "+-----------+-----------+\n",
      "| 2^2^      | *No*      |\n",
      "+-----------+-----------+\n",
      "| **_3_**   | Yes       |\n",
      "+-----------+-----------+\n"
     ]
    }
   ],
   "source": [
    "print(tabulate(table1,headers=\"firstrow\", tablefmt=\"grid\"))"
   ]
  },
  {
   "cell_type": "code",
   "execution_count": 7,
   "metadata": {
    "collapsed": false
   },
   "outputs": [
    {
     "name": "stdout",
     "output_type": "stream",
     "text": [
      "╒═══════════╤═══════════╕\n",
      "│ Numbers   │ _Words_   │\n",
      "╞═══════════╪═══════════╡\n",
      "│ 1         │ **Yes**   │\n",
      "├───────────┼───────────┤\n",
      "│ 2^2^      │ *No*      │\n",
      "├───────────┼───────────┤\n",
      "│ **_3_**   │ Yes       │\n",
      "╘═══════════╧═══════════╛\n"
     ]
    }
   ],
   "source": [
    "print(tabulate(table1,headers=\"firstrow\", tablefmt=\"fancy_grid\"))"
   ]
  },
  {
   "cell_type": "code",
   "execution_count": 8,
   "metadata": {
    "collapsed": false
   },
   "outputs": [
    {
     "name": "stdout",
     "output_type": "stream",
     "text": [
      "| Numbers   | _Words_   |\n",
      "|:----------|:----------|\n",
      "| 1         | **Yes**   |\n",
      "| 2^2^      | *No*      |\n",
      "| **_3_**   | Yes       |\n"
     ]
    }
   ],
   "source": [
    "print(tabulate(table1,headers=\"firstrow\", tablefmt=\"pipe\"))"
   ]
  },
  {
   "cell_type": "code",
   "execution_count": 9,
   "metadata": {
    "collapsed": false
   },
   "outputs": [
    {
     "name": "stdout",
     "output_type": "stream",
     "text": [
      "| Numbers   | _Words_   |\n",
      "|-----------+-----------|\n",
      "| 1         | **Yes**   |\n",
      "| 2^2^      | *No*      |\n",
      "| **_3_**   | Yes       |\n"
     ]
    }
   ],
   "source": [
    "print(tabulate(table1,headers=\"firstrow\", tablefmt=\"orgtbl\"))"
   ]
  },
  {
   "cell_type": "code",
   "execution_count": 10,
   "metadata": {
    "collapsed": false
   },
   "outputs": [
    {
     "name": "stdout",
     "output_type": "stream",
     "text": [
      "|| Numbers   || _Words_   ||\n",
      "| 1         | **Yes**   |\n",
      "| 2^2^      | *No*      |\n",
      "| **_3_**   | Yes       |\n"
     ]
    }
   ],
   "source": [
    "print(tabulate(table1,headers=\"firstrow\", tablefmt=\"jira\"))"
   ]
  },
  {
   "cell_type": "code",
   "execution_count": 11,
   "metadata": {
    "collapsed": false
   },
   "outputs": [
    {
     "name": "stdout",
     "output_type": "stream",
     "text": [
      "+-----------+-----------+\n",
      "| Numbers   | _Words_   |\n",
      "|-----------+-----------|\n",
      "| 1         | **Yes**   |\n",
      "| 2^2^      | *No*      |\n",
      "| **_3_**   | Yes       |\n",
      "+-----------+-----------+\n"
     ]
    }
   ],
   "source": [
    "print(tabulate(table1,headers=\"firstrow\", tablefmt=\"psql\"))"
   ]
  },
  {
   "cell_type": "code",
   "execution_count": 12,
   "metadata": {
    "collapsed": false
   },
   "outputs": [
    {
     "name": "stdout",
     "output_type": "stream",
     "text": [
      "=========  =========\n",
      "Numbers    _Words_\n",
      "=========  =========\n",
      "1          **Yes**\n",
      "2^2^       *No*\n",
      "**_3_**    Yes\n",
      "=========  =========\n"
     ]
    }
   ],
   "source": [
    "print(tabulate(table1,headers=\"firstrow\", tablefmt=\"rst\"))"
   ]
  },
  {
   "cell_type": "code",
   "execution_count": 13,
   "metadata": {
    "collapsed": false
   },
   "outputs": [
    {
     "name": "stdout",
     "output_type": "stream",
     "text": [
      "{| class=\"wikitable\" style=\"text-align: left;\"\n",
      "|+ <!-- caption -->\n",
      "|-\n",
      "! Numbers   !! _Words_\n",
      "|-\n",
      "| 1         || **Yes**\n",
      "|-\n",
      "| 2^2^      || *No*\n",
      "|-\n",
      "| **_3_**   || Yes\n",
      "|}\n"
     ]
    }
   ],
   "source": [
    "print(tabulate(table1,headers=\"firstrow\", tablefmt=\"mediawiki\"))"
   ]
  },
  {
   "cell_type": "code",
   "execution_count": 14,
   "metadata": {
    "collapsed": false
   },
   "outputs": [
    {
     "name": "stdout",
     "output_type": "stream",
     "text": [
      "|| ''' Numbers   ''' || ''' _Words_   ''' ||\n",
      "||  1          ||  **Yes**    ||\n",
      "||  2^2^       ||  *No*       ||\n",
      "||  **_3_**    ||  Yes        ||\n"
     ]
    }
   ],
   "source": [
    "print(tabulate(table1,headers=\"firstrow\", tablefmt=\"moinmoin\"))"
   ]
  },
  {
   "cell_type": "code",
   "execution_count": 15,
   "metadata": {
    "collapsed": false
   },
   "outputs": [
    {
     "name": "stdout",
     "output_type": "stream",
     "text": [
      "<table>\n",
      "<thead>\n",
      "<tr><th>Numbers  </th><th>_Words_  </th></tr>\n",
      "</thead>\n",
      "<tbody>\n",
      "<tr><td>1        </td><td>**Yes**  </td></tr>\n",
      "<tr><td>2^2^     </td><td>*No*     </td></tr>\n",
      "<tr><td>**_3_**  </td><td>Yes      </td></tr>\n",
      "</tbody>\n",
      "</table>\n"
     ]
    }
   ],
   "source": [
    "print(tabulate(table1,headers=\"firstrow\", tablefmt=\"html\"))"
   ]
  },
  {
   "cell_type": "code",
   "execution_count": 16,
   "metadata": {
    "collapsed": false
   },
   "outputs": [
    {
     "name": "stdout",
     "output_type": "stream",
     "text": [
      "\\begin{tabular}{ll}\n",
      "\\hline\n",
      " Numbers   & \\_Words\\_   \\\\\n",
      "\\hline\n",
      " 1         & **Yes**   \\\\\n",
      " 2\\^{}2\\^{}      & *No*      \\\\\n",
      " **\\_3\\_**   & Yes       \\\\\n",
      "\\hline\n",
      "\\end{tabular}\n"
     ]
    }
   ],
   "source": [
    "print(tabulate(table1,headers=\"firstrow\", tablefmt=\"latex\"))"
   ]
  },
  {
   "cell_type": "code",
   "execution_count": 17,
   "metadata": {
    "collapsed": false
   },
   "outputs": [
    {
     "name": "stdout",
     "output_type": "stream",
     "text": [
      "\\begin{tabular}{ll}\n",
      "\\toprule\n",
      " Numbers   & \\_Words\\_   \\\\\n",
      "\\midrule\n",
      " 1         & **Yes**   \\\\\n",
      " 2\\^{}2\\^{}      & *No*      \\\\\n",
      " **\\_3\\_**   & Yes       \\\\\n",
      "\\bottomrule\n",
      "\\end{tabular}\n"
     ]
    }
   ],
   "source": [
    "print(tabulate(table1,headers=\"firstrow\", tablefmt=\"latex_booktabs\"))"
   ]
  },
  {
   "cell_type": "code",
   "execution_count": 18,
   "metadata": {
    "collapsed": false
   },
   "outputs": [
    {
     "name": "stdout",
     "output_type": "stream",
     "text": [
      "|_.  Numbers   |_. _Words_   |\n",
      "|<. 1          |<. **Yes**   |\n",
      "|<. 2^2^       |<. *No*      |\n",
      "|<. **_3_**    |<. Yes       |\n"
     ]
    }
   ],
   "source": [
    "print(tabulate(table1,headers=\"firstrow\", tablefmt=\"textile\"))"
   ]
  },
  {
   "cell_type": "code",
   "execution_count": null,
   "metadata": {
    "collapsed": true
   },
   "outputs": [],
   "source": []
  }
 ],
 "metadata": {
  "kernelspec": {
   "display_name": "Python 3",
   "language": "python",
   "name": "python3"
  },
  "language_info": {
   "codemirror_mode": {
    "name": "ipython",
    "version": 3
   },
   "file_extension": ".py",
   "mimetype": "text/x-python",
   "name": "python",
   "nbconvert_exporter": "python",
   "pygments_lexer": "ipython3",
   "version": "3.5.2"
  }
 },
 "nbformat": 4,
 "nbformat_minor": 1
}
