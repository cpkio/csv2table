{
 "cells": [
  {
   "cell_type": "code",
   "execution_count": 1,
   "metadata": {
    "collapsed": false
   },
   "outputs": [],
   "source": [
    "import csv\n",
    "from tabulate import tabulate\n",
    "# from io import StringIO"
   ]
  },
  {
   "cell_type": "code",
   "execution_count": 2,
   "metadata": {
    "collapsed": false
   },
   "outputs": [],
   "source": [
    "with open('../source/grid.csv', newline='') as f:\n",
    "    table1 = list(csv.reader(f))"
   ]
  },
  {
   "cell_type": "code",
   "execution_count": 3,
   "metadata": {
    "collapsed": false
   },
   "outputs": [
    {
     "name": "stdout",
     "output_type": "stream",
     "text": [
      "[['**_Fruit_**', '~~Price~~', '_Number_', '`Advantages`'], ['*Bananas~1~*', '$1.34', '12~units~', 'Benefits of eating bananas \\n(**Note the appropriately\\nrendered block markdown**):    \\n\\n- _built-in wrapper_        \\n- ~~**bright color**~~\\n\\n'], ['*Oranges~2~*', '$2.10', '5^10^~units~', 'Benefits of eating oranges:\\n\\n- **cures** scurvy\\n- `tasty`']]\n"
     ]
    }
   ],
   "source": [
    "print(table1)"
   ]
  },
  {
   "cell_type": "code",
   "execution_count": 4,
   "metadata": {
    "collapsed": false
   },
   "outputs": [
    {
     "name": "stdout",
     "output_type": "stream",
     "text": [
      "**_Fruit_**    ~~Price~~    _Number_      `Advantages`\n",
      "*Bananas~1~*   $1.34        12~units~     Benefits of eating bananas \n",
      "(**Note the appropriately\n",
      "rendered block markdown**):    \n",
      "\n",
      "- _built-in wrapper_        \n",
      "- ~~**bright color**~~\n",
      "*Oranges~2~*   $2.10        5^10^~units~  Benefits of eating oranges:\n",
      "\n",
      "- **cures** scurvy\n",
      "- `tasty`\n"
     ]
    }
   ],
   "source": [
    "print(tabulate(table1,headers=\"firstrow\", tablefmt=\"plain\"))"
   ]
  },
  {
   "cell_type": "code",
   "execution_count": 5,
   "metadata": {
    "collapsed": false
   },
   "outputs": [
    {
     "name": "stdout",
     "output_type": "stream",
     "text": [
      "**_Fruit_**    ~~Price~~    _Number_      `Advantages`\n",
      "-------------  -----------  ------------  --------------\n",
      "*Bananas~1~*   $1.34        12~units~     Benefits of eating bananas \n",
      "(**Note the appropriately\n",
      "rendered block markdown**):    \n",
      "\n",
      "- _built-in wrapper_        \n",
      "- ~~**bright color**~~\n",
      "*Oranges~2~*   $2.10        5^10^~units~  Benefits of eating oranges:\n",
      "\n",
      "- **cures** scurvy\n",
      "- `tasty`\n"
     ]
    }
   ],
   "source": [
    "print(tabulate(table1,headers=\"firstrow\", tablefmt=\"simple\"))"
   ]
  },
  {
   "cell_type": "code",
   "execution_count": 6,
   "metadata": {
    "collapsed": false
   },
   "outputs": [
    {
     "name": "stdout",
     "output_type": "stream",
     "text": [
      "+---------------+-------------+--------------+----------------+\n",
      "| **_Fruit_**   | ~~Price~~   | _Number_     | `Advantages`   |\n",
      "+===============+=============+==============+================+\n",
      "| *Bananas~1~*  | $1.34       | 12~units~    | Benefits of eating bananas \n",
      "(**Note the appropriately\n",
      "rendered block markdown**):    \n",
      "\n",
      "- _built-in wrapper_        \n",
      "- ~~**bright color**~~                |\n",
      "+---------------+-------------+--------------+----------------+\n",
      "| *Oranges~2~*  | $2.10       | 5^10^~units~ | Benefits of eating oranges:\n",
      "\n",
      "- **cures** scurvy\n",
      "- `tasty`                |\n",
      "+---------------+-------------+--------------+----------------+\n"
     ]
    }
   ],
   "source": [
    "print(tabulate(table1,headers=\"firstrow\", tablefmt=\"grid\"))"
   ]
  },
  {
   "cell_type": "code",
   "execution_count": 7,
   "metadata": {
    "collapsed": false
   },
   "outputs": [
    {
     "name": "stdout",
     "output_type": "stream",
     "text": [
      "╒═══════════════╤═════════════╤══════════════╤════════════════╕\n",
      "│ **_Fruit_**   │ ~~Price~~   │ _Number_     │ `Advantages`   │\n",
      "╞═══════════════╪═════════════╪══════════════╪════════════════╡\n",
      "│ *Bananas~1~*  │ $1.34       │ 12~units~    │ Benefits of eating bananas \n",
      "(**Note the appropriately\n",
      "rendered block markdown**):    \n",
      "\n",
      "- _built-in wrapper_        \n",
      "- ~~**bright color**~~                │\n",
      "├───────────────┼─────────────┼──────────────┼────────────────┤\n",
      "│ *Oranges~2~*  │ $2.10       │ 5^10^~units~ │ Benefits of eating oranges:\n",
      "\n",
      "- **cures** scurvy\n",
      "- `tasty`                │\n",
      "╘═══════════════╧═════════════╧══════════════╧════════════════╛\n"
     ]
    }
   ],
   "source": [
    "print(tabulate(table1,headers=\"firstrow\", tablefmt=\"fancy_grid\"))"
   ]
  },
  {
   "cell_type": "code",
   "execution_count": 8,
   "metadata": {
    "collapsed": false
   },
   "outputs": [
    {
     "name": "stdout",
     "output_type": "stream",
     "text": [
      "| **_Fruit_**   | ~~Price~~   | _Number_     | `Advantages`   |\n",
      "|:--------------|:------------|:-------------|:---------------|\n",
      "| *Bananas~1~*  | $1.34       | 12~units~    | Benefits of eating bananas \n",
      "(**Note the appropriately\n",
      "rendered block markdown**):    \n",
      "\n",
      "- _built-in wrapper_        \n",
      "- ~~**bright color**~~                |\n",
      "| *Oranges~2~*  | $2.10       | 5^10^~units~ | Benefits of eating oranges:\n",
      "\n",
      "- **cures** scurvy\n",
      "- `tasty`                |\n"
     ]
    }
   ],
   "source": [
    "print(tabulate(table1,headers=\"firstrow\", tablefmt=\"pipe\"))"
   ]
  },
  {
   "cell_type": "code",
   "execution_count": 9,
   "metadata": {
    "collapsed": false
   },
   "outputs": [
    {
     "name": "stdout",
     "output_type": "stream",
     "text": [
      "| **_Fruit_**   | ~~Price~~   | _Number_     | `Advantages`   |\n",
      "|---------------+-------------+--------------+----------------|\n",
      "| *Bananas~1~*  | $1.34       | 12~units~    | Benefits of eating bananas \n",
      "(**Note the appropriately\n",
      "rendered block markdown**):    \n",
      "\n",
      "- _built-in wrapper_        \n",
      "- ~~**bright color**~~                |\n",
      "| *Oranges~2~*  | $2.10       | 5^10^~units~ | Benefits of eating oranges:\n",
      "\n",
      "- **cures** scurvy\n",
      "- `tasty`                |\n"
     ]
    }
   ],
   "source": [
    "print(tabulate(table1,headers=\"firstrow\", tablefmt=\"orgtbl\"))"
   ]
  },
  {
   "cell_type": "code",
   "execution_count": 10,
   "metadata": {
    "collapsed": false
   },
   "outputs": [
    {
     "name": "stdout",
     "output_type": "stream",
     "text": [
      "|| **_Fruit_**   || ~~Price~~   || _Number_     || `Advantages`   ||\n",
      "| *Bananas~1~*  | $1.34       | 12~units~    | Benefits of eating bananas \n",
      "(**Note the appropriately\n",
      "rendered block markdown**):    \n",
      "\n",
      "- _built-in wrapper_        \n",
      "- ~~**bright color**~~                |\n",
      "| *Oranges~2~*  | $2.10       | 5^10^~units~ | Benefits of eating oranges:\n",
      "\n",
      "- **cures** scurvy\n",
      "- `tasty`                |\n"
     ]
    }
   ],
   "source": [
    "print(tabulate(table1,headers=\"firstrow\", tablefmt=\"jira\"))"
   ]
  },
  {
   "cell_type": "code",
   "execution_count": 11,
   "metadata": {
    "collapsed": false
   },
   "outputs": [
    {
     "name": "stdout",
     "output_type": "stream",
     "text": [
      "+---------------+-------------+--------------+----------------+\n",
      "| **_Fruit_**   | ~~Price~~   | _Number_     | `Advantages`   |\n",
      "|---------------+-------------+--------------+----------------|\n",
      "| *Bananas~1~*  | $1.34       | 12~units~    | Benefits of eating bananas \n",
      "(**Note the appropriately\n",
      "rendered block markdown**):    \n",
      "\n",
      "- _built-in wrapper_        \n",
      "- ~~**bright color**~~                |\n",
      "| *Oranges~2~*  | $2.10       | 5^10^~units~ | Benefits of eating oranges:\n",
      "\n",
      "- **cures** scurvy\n",
      "- `tasty`                |\n",
      "+---------------+-------------+--------------+----------------+\n"
     ]
    }
   ],
   "source": [
    "print(tabulate(table1,headers=\"firstrow\", tablefmt=\"psql\"))"
   ]
  },
  {
   "cell_type": "code",
   "execution_count": 12,
   "metadata": {
    "collapsed": false
   },
   "outputs": [
    {
     "name": "stdout",
     "output_type": "stream",
     "text": [
      "=============  ===========  ============  ==============\n",
      "**_Fruit_**    ~~Price~~    _Number_      `Advantages`\n",
      "=============  ===========  ============  ==============\n",
      "*Bananas~1~*   $1.34        12~units~     Benefits of eating bananas \n",
      "(**Note the appropriately\n",
      "rendered block markdown**):    \n",
      "\n",
      "- _built-in wrapper_        \n",
      "- ~~**bright color**~~\n",
      "*Oranges~2~*   $2.10        5^10^~units~  Benefits of eating oranges:\n",
      "\n",
      "- **cures** scurvy\n",
      "- `tasty`\n",
      "=============  ===========  ============  ==============\n"
     ]
    }
   ],
   "source": [
    "print(tabulate(table1,headers=\"firstrow\", tablefmt=\"rst\"))"
   ]
  },
  {
   "cell_type": "code",
   "execution_count": 13,
   "metadata": {
    "collapsed": false
   },
   "outputs": [
    {
     "name": "stdout",
     "output_type": "stream",
     "text": [
      "{| class=\"wikitable\" style=\"text-align: left;\"\n",
      "|+ <!-- caption -->\n",
      "|-\n",
      "! **_Fruit_**   !! ~~Price~~   !! _Number_     !! `Advantages`\n",
      "|-\n",
      "| *Bananas~1~*  || $1.34       || 12~units~    || Benefits of eating bananas \n",
      "(**Note the appropriately\n",
      "rendered block markdown**):    \n",
      "\n",
      "- _built-in wrapper_        \n",
      "- ~~**bright color**~~\n",
      "|-\n",
      "| *Oranges~2~*  || $2.10       || 5^10^~units~ || Benefits of eating oranges:\n",
      "\n",
      "- **cures** scurvy\n",
      "- `tasty`\n",
      "|}\n"
     ]
    }
   ],
   "source": [
    "print(tabulate(table1,headers=\"firstrow\", tablefmt=\"mediawiki\"))"
   ]
  },
  {
   "cell_type": "code",
   "execution_count": 14,
   "metadata": {
    "collapsed": false
   },
   "outputs": [
    {
     "name": "stdout",
     "output_type": "stream",
     "text": [
      "|| ''' **_Fruit_**   ''' || ''' ~~Price~~   ''' || ''' _Number_     ''' || ''' `Advantages`   ''' ||\n",
      "||  *Bananas~1~*   ||  $1.34        ||  12~units~     ||  Benefits of eating bananas \n",
      "(**Note the appropriately\n",
      "rendered block markdown**):    \n",
      "\n",
      "- _built-in wrapper_        \n",
      "- ~~**bright color**~~                 ||\n",
      "||  *Oranges~2~*   ||  $2.10        ||  5^10^~units~  ||  Benefits of eating oranges:\n",
      "\n",
      "- **cures** scurvy\n",
      "- `tasty`                 ||\n"
     ]
    }
   ],
   "source": [
    "print(tabulate(table1,headers=\"firstrow\", tablefmt=\"moinmoin\"))"
   ]
  },
  {
   "cell_type": "code",
   "execution_count": 15,
   "metadata": {
    "collapsed": false
   },
   "outputs": [
    {
     "name": "stdout",
     "output_type": "stream",
     "text": [
      "<table>\n",
      "<thead>\n",
      "<tr><th>**_Fruit_**  </th><th>~~Price~~  </th><th>_Number_    </th><th>`Advantages`  </th></tr>\n",
      "</thead>\n",
      "<tbody>\n",
      "<tr><td>*Bananas~1~* </td><td>$1.34      </td><td>12~units~   </td><td>Benefits of eating bananas \n",
      "(**Note the appropriately\n",
      "rendered block markdown**):    \n",
      "\n",
      "- _built-in wrapper_        \n",
      "- ~~**bright color**~~               </td></tr>\n",
      "<tr><td>*Oranges~2~* </td><td>$2.10      </td><td>5^10^~units~</td><td>Benefits of eating oranges:\n",
      "\n",
      "- **cures** scurvy\n",
      "- `tasty`               </td></tr>\n",
      "</tbody>\n",
      "</table>\n"
     ]
    }
   ],
   "source": [
    "print(tabulate(table1,headers=\"firstrow\", tablefmt=\"html\"))"
   ]
  },
  {
   "cell_type": "code",
   "execution_count": 16,
   "metadata": {
    "collapsed": false
   },
   "outputs": [
    {
     "name": "stdout",
     "output_type": "stream",
     "text": [
      "\\begin{tabular}{llll}\n",
      "\\hline\n",
      " **\\_Fruit\\_**   & \\textasciitilde{}\\textasciitilde{}Price\\textasciitilde{}\\textasciitilde{}   & \\_Number\\_     & `Advantages`   \\\\\n",
      "\\hline\n",
      " *Bananas\\textasciitilde{}1\\textasciitilde{}*  & \\$1.34       & 12\\textasciitilde{}units\\textasciitilde{}    & Benefits of eating bananas \n",
      "(**Note the appropriately\n",
      "rendered block markdown**):    \n",
      "\n",
      "- \\_built-in wrapper\\_        \n",
      "- \\textasciitilde{}\\textasciitilde{}**bright color**\\textasciitilde{}\\textasciitilde{}                \\\\\n",
      " *Oranges\\textasciitilde{}2\\textasciitilde{}*  & \\$2.10       & 5\\^{}10\\^{}\\textasciitilde{}units\\textasciitilde{} & Benefits of eating oranges:\n",
      "\n",
      "- **cures** scurvy\n",
      "- `tasty`                \\\\\n",
      "\\hline\n",
      "\\end{tabular}\n"
     ]
    }
   ],
   "source": [
    "print(tabulate(table1,headers=\"firstrow\", tablefmt=\"latex\"))"
   ]
  },
  {
   "cell_type": "code",
   "execution_count": 17,
   "metadata": {
    "collapsed": false
   },
   "outputs": [
    {
     "name": "stdout",
     "output_type": "stream",
     "text": [
      "\\begin{tabular}{llll}\n",
      "\\toprule\n",
      " **\\_Fruit\\_**   & \\textasciitilde{}\\textasciitilde{}Price\\textasciitilde{}\\textasciitilde{}   & \\_Number\\_     & `Advantages`   \\\\\n",
      "\\midrule\n",
      " *Bananas\\textasciitilde{}1\\textasciitilde{}*  & \\$1.34       & 12\\textasciitilde{}units\\textasciitilde{}    & Benefits of eating bananas \n",
      "(**Note the appropriately\n",
      "rendered block markdown**):    \n",
      "\n",
      "- \\_built-in wrapper\\_        \n",
      "- \\textasciitilde{}\\textasciitilde{}**bright color**\\textasciitilde{}\\textasciitilde{}                \\\\\n",
      " *Oranges\\textasciitilde{}2\\textasciitilde{}*  & \\$2.10       & 5\\^{}10\\^{}\\textasciitilde{}units\\textasciitilde{} & Benefits of eating oranges:\n",
      "\n",
      "- **cures** scurvy\n",
      "- `tasty`                \\\\\n",
      "\\bottomrule\n",
      "\\end{tabular}\n"
     ]
    }
   ],
   "source": [
    "print(tabulate(table1,headers=\"firstrow\", tablefmt=\"latex_booktabs\"))"
   ]
  },
  {
   "cell_type": "code",
   "execution_count": 18,
   "metadata": {
    "collapsed": false
   },
   "outputs": [
    {
     "name": "stdout",
     "output_type": "stream",
     "text": [
      "|_.  **_Fruit_**   |_. ~~Price~~   |_. _Number_     |_. `Advantages`   |\n",
      "|<. *Bananas~1~*   |<. $1.34       |<. 12~units~    |<. Benefits of eating bananas \n",
      "(**Note the appropriately\n",
      "rendered block markdown**):    \n",
      "\n",
      "- _built-in wrapper_        \n",
      "- ~~**bright color**~~                |\n",
      "|<. *Oranges~2~*   |<. $2.10       |<. 5^10^~units~ |<. Benefits of eating oranges:\n",
      "\n",
      "- **cures** scurvy\n",
      "- `tasty`                |\n"
     ]
    }
   ],
   "source": [
    "print(tabulate(table1,headers=\"firstrow\", tablefmt=\"textile\"))"
   ]
  },
  {
   "cell_type": "code",
   "execution_count": null,
   "metadata": {
    "collapsed": true
   },
   "outputs": [],
   "source": []
  }
 ],
 "metadata": {
  "kernelspec": {
   "display_name": "Python 3",
   "language": "python",
   "name": "python3"
  },
  "language_info": {
   "codemirror_mode": {
    "name": "ipython",
    "version": 3
   },
   "file_extension": ".py",
   "mimetype": "text/x-python",
   "name": "python",
   "nbconvert_exporter": "python",
   "pygments_lexer": "ipython3",
   "version": "3.5.2"
  }
 },
 "nbformat": 4,
 "nbformat_minor": 1
}
