{
 "cells": [
  {
   "cell_type": "code",
   "execution_count": 1,
   "metadata": {
    "collapsed": false
   },
   "outputs": [],
   "source": [
    "import csv\n",
    "from tabulate import tabulate\n",
    "# from io import StringIO"
   ]
  },
  {
   "cell_type": "code",
   "execution_count": 2,
   "metadata": {
    "collapsed": false
   },
   "outputs": [],
   "source": [
    "with open('../source/multiline.csv', newline='') as f:\n",
    "    table1 = list(csv.reader(f))"
   ]
  },
  {
   "cell_type": "code",
   "execution_count": 3,
   "metadata": {
    "collapsed": false
   },
   "outputs": [
    {
     "name": "stdout",
     "output_type": "stream",
     "text": [
      "[['**_Centered\\nHeader_**', '~~Default\\nAligned~~', '_Right\\nAligned_', '`Left\\nAligned`'], ['First~1~', 'row', '12~units~', 'Example of a row that\\nspans multiple lines.'], ['*Second~2~*', 'row', '5^10^~units~', \"Here's **another** one.\\n_Note the appropriately\\nrendered inline\\nmarkdown._\"]]\n"
     ]
    }
   ],
   "source": [
    "print(table1)"
   ]
  },
  {
   "cell_type": "code",
   "execution_count": 4,
   "metadata": {
    "collapsed": false
   },
   "outputs": [
    {
     "name": "stdout",
     "output_type": "stream",
     "text": [
      "**_Centered\n",
      "Header_**              ~~Default\n",
      "Aligned~~      _Right\n",
      "Aligned_               `Left\n",
      "Aligned`\n",
      "First~1~     row  12~units~     Example of a row that\n",
      "spans multiple lines.\n",
      "*Second~2~*  row  5^10^~units~  Here's **another** one.\n",
      "_Note the appropriately\n",
      "rendered inline\n",
      "markdown._\n"
     ]
    }
   ],
   "source": [
    "print(tabulate(table1,headers=\"firstrow\", tablefmt=\"plain\"))"
   ]
  },
  {
   "cell_type": "code",
   "execution_count": 5,
   "metadata": {
    "collapsed": false
   },
   "outputs": [
    {
     "name": "stdout",
     "output_type": "stream",
     "text": [
      "**_Centered\n",
      "Header_**              ~~Default\n",
      "Aligned~~      _Right\n",
      "Aligned_               `Left\n",
      "Aligned`\n",
      "-----------  ---  ------------  -\n",
      "First~1~     row  12~units~     Example of a row that\n",
      "spans multiple lines.\n",
      "*Second~2~*  row  5^10^~units~  Here's **another** one.\n",
      "_Note the appropriately\n",
      "rendered inline\n",
      "markdown._\n"
     ]
    }
   ],
   "source": [
    "print(tabulate(table1,headers=\"firstrow\", tablefmt=\"simple\"))"
   ]
  },
  {
   "cell_type": "code",
   "execution_count": 6,
   "metadata": {
    "collapsed": false
   },
   "outputs": [
    {
     "name": "stdout",
     "output_type": "stream",
     "text": [
      "+-------------+-----+--------------+---+\n",
      "| **_Centered\n",
      "Header_**             | ~~Default\n",
      "Aligned~~     | _Right\n",
      "Aligned_              | `Left\n",
      "Aligned`   |\n",
      "+=============+=====+==============+===+\n",
      "| First~1~    | row | 12~units~    | Example of a row that\n",
      "spans multiple lines.   |\n",
      "+-------------+-----+--------------+---+\n",
      "| *Second~2~* | row | 5^10^~units~ | Here's **another** one.\n",
      "_Note the appropriately\n",
      "rendered inline\n",
      "markdown._   |\n",
      "+-------------+-----+--------------+---+\n"
     ]
    }
   ],
   "source": [
    "print(tabulate(table1,headers=\"firstrow\", tablefmt=\"grid\"))"
   ]
  },
  {
   "cell_type": "code",
   "execution_count": 7,
   "metadata": {
    "collapsed": false
   },
   "outputs": [
    {
     "name": "stdout",
     "output_type": "stream",
     "text": [
      "╒═════════════╤═════╤══════════════╤═══╕\n",
      "│ **_Centered\n",
      "Header_**             │ ~~Default\n",
      "Aligned~~     │ _Right\n",
      "Aligned_              │ `Left\n",
      "Aligned`   │\n",
      "╞═════════════╪═════╪══════════════╪═══╡\n",
      "│ First~1~    │ row │ 12~units~    │ Example of a row that\n",
      "spans multiple lines.   │\n",
      "├─────────────┼─────┼──────────────┼───┤\n",
      "│ *Second~2~* │ row │ 5^10^~units~ │ Here's **another** one.\n",
      "_Note the appropriately\n",
      "rendered inline\n",
      "markdown._   │\n",
      "╘═════════════╧═════╧══════════════╧═══╛\n"
     ]
    }
   ],
   "source": [
    "print(tabulate(table1,headers=\"firstrow\", tablefmt=\"fancy_grid\"))"
   ]
  },
  {
   "cell_type": "code",
   "execution_count": 8,
   "metadata": {
    "collapsed": false
   },
   "outputs": [
    {
     "name": "stdout",
     "output_type": "stream",
     "text": [
      "| **_Centered\n",
      "Header_**             | ~~Default\n",
      "Aligned~~     | _Right\n",
      "Aligned_              | `Left\n",
      "Aligned`   |\n",
      "|:------------|:----|:-------------|:--|\n",
      "| First~1~    | row | 12~units~    | Example of a row that\n",
      "spans multiple lines.   |\n",
      "| *Second~2~* | row | 5^10^~units~ | Here's **another** one.\n",
      "_Note the appropriately\n",
      "rendered inline\n",
      "markdown._   |\n"
     ]
    }
   ],
   "source": [
    "print(tabulate(table1,headers=\"firstrow\", tablefmt=\"pipe\"))"
   ]
  },
  {
   "cell_type": "code",
   "execution_count": 9,
   "metadata": {
    "collapsed": false
   },
   "outputs": [
    {
     "name": "stdout",
     "output_type": "stream",
     "text": [
      "| **_Centered\n",
      "Header_**             | ~~Default\n",
      "Aligned~~     | _Right\n",
      "Aligned_              | `Left\n",
      "Aligned`   |\n",
      "|-------------+-----+--------------+---|\n",
      "| First~1~    | row | 12~units~    | Example of a row that\n",
      "spans multiple lines.   |\n",
      "| *Second~2~* | row | 5^10^~units~ | Here's **another** one.\n",
      "_Note the appropriately\n",
      "rendered inline\n",
      "markdown._   |\n"
     ]
    }
   ],
   "source": [
    "print(tabulate(table1,headers=\"firstrow\", tablefmt=\"orgtbl\"))"
   ]
  },
  {
   "cell_type": "code",
   "execution_count": 10,
   "metadata": {
    "collapsed": false
   },
   "outputs": [
    {
     "name": "stdout",
     "output_type": "stream",
     "text": [
      "|| **_Centered\n",
      "Header_**             || ~~Default\n",
      "Aligned~~     || _Right\n",
      "Aligned_              || `Left\n",
      "Aligned`   ||\n",
      "| First~1~    | row | 12~units~    | Example of a row that\n",
      "spans multiple lines.   |\n",
      "| *Second~2~* | row | 5^10^~units~ | Here's **another** one.\n",
      "_Note the appropriately\n",
      "rendered inline\n",
      "markdown._   |\n"
     ]
    }
   ],
   "source": [
    "print(tabulate(table1,headers=\"firstrow\", tablefmt=\"jira\"))"
   ]
  },
  {
   "cell_type": "code",
   "execution_count": 11,
   "metadata": {
    "collapsed": false
   },
   "outputs": [
    {
     "name": "stdout",
     "output_type": "stream",
     "text": [
      "+-------------+-----+--------------+---+\n",
      "| **_Centered\n",
      "Header_**             | ~~Default\n",
      "Aligned~~     | _Right\n",
      "Aligned_              | `Left\n",
      "Aligned`   |\n",
      "|-------------+-----+--------------+---|\n",
      "| First~1~    | row | 12~units~    | Example of a row that\n",
      "spans multiple lines.   |\n",
      "| *Second~2~* | row | 5^10^~units~ | Here's **another** one.\n",
      "_Note the appropriately\n",
      "rendered inline\n",
      "markdown._   |\n",
      "+-------------+-----+--------------+---+\n"
     ]
    }
   ],
   "source": [
    "print(tabulate(table1,headers=\"firstrow\", tablefmt=\"psql\"))"
   ]
  },
  {
   "cell_type": "code",
   "execution_count": 12,
   "metadata": {
    "collapsed": false
   },
   "outputs": [
    {
     "name": "stdout",
     "output_type": "stream",
     "text": [
      "===========  ===  ============  =\n",
      "**_Centered\n",
      "Header_**              ~~Default\n",
      "Aligned~~      _Right\n",
      "Aligned_               `Left\n",
      "Aligned`\n",
      "===========  ===  ============  =\n",
      "First~1~     row  12~units~     Example of a row that\n",
      "spans multiple lines.\n",
      "*Second~2~*  row  5^10^~units~  Here's **another** one.\n",
      "_Note the appropriately\n",
      "rendered inline\n",
      "markdown._\n",
      "===========  ===  ============  =\n"
     ]
    }
   ],
   "source": [
    "print(tabulate(table1,headers=\"firstrow\", tablefmt=\"rst\"))"
   ]
  },
  {
   "cell_type": "code",
   "execution_count": 13,
   "metadata": {
    "collapsed": false
   },
   "outputs": [
    {
     "name": "stdout",
     "output_type": "stream",
     "text": [
      "{| class=\"wikitable\" style=\"text-align: left;\"\n",
      "|+ <!-- caption -->\n",
      "|-\n",
      "! **_Centered\n",
      "Header_**             !! ~~Default\n",
      "Aligned~~     !! _Right\n",
      "Aligned_              !! `Left\n",
      "Aligned`\n",
      "|-\n",
      "| First~1~    || row || 12~units~    || Example of a row that\n",
      "spans multiple lines.\n",
      "|-\n",
      "| *Second~2~* || row || 5^10^~units~ || Here's **another** one.\n",
      "_Note the appropriately\n",
      "rendered inline\n",
      "markdown._\n",
      "|}\n"
     ]
    }
   ],
   "source": [
    "print(tabulate(table1,headers=\"firstrow\", tablefmt=\"mediawiki\"))"
   ]
  },
  {
   "cell_type": "code",
   "execution_count": 14,
   "metadata": {
    "collapsed": false
   },
   "outputs": [
    {
     "name": "stdout",
     "output_type": "stream",
     "text": [
      "|| ''' **_Centered\n",
      "Header_**             ''' || ''' ~~Default\n",
      "Aligned~~     ''' || ''' _Right\n",
      "Aligned_              ''' || ''' `Left\n",
      "Aligned`   ''' ||\n",
      "||  First~1~     ||  row  ||  12~units~     ||  Example of a row that\n",
      "spans multiple lines.    ||\n",
      "||  *Second~2~*  ||  row  ||  5^10^~units~  ||  Here's **another** one.\n",
      "_Note the appropriately\n",
      "rendered inline\n",
      "markdown._    ||\n"
     ]
    }
   ],
   "source": [
    "print(tabulate(table1,headers=\"firstrow\", tablefmt=\"moinmoin\"))"
   ]
  },
  {
   "cell_type": "code",
   "execution_count": 15,
   "metadata": {
    "collapsed": false
   },
   "outputs": [
    {
     "name": "stdout",
     "output_type": "stream",
     "text": [
      "<table>\n",
      "<thead>\n",
      "<tr><th>**_Centered\n",
      "Header_**            </th><th>~~Default\n",
      "Aligned~~    </th><th>_Right\n",
      "Aligned_             </th><th>`Left\n",
      "Aligned`  </th></tr>\n",
      "</thead>\n",
      "<tbody>\n",
      "<tr><td>First~1~   </td><td>row</td><td>12~units~   </td><td>Example of a row that\n",
      "spans multiple lines.  </td></tr>\n",
      "<tr><td>*Second~2~*</td><td>row</td><td>5^10^~units~</td><td>Here's **another** one.\n",
      "_Note the appropriately\n",
      "rendered inline\n",
      "markdown._  </td></tr>\n",
      "</tbody>\n",
      "</table>\n"
     ]
    }
   ],
   "source": [
    "print(tabulate(table1,headers=\"firstrow\", tablefmt=\"html\"))"
   ]
  },
  {
   "cell_type": "code",
   "execution_count": 16,
   "metadata": {
    "collapsed": false
   },
   "outputs": [
    {
     "name": "stdout",
     "output_type": "stream",
     "text": [
      "\\begin{tabular}{llll}\n",
      "\\hline\n",
      " **\\_Centered\n",
      "Header\\_**             & \\textasciitilde{}\\textasciitilde{}Default\n",
      "Aligned\\textasciitilde{}\\textasciitilde{}     & \\_Right\n",
      "Aligned\\_              & `Left\n",
      "Aligned`   \\\\\n",
      "\\hline\n",
      " First\\textasciitilde{}1\\textasciitilde{}    & row & 12\\textasciitilde{}units\\textasciitilde{}    & Example of a row that\n",
      "spans multiple lines.   \\\\\n",
      " *Second\\textasciitilde{}2\\textasciitilde{}* & row & 5\\^{}10\\^{}\\textasciitilde{}units\\textasciitilde{} & Here's **another** one.\n",
      "\\_Note the appropriately\n",
      "rendered inline\n",
      "markdown.\\_   \\\\\n",
      "\\hline\n",
      "\\end{tabular}\n"
     ]
    }
   ],
   "source": [
    "print(tabulate(table1,headers=\"firstrow\", tablefmt=\"latex\"))"
   ]
  },
  {
   "cell_type": "code",
   "execution_count": 17,
   "metadata": {
    "collapsed": false
   },
   "outputs": [
    {
     "name": "stdout",
     "output_type": "stream",
     "text": [
      "\\begin{tabular}{llll}\n",
      "\\toprule\n",
      " **\\_Centered\n",
      "Header\\_**             & \\textasciitilde{}\\textasciitilde{}Default\n",
      "Aligned\\textasciitilde{}\\textasciitilde{}     & \\_Right\n",
      "Aligned\\_              & `Left\n",
      "Aligned`   \\\\\n",
      "\\midrule\n",
      " First\\textasciitilde{}1\\textasciitilde{}    & row & 12\\textasciitilde{}units\\textasciitilde{}    & Example of a row that\n",
      "spans multiple lines.   \\\\\n",
      " *Second\\textasciitilde{}2\\textasciitilde{}* & row & 5\\^{}10\\^{}\\textasciitilde{}units\\textasciitilde{} & Here's **another** one.\n",
      "\\_Note the appropriately\n",
      "rendered inline\n",
      "markdown.\\_   \\\\\n",
      "\\bottomrule\n",
      "\\end{tabular}\n"
     ]
    }
   ],
   "source": [
    "print(tabulate(table1,headers=\"firstrow\", tablefmt=\"latex_booktabs\"))"
   ]
  },
  {
   "cell_type": "code",
   "execution_count": 18,
   "metadata": {
    "collapsed": false
   },
   "outputs": [
    {
     "name": "stdout",
     "output_type": "stream",
     "text": [
      "|_.  **_Centered\n",
      "Header_**             |_. ~~Default\n",
      "Aligned~~     |_. _Right\n",
      "Aligned_              |_. `Left\n",
      "Aligned`   |\n",
      "|<. First~1~     |<. row |<. 12~units~    |<. Example of a row that\n",
      "spans multiple lines.   |\n",
      "|<. *Second~2~*  |<. row |<. 5^10^~units~ |<. Here's **another** one.\n",
      "_Note the appropriately\n",
      "rendered inline\n",
      "markdown._   |\n"
     ]
    }
   ],
   "source": [
    "print(tabulate(table1,headers=\"firstrow\", tablefmt=\"textile\"))"
   ]
  },
  {
   "cell_type": "code",
   "execution_count": null,
   "metadata": {
    "collapsed": true
   },
   "outputs": [],
   "source": []
  }
 ],
 "metadata": {
  "kernelspec": {
   "display_name": "Python 3",
   "language": "python",
   "name": "python3"
  },
  "language_info": {
   "codemirror_mode": {
    "name": "ipython",
    "version": 3
   },
   "file_extension": ".py",
   "mimetype": "text/x-python",
   "name": "python",
   "nbconvert_exporter": "python",
   "pygments_lexer": "ipython3",
   "version": "3.5.2"
  }
 },
 "nbformat": 4,
 "nbformat_minor": 1
}
