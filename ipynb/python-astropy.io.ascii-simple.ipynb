{
 "cells": [
  {
   "cell_type": "code",
   "execution_count": 1,
   "metadata": {
    "collapsed": false
   },
   "outputs": [],
   "source": [
    "from astropy.io import ascii\n",
    "import sys"
   ]
  },
  {
   "cell_type": "code",
   "execution_count": 2,
   "metadata": {
    "collapsed": true
   },
   "outputs": [],
   "source": [
    "table=ascii.read('../source/simple.csv', format='csv')"
   ]
  },
  {
   "cell_type": "code",
   "execution_count": 3,
   "metadata": {
    "collapsed": false
   },
   "outputs": [
    {
     "name": "stdout",
     "output_type": "stream",
     "text": [
      "Numbers _Words_\n",
      "------- -------\n",
      "      1 **Yes**\n",
      "   2^2^    *No*\n",
      "**_3_**     Yes\n"
     ]
    }
   ],
   "source": [
    "print(table)"
   ]
  },
  {
   "cell_type": "code",
   "execution_count": 4,
   "metadata": {
    "collapsed": false
   },
   "outputs": [
    {
     "name": "stdout",
     "output_type": "stream",
     "text": [
      "\\begin{deluxetable}{cc}\n",
      "\\tablehead{\\colhead{Numbers} & \\colhead{_Words_}}\n",
      "\\startdata\n",
      "1 & **Yes** \\\\\n",
      "2^2^ & *No* \\\\\n",
      "**_3_** & Yes\n",
      "\\enddata\n",
      "\\end{deluxetable}\n"
     ]
    }
   ],
   "source": [
    "ascii.write(table, sys.stdout, format='aastex')"
   ]
  },
  {
   "cell_type": "code",
   "execution_count": 5,
   "metadata": {
    "collapsed": false
   },
   "outputs": [
    {
     "name": "stdout",
     "output_type": "stream",
     "text": [
      "Numbers _Words_\n",
      "1 **Yes**\n",
      "2^2^ *No*\n",
      "**_3_** Yes\n"
     ]
    }
   ],
   "source": [
    "ascii.write(table, sys.stdout, format='basic')"
   ]
  },
  {
   "cell_type": "code",
   "execution_count": 6,
   "metadata": {
    "collapsed": false
   },
   "outputs": [
    {
     "name": "stdout",
     "output_type": "stream",
     "text": [
      "# Numbers _Words_\n",
      "1 **Yes**\n",
      "2^2^ *No*\n",
      "**_3_** Yes\n"
     ]
    }
   ],
   "source": [
    "ascii.write(table, sys.stdout, format='commented_header')"
   ]
  },
  {
   "cell_type": "code",
   "execution_count": 7,
   "metadata": {
    "collapsed": false
   },
   "outputs": [
    {
     "name": "stdout",
     "output_type": "stream",
     "text": [
      "Numbers,_Words_\n",
      "1,**Yes**\n",
      "2^2^,*No*\n",
      "**_3_**,Yes\n"
     ]
    }
   ],
   "source": [
    "ascii.write(table, sys.stdout, format='csv')"
   ]
  },
  {
   "cell_type": "code",
   "execution_count": 8,
   "metadata": {
    "collapsed": false
   },
   "outputs": [
    {
     "name": "stdout",
     "output_type": "stream",
     "text": [
      "# %ECSV 0.9\n",
      "# ---\n",
      "# datatype:\n",
      "# - {name: Numbers, datatype: string}\n",
      "# - {name: _Words_, datatype: string}\n",
      "Numbers _Words_\n",
      "1 **Yes**\n",
      "2^2^ *No*\n",
      "**_3_** Yes\n"
     ]
    }
   ],
   "source": [
    "ascii.write(table, sys.stdout, format='ecsv')"
   ]
  },
  {
   "cell_type": "code",
   "execution_count": 9,
   "metadata": {
    "collapsed": false
   },
   "outputs": [
    {
     "name": "stdout",
     "output_type": "stream",
     "text": [
      "| Numbers | _Words_ |\n",
      "|       1 | **Yes** |\n",
      "|    2^2^ |    *No* |\n",
      "| **_3_** |     Yes |\n"
     ]
    }
   ],
   "source": [
    "ascii.write(table, sys.stdout, format='fixed_width')"
   ]
  },
  {
   "cell_type": "code",
   "execution_count": 10,
   "metadata": {
    "collapsed": false
   },
   "outputs": [
    {
     "name": "stdout",
     "output_type": "stream",
     "text": [
      "|       1 | **Yes** |\n",
      "|    2^2^ |    *No* |\n",
      "| **_3_** |     Yes |\n"
     ]
    }
   ],
   "source": [
    "ascii.write(table, sys.stdout, format='fixed_width_no_header')"
   ]
  },
  {
   "cell_type": "code",
   "execution_count": 11,
   "metadata": {
    "collapsed": false
   },
   "outputs": [
    {
     "name": "stdout",
     "output_type": "stream",
     "text": [
      "Numbers _Words_\n",
      "------- -------\n",
      "      1 **Yes**\n",
      "   2^2^    *No*\n",
      "**_3_**     Yes\n"
     ]
    }
   ],
   "source": [
    "ascii.write(table, sys.stdout, format='fixed_width_two_line')"
   ]
  },
  {
   "cell_type": "code",
   "execution_count": 12,
   "metadata": {
    "collapsed": false
   },
   "outputs": [
    {
     "name": "stdout",
     "output_type": "stream",
     "text": [
      "<html>\n",
      " <head>\n",
      "  <meta charset=\"utf-8\"/>\n",
      "  <meta content=\"text/html;charset=UTF-8\" http-equiv=\"Content-type\"/>\n",
      " </head>\n",
      " <body>\n",
      "  <table>\n",
      "   <thead>\n",
      "    <tr>\n",
      "     <th>Numbers</th>\n",
      "     <th>_Words_</th>\n",
      "    </tr>\n",
      "   </thead>\n",
      "   <tr>\n",
      "    <td>1</td>\n",
      "    <td>**Yes**</td>\n",
      "   </tr>\n",
      "   <tr>\n",
      "    <td>2^2^</td>\n",
      "    <td>*No*</td>\n",
      "   </tr>\n",
      "   <tr>\n",
      "    <td>**_3_**</td>\n",
      "    <td>Yes</td>\n",
      "   </tr>\n",
      "  </table>\n",
      " </body>\n",
      "</html>\n",
      "\n"
     ]
    }
   ],
   "source": [
    "ascii.write(table, sys.stdout, format='html')"
   ]
  },
  {
   "cell_type": "code",
   "execution_count": 13,
   "metadata": {
    "collapsed": false
   },
   "outputs": [
    {
     "name": "stdout",
     "output_type": "stream",
     "text": [
      "|Numbers|_Words_|\n",
      "|   char|   char|\n",
      "|       |       |\n",
      "|   null|   null|\n",
      "       1 **Yes** \n",
      "    2^2^    *No* \n",
      " **_3_**     Yes \n"
     ]
    }
   ],
   "source": [
    "ascii.write(table, sys.stdout, format='ipac')"
   ]
  },
  {
   "cell_type": "code",
   "execution_count": 14,
   "metadata": {
    "collapsed": false
   },
   "outputs": [
    {
     "name": "stdout",
     "output_type": "stream",
     "text": [
      "\\begin{table}\n",
      "\\begin{tabular}{cc}\n",
      "Numbers & _Words_ \\\\\n",
      "1 & **Yes** \\\\\n",
      "2^2^ & *No* \\\\\n",
      "**_3_** & Yes \\\\\n",
      "\\end{tabular}\n",
      "\\end{table}\n"
     ]
    }
   ],
   "source": [
    "ascii.write(table, sys.stdout, format='latex')"
   ]
  },
  {
   "cell_type": "code",
   "execution_count": 15,
   "metadata": {
    "collapsed": false
   },
   "outputs": [
    {
     "name": "stdout",
     "output_type": "stream",
     "text": [
      "1 **Yes**\n",
      "2^2^ *No*\n",
      "**_3_** Yes\n"
     ]
    }
   ],
   "source": [
    "ascii.write(table, sys.stdout, format='no_header')"
   ]
  },
  {
   "cell_type": "code",
   "execution_count": 16,
   "metadata": {
    "collapsed": false
   },
   "outputs": [
    {
     "name": "stdout",
     "output_type": "stream",
     "text": [
      "Numbers\t_Words_\n",
      "S\tS\n",
      "1\t**Yes**\n",
      "2^2^\t*No*\n",
      "**_3_**\tYes\n"
     ]
    }
   ],
   "source": [
    "ascii.write(table, sys.stdout, format='rdb')"
   ]
  },
  {
   "cell_type": "code",
   "execution_count": 17,
   "metadata": {
    "collapsed": false
   },
   "outputs": [
    {
     "name": "stdout",
     "output_type": "stream",
     "text": [
      "======= =======\n",
      "Numbers _Words_\n",
      "======= =======\n",
      "      1 **Yes**\n",
      "   2^2^    *No*\n",
      "**_3_**     Yes\n",
      "======= =======\n"
     ]
    }
   ],
   "source": [
    "ascii.write(table, sys.stdout, format='rst')"
   ]
  },
  {
   "cell_type": "code",
   "execution_count": 18,
   "metadata": {
    "collapsed": false
   },
   "outputs": [
    {
     "name": "stdout",
     "output_type": "stream",
     "text": [
      "Numbers\t_Words_\n",
      "1\t**Yes**\n",
      "2^2^\t*No*\n",
      "**_3_**\tYes\n"
     ]
    }
   ],
   "source": [
    "ascii.write(table, sys.stdout, format='tab')"
   ]
  }
 ],
 "metadata": {
  "kernelspec": {
   "display_name": "Python 3",
   "language": "python",
   "name": "python3"
  },
  "language_info": {
   "codemirror_mode": {
    "name": "ipython",
    "version": 3
   },
   "file_extension": ".py",
   "mimetype": "text/x-python",
   "name": "python",
   "nbconvert_exporter": "python",
   "pygments_lexer": "ipython3",
   "version": "3.5.2"
  }
 },
 "nbformat": 4,
 "nbformat_minor": 1
}
