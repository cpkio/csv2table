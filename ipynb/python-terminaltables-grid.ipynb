{
 "cells": [
  {
   "cell_type": "code",
   "execution_count": 1,
   "metadata": {
    "collapsed": false
   },
   "outputs": [],
   "source": [
    "import csv\n",
    "from terminaltables import *"
   ]
  },
  {
   "cell_type": "code",
   "execution_count": 2,
   "metadata": {
    "collapsed": false
   },
   "outputs": [],
   "source": [
    "with open('../source/grid.csv', newline='') as f:\n",
    "    table = list(csv.reader(f))"
   ]
  },
  {
   "cell_type": "code",
   "execution_count": 3,
   "metadata": {
    "collapsed": false
   },
   "outputs": [
    {
     "name": "stdout",
     "output_type": "stream",
     "text": [
      "[['**_Fruit_**', '~~Price~~', '_Number_', '`Advantages`'], ['*Bananas~1~*', '$1.34', '12~units~', 'Benefits of eating bananas \\n(**Note the appropriately\\nrendered block markdown**):    \\n\\n- _built-in wrapper_        \\n- ~~**bright color**~~\\n\\n'], ['*Oranges~2~*', '$2.10', '5^10^~units~', 'Benefits of eating oranges:\\n\\n- **cures** scurvy\\n- `tasty`']]\n"
     ]
    }
   ],
   "source": [
    "print(table)"
   ]
  },
  {
   "cell_type": "code",
   "execution_count": 4,
   "metadata": {
    "collapsed": false
   },
   "outputs": [
    {
     "name": "stdout",
     "output_type": "stream",
     "text": [
      "+--------------+-----------+--------------+---------------------------------+\n",
      "| **_Fruit_**  | ~~Price~~ | _Number_     | `Advantages`                    |\n",
      "+--------------+-----------+--------------+---------------------------------+\n",
      "| *Bananas~1~* | $1.34     | 12~units~    | Benefits of eating bananas      |\n",
      "|              |           |              | (**Note the appropriately       |\n",
      "|              |           |              | rendered block markdown**):     |\n",
      "|              |           |              |                                 |\n",
      "|              |           |              | - _built-in wrapper_            |\n",
      "|              |           |              | - ~~**bright color**~~          |\n",
      "|              |           |              |                                 |\n",
      "|              |           |              |                                 |\n",
      "| *Oranges~2~* | $2.10     | 5^10^~units~ | Benefits of eating oranges:     |\n",
      "|              |           |              |                                 |\n",
      "|              |           |              | - **cures** scurvy              |\n",
      "|              |           |              | - `tasty`                       |\n",
      "+--------------+-----------+--------------+---------------------------------+\n"
     ]
    }
   ],
   "source": [
    "table1 = AsciiTable(table)\n",
    "print(table1.table)"
   ]
  },
  {
   "cell_type": "code",
   "execution_count": 5,
   "metadata": {
    "collapsed": false
   },
   "outputs": [
    {
     "name": "stdout",
     "output_type": "stream",
     "text": [
      "+--------------+-----------+--------------+---------------------------------+\n",
      "| **_Fruit_**  | ~~Price~~ |     _Number_ | `Advantages`                    |\n",
      "+--------------+-----------+--------------+---------------------------------+\n",
      "| *Bananas~1~* |     $1.34 |    12~units~ | Benefits of eating bananas      |\n",
      "|              |           |              | (**Note the appropriately       |\n",
      "|              |           |              | rendered block markdown**):     |\n",
      "|              |           |              |                                 |\n",
      "|              |           |              | - _built-in wrapper_            |\n",
      "|              |           |              | - ~~**bright color**~~          |\n",
      "|              |           |              |                                 |\n",
      "|              |           |              |                                 |\n",
      "+--------------+-----------+--------------+---------------------------------+\n",
      "| *Oranges~2~* |     $2.10 | 5^10^~units~ | Benefits of eating oranges:     |\n",
      "|              |           |              |                                 |\n",
      "|              |           |              | - **cures** scurvy              |\n",
      "|              |           |              | - `tasty`                       |\n",
      "+--------------+-----------+--------------+---------------------------------+\n"
     ]
    }
   ],
   "source": [
    "table1.inner_row_border = True\n",
    "# table1.padding_left = 2\n",
    "# table1.padding_right = 2\n",
    "table1.justify_columns = {0:\"center\", 1:\"right\", 2:\"right\", 3:\"left\"}\n",
    "print(table1.table)"
   ]
  },
  {
   "cell_type": "code",
   "execution_count": 9,
   "metadata": {
    "collapsed": false
   },
   "outputs": [
    {
     "name": "stdout",
     "output_type": "stream",
     "text": [
      "+--------------+-----------+--------------+---------------------------------+\n",
      "| **_Fruit_**  | ~~Price~~ |     _Number_ |                    `Advantages` |\n",
      "+--------------+-----------+--------------+---------------------------------+\n",
      "| *Bananas~1~* |     $1.34 |    12~units~ |     Benefits of eating bananas  |\n",
      "|              |           |              |       (**Note the appropriately |\n",
      "|              |           |              | rendered block markdown**):     |\n",
      "|              |           |              |                                 |\n",
      "|              |           |              |    - _built-in wrapper_         |\n",
      "|              |           |              |          - ~~**bright color**~~ |\n",
      "|              |           |              |                                 |\n",
      "|              |           |              |                                 |\n",
      "+--------------+-----------+--------------+---------------------------------+\n",
      "| *Oranges~2~* |     $2.10 | 5^10^~units~ |     Benefits of eating oranges: |\n",
      "|              |           |              |                                 |\n",
      "|              |           |              |              - **cures** scurvy |\n",
      "|              |           |              |                       - `tasty` |\n",
      "+--------------+-----------+--------------+---------------------------------+\n"
     ]
    }
   ],
   "source": [
    "table1.inner_row_border = True\n",
    "table1.justify_columns = {0:\"center\", 1:\"right\", 2:\"right\", 3:\"right\"}\n",
    "print(table1.table)"
   ]
  },
  {
   "cell_type": "code",
   "execution_count": 6,
   "metadata": {
    "collapsed": false
   },
   "outputs": [
    {
     "name": "stdout",
     "output_type": "stream",
     "text": [
      "\u001b(0lqqqqqqqqqqqqqqwqqqqqqqqqqqwqqqqqqqqqqqqqqwqqqqqqqqqqqqqqqqqqqqqqqqqqqqqqqqqk\u001b(B\n",
      "\u001b(0x\u001b(B **_Fruit_**  \u001b(0x\u001b(B ~~Price~~ \u001b(0x\u001b(B _Number_     \u001b(0x\u001b(B `Advantages`                    \u001b(0x\u001b(B\n",
      "\u001b(0tqqqqqqqqqqqqqqnqqqqqqqqqqqnqqqqqqqqqqqqqqnqqqqqqqqqqqqqqqqqqqqqqqqqqqqqqqqqu\u001b(B\n",
      "\u001b(0x\u001b(B *Bananas~1~* \u001b(0x\u001b(B $1.34     \u001b(0x\u001b(B 12~units~    \u001b(0x\u001b(B Benefits of eating bananas      \u001b(0x\u001b(B\n",
      "\u001b(0x\u001b(B              \u001b(0x\u001b(B           \u001b(0x\u001b(B              \u001b(0x\u001b(B (**Note the appropriately       \u001b(0x\u001b(B\n",
      "\u001b(0x\u001b(B              \u001b(0x\u001b(B           \u001b(0x\u001b(B              \u001b(0x\u001b(B rendered block markdown**):     \u001b(0x\u001b(B\n",
      "\u001b(0x\u001b(B              \u001b(0x\u001b(B           \u001b(0x\u001b(B              \u001b(0x\u001b(B                                 \u001b(0x\u001b(B\n",
      "\u001b(0x\u001b(B              \u001b(0x\u001b(B           \u001b(0x\u001b(B              \u001b(0x\u001b(B - _built-in wrapper_            \u001b(0x\u001b(B\n",
      "\u001b(0x\u001b(B              \u001b(0x\u001b(B           \u001b(0x\u001b(B              \u001b(0x\u001b(B - ~~**bright color**~~          \u001b(0x\u001b(B\n",
      "\u001b(0x\u001b(B              \u001b(0x\u001b(B           \u001b(0x\u001b(B              \u001b(0x\u001b(B                                 \u001b(0x\u001b(B\n",
      "\u001b(0x\u001b(B              \u001b(0x\u001b(B           \u001b(0x\u001b(B              \u001b(0x\u001b(B                                 \u001b(0x\u001b(B\n",
      "\u001b(0x\u001b(B *Oranges~2~* \u001b(0x\u001b(B $2.10     \u001b(0x\u001b(B 5^10^~units~ \u001b(0x\u001b(B Benefits of eating oranges:     \u001b(0x\u001b(B\n",
      "\u001b(0x\u001b(B              \u001b(0x\u001b(B           \u001b(0x\u001b(B              \u001b(0x\u001b(B                                 \u001b(0x\u001b(B\n",
      "\u001b(0x\u001b(B              \u001b(0x\u001b(B           \u001b(0x\u001b(B              \u001b(0x\u001b(B - **cures** scurvy              \u001b(0x\u001b(B\n",
      "\u001b(0x\u001b(B              \u001b(0x\u001b(B           \u001b(0x\u001b(B              \u001b(0x\u001b(B - `tasty`                       \u001b(0x\u001b(B\n",
      "\u001b(0mqqqqqqqqqqqqqqvqqqqqqqqqqqvqqqqqqqqqqqqqqvqqqqqqqqqqqqqqqqqqqqqqqqqqqqqqqqqj\u001b(B\n"
     ]
    }
   ],
   "source": [
    "table2 = SingleTable(table)\n",
    "print(table2.table)"
   ]
  },
  {
   "cell_type": "code",
   "execution_count": 7,
   "metadata": {
    "collapsed": false
   },
   "outputs": [
    {
     "name": "stdout",
     "output_type": "stream",
     "text": [
      "╔══════════════╦═══════════╦══════════════╦═════════════════════════════════╗\n",
      "║ **_Fruit_**  ║ ~~Price~~ ║ _Number_     ║ `Advantages`                    ║\n",
      "╠══════════════╬═══════════╬══════════════╬═════════════════════════════════╣\n",
      "║ *Bananas~1~* ║ $1.34     ║ 12~units~    ║ Benefits of eating bananas      ║\n",
      "║              ║           ║              ║ (**Note the appropriately       ║\n",
      "║              ║           ║              ║ rendered block markdown**):     ║\n",
      "║              ║           ║              ║                                 ║\n",
      "║              ║           ║              ║ - _built-in wrapper_            ║\n",
      "║              ║           ║              ║ - ~~**bright color**~~          ║\n",
      "║              ║           ║              ║                                 ║\n",
      "║              ║           ║              ║                                 ║\n",
      "║ *Oranges~2~* ║ $2.10     ║ 5^10^~units~ ║ Benefits of eating oranges:     ║\n",
      "║              ║           ║              ║                                 ║\n",
      "║              ║           ║              ║ - **cures** scurvy              ║\n",
      "║              ║           ║              ║ - `tasty`                       ║\n",
      "╚══════════════╩═══════════╩══════════════╩═════════════════════════════════╝\n"
     ]
    }
   ],
   "source": [
    "table3 = DoubleTable(table)\n",
    "print(table3.table)"
   ]
  },
  {
   "cell_type": "code",
   "execution_count": 8,
   "metadata": {
    "collapsed": false
   },
   "outputs": [
    {
     "name": "stdout",
     "output_type": "stream",
     "text": [
      "| **_Fruit_**  | ~~Price~~ | _Number_     | `Advantages`                    |\n",
      "|--------------|-----------|--------------|---------------------------------|\n",
      "| *Bananas~1~* | $1.34     | 12~units~    | Benefits of eating bananas      |\n",
      "|              |           |              | (**Note the appropriately       |\n",
      "|              |           |              | rendered block markdown**):     |\n",
      "|              |           |              |                                 |\n",
      "|              |           |              | - _built-in wrapper_            |\n",
      "|              |           |              | - ~~**bright color**~~          |\n",
      "|              |           |              |                                 |\n",
      "|              |           |              |                                 |\n",
      "| *Oranges~2~* | $2.10     | 5^10^~units~ | Benefits of eating oranges:     |\n",
      "|              |           |              |                                 |\n",
      "|              |           |              | - **cures** scurvy              |\n",
      "|              |           |              | - `tasty`                       |\n"
     ]
    }
   ],
   "source": [
    "table4 = GithubFlavoredMarkdownTable(table)\n",
    "print(table4.table)"
   ]
  }
 ],
 "metadata": {
  "kernelspec": {
   "display_name": "Python 3",
   "language": "python",
   "name": "python3"
  },
  "language_info": {
   "codemirror_mode": {
    "name": "ipython",
    "version": 3
   },
   "file_extension": ".py",
   "mimetype": "text/x-python",
   "name": "python",
   "nbconvert_exporter": "python",
   "pygments_lexer": "ipython3",
   "version": "3.5.2"
  }
 },
 "nbformat": 4,
 "nbformat_minor": 1
}
