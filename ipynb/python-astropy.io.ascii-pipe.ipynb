{
 "cells": [
  {
   "cell_type": "code",
   "execution_count": 1,
   "metadata": {
    "collapsed": false
   },
   "outputs": [],
   "source": [
    "from astropy.io import ascii\n",
    "import sys"
   ]
  },
  {
   "cell_type": "code",
   "execution_count": 2,
   "metadata": {
    "collapsed": true
   },
   "outputs": [],
   "source": [
    "table=ascii.read('../source/pipe.csv', format='csv')"
   ]
  },
  {
   "cell_type": "code",
   "execution_count": 3,
   "metadata": {
    "collapsed": false
   },
   "outputs": [
    {
     "name": "stdout",
     "output_type": "stream",
     "text": [
      "Right Left Default Center\n",
      "----- ---- ------- ------\n",
      "   12   12      12     12\n",
      "  123  123     123    123\n",
      "    1    1       1      1\n"
     ]
    }
   ],
   "source": [
    "print(table)"
   ]
  },
  {
   "cell_type": "code",
   "execution_count": 4,
   "metadata": {
    "collapsed": false
   },
   "outputs": [
    {
     "name": "stdout",
     "output_type": "stream",
     "text": [
      "\\begin{deluxetable}{cccc}\n",
      "\\tablehead{\\colhead{Right} & \\colhead{Left} & \\colhead{Default} & \\colhead{Center}}\n",
      "\\startdata\n",
      "12 & 12 & 12 & 12 \\\\\n",
      "123 & 123 & 123 & 123 \\\\\n",
      "1 & 1 & 1 & 1\n",
      "\\enddata\n",
      "\\end{deluxetable}\n"
     ]
    }
   ],
   "source": [
    "ascii.write(table, sys.stdout, format='aastex')"
   ]
  },
  {
   "cell_type": "code",
   "execution_count": 5,
   "metadata": {
    "collapsed": false
   },
   "outputs": [
    {
     "name": "stdout",
     "output_type": "stream",
     "text": [
      "Right Left Default Center\n",
      "12 12 12 12\n",
      "123 123 123 123\n",
      "1 1 1 1\n"
     ]
    }
   ],
   "source": [
    "ascii.write(table, sys.stdout, format='basic')"
   ]
  },
  {
   "cell_type": "code",
   "execution_count": 6,
   "metadata": {
    "collapsed": false
   },
   "outputs": [
    {
     "name": "stdout",
     "output_type": "stream",
     "text": [
      "# Right Left Default Center\n",
      "12 12 12 12\n",
      "123 123 123 123\n",
      "1 1 1 1\n"
     ]
    }
   ],
   "source": [
    "ascii.write(table, sys.stdout, format='commented_header')"
   ]
  },
  {
   "cell_type": "code",
   "execution_count": 7,
   "metadata": {
    "collapsed": false
   },
   "outputs": [
    {
     "name": "stdout",
     "output_type": "stream",
     "text": [
      "Right,Left,Default,Center\n",
      "12,12,12,12\n",
      "123,123,123,123\n",
      "1,1,1,1\n"
     ]
    }
   ],
   "source": [
    "ascii.write(table, sys.stdout, format='csv')"
   ]
  },
  {
   "cell_type": "code",
   "execution_count": 8,
   "metadata": {
    "collapsed": false
   },
   "outputs": [
    {
     "name": "stdout",
     "output_type": "stream",
     "text": [
      "# %ECSV 0.9\n",
      "# ---\n",
      "# datatype:\n",
      "# - {name: Right, datatype: int64}\n",
      "# - {name: Left, datatype: int64}\n",
      "# - {name: Default, datatype: int64}\n",
      "# - {name: Center, datatype: int64}\n",
      "Right Left Default Center\n",
      "12 12 12 12\n",
      "123 123 123 123\n",
      "1 1 1 1\n"
     ]
    }
   ],
   "source": [
    "ascii.write(table, sys.stdout, format='ecsv')"
   ]
  },
  {
   "cell_type": "code",
   "execution_count": 9,
   "metadata": {
    "collapsed": false
   },
   "outputs": [
    {
     "name": "stdout",
     "output_type": "stream",
     "text": [
      "| Right | Left | Default | Center |\n",
      "|    12 |   12 |      12 |     12 |\n",
      "|   123 |  123 |     123 |    123 |\n",
      "|     1 |    1 |       1 |      1 |\n"
     ]
    }
   ],
   "source": [
    "ascii.write(table, sys.stdout, format='fixed_width')"
   ]
  },
  {
   "cell_type": "code",
   "execution_count": 10,
   "metadata": {
    "collapsed": false
   },
   "outputs": [
    {
     "name": "stdout",
     "output_type": "stream",
     "text": [
      "|  12 |  12 |  12 |  12 |\n",
      "| 123 | 123 | 123 | 123 |\n",
      "|   1 |   1 |   1 |   1 |\n"
     ]
    }
   ],
   "source": [
    "ascii.write(table, sys.stdout, format='fixed_width_no_header')"
   ]
  },
  {
   "cell_type": "code",
   "execution_count": 11,
   "metadata": {
    "collapsed": false
   },
   "outputs": [
    {
     "name": "stdout",
     "output_type": "stream",
     "text": [
      "Right Left Default Center\n",
      "----- ---- ------- ------\n",
      "   12   12      12     12\n",
      "  123  123     123    123\n",
      "    1    1       1      1\n"
     ]
    }
   ],
   "source": [
    "ascii.write(table, sys.stdout, format='fixed_width_two_line')"
   ]
  },
  {
   "cell_type": "code",
   "execution_count": 12,
   "metadata": {
    "collapsed": false
   },
   "outputs": [
    {
     "name": "stdout",
     "output_type": "stream",
     "text": [
      "<html>\n",
      " <head>\n",
      "  <meta charset=\"utf-8\"/>\n",
      "  <meta content=\"text/html;charset=UTF-8\" http-equiv=\"Content-type\"/>\n",
      " </head>\n",
      " <body>\n",
      "  <table>\n",
      "   <thead>\n",
      "    <tr>\n",
      "     <th>Right</th>\n",
      "     <th>Left</th>\n",
      "     <th>Default</th>\n",
      "     <th>Center</th>\n",
      "    </tr>\n",
      "   </thead>\n",
      "   <tr>\n",
      "    <td>12</td>\n",
      "    <td>12</td>\n",
      "    <td>12</td>\n",
      "    <td>12</td>\n",
      "   </tr>\n",
      "   <tr>\n",
      "    <td>123</td>\n",
      "    <td>123</td>\n",
      "    <td>123</td>\n",
      "    <td>123</td>\n",
      "   </tr>\n",
      "   <tr>\n",
      "    <td>1</td>\n",
      "    <td>1</td>\n",
      "    <td>1</td>\n",
      "    <td>1</td>\n",
      "   </tr>\n",
      "  </table>\n",
      " </body>\n",
      "</html>\n",
      "\n"
     ]
    }
   ],
   "source": [
    "ascii.write(table, sys.stdout, format='html')"
   ]
  },
  {
   "cell_type": "code",
   "execution_count": 13,
   "metadata": {
    "collapsed": false
   },
   "outputs": [
    {
     "name": "stdout",
     "output_type": "stream",
     "text": [
      "|Right|Left|Default|Center|\n",
      "| long|long|   long|  long|\n",
      "|     |    |       |      |\n",
      "| null|null|   null|  null|\n",
      "    12   12      12     12 \n",
      "   123  123     123    123 \n",
      "     1    1       1      1 \n"
     ]
    }
   ],
   "source": [
    "ascii.write(table, sys.stdout, format='ipac')"
   ]
  },
  {
   "cell_type": "code",
   "execution_count": 14,
   "metadata": {
    "collapsed": false
   },
   "outputs": [
    {
     "name": "stdout",
     "output_type": "stream",
     "text": [
      "\\begin{table}\n",
      "\\begin{tabular}{cccc}\n",
      "Right & Left & Default & Center \\\\\n",
      "12 & 12 & 12 & 12 \\\\\n",
      "123 & 123 & 123 & 123 \\\\\n",
      "1 & 1 & 1 & 1 \\\\\n",
      "\\end{tabular}\n",
      "\\end{table}\n"
     ]
    }
   ],
   "source": [
    "ascii.write(table, sys.stdout, format='latex')"
   ]
  },
  {
   "cell_type": "code",
   "execution_count": 15,
   "metadata": {
    "collapsed": false
   },
   "outputs": [
    {
     "name": "stdout",
     "output_type": "stream",
     "text": [
      "12 12 12 12\n",
      "123 123 123 123\n",
      "1 1 1 1\n"
     ]
    }
   ],
   "source": [
    "ascii.write(table, sys.stdout, format='no_header')"
   ]
  },
  {
   "cell_type": "code",
   "execution_count": 16,
   "metadata": {
    "collapsed": false
   },
   "outputs": [
    {
     "name": "stdout",
     "output_type": "stream",
     "text": [
      "Right\tLeft\tDefault\tCenter\n",
      "N\tN\tN\tN\n",
      "12\t12\t12\t12\n",
      "123\t123\t123\t123\n",
      "1\t1\t1\t1\n"
     ]
    }
   ],
   "source": [
    "ascii.write(table, sys.stdout, format='rdb')"
   ]
  },
  {
   "cell_type": "code",
   "execution_count": 17,
   "metadata": {
    "collapsed": false
   },
   "outputs": [
    {
     "name": "stdout",
     "output_type": "stream",
     "text": [
      "===== ==== ======= ======\n",
      "Right Left Default Center\n",
      "===== ==== ======= ======\n",
      "   12   12      12     12\n",
      "  123  123     123    123\n",
      "    1    1       1      1\n",
      "===== ==== ======= ======\n"
     ]
    }
   ],
   "source": [
    "ascii.write(table, sys.stdout, format='rst')"
   ]
  },
  {
   "cell_type": "code",
   "execution_count": 18,
   "metadata": {
    "collapsed": false
   },
   "outputs": [
    {
     "name": "stdout",
     "output_type": "stream",
     "text": [
      "Right\tLeft\tDefault\tCenter\n",
      "12\t12\t12\t12\n",
      "123\t123\t123\t123\n",
      "1\t1\t1\t1\n"
     ]
    }
   ],
   "source": [
    "ascii.write(table, sys.stdout, format='tab')"
   ]
  }
 ],
 "metadata": {
  "kernelspec": {
   "display_name": "Python 3",
   "language": "python",
   "name": "python3"
  },
  "language_info": {
   "codemirror_mode": {
    "name": "ipython",
    "version": 3
   },
   "file_extension": ".py",
   "mimetype": "text/x-python",
   "name": "python",
   "nbconvert_exporter": "python",
   "pygments_lexer": "ipython3",
   "version": "3.5.2"
  }
 },
 "nbformat": 4,
 "nbformat_minor": 1
}
