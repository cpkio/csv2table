{
 "cells": [
  {
   "cell_type": "code",
   "execution_count": 1,
   "metadata": {
    "collapsed": false
   },
   "outputs": [],
   "source": [
    "import csv\n",
    "from terminaltables import *"
   ]
  },
  {
   "cell_type": "code",
   "execution_count": 2,
   "metadata": {
    "collapsed": false
   },
   "outputs": [],
   "source": [
    "with open('../source/multiline.csv', newline='') as f:\n",
    "    table = list(csv.reader(f))"
   ]
  },
  {
   "cell_type": "code",
   "execution_count": 3,
   "metadata": {
    "collapsed": false
   },
   "outputs": [
    {
     "name": "stdout",
     "output_type": "stream",
     "text": [
      "[['**_Centered\\nHeader_**', '~~Default\\nAligned~~', '_Right\\nAligned_', '`Left\\nAligned`'], ['First~1~', 'row', '12~units~', 'Example of a row that\\nspans multiple lines.'], ['*Second~2~*', 'row', '5^10^~units~', \"Here's **another** one.\\n_Note the appropriately\\nrendered inline\\nmarkdown._\"]]\n"
     ]
    }
   ],
   "source": [
    "print(table)"
   ]
  },
  {
   "cell_type": "code",
   "execution_count": 4,
   "metadata": {
    "collapsed": false
   },
   "outputs": [
    {
     "name": "stdout",
     "output_type": "stream",
     "text": [
      "+-------------+-----------+--------------+-------------------------+\n",
      "| **_Centered | ~~Default | _Right       | `Left                   |\n",
      "| Header_**   | Aligned~~ | Aligned_     | Aligned`                |\n",
      "+-------------+-----------+--------------+-------------------------+\n",
      "| First~1~    | row       | 12~units~    | Example of a row that   |\n",
      "|             |           |              | spans multiple lines.   |\n",
      "| *Second~2~* | row       | 5^10^~units~ | Here's **another** one. |\n",
      "|             |           |              | _Note the appropriately |\n",
      "|             |           |              | rendered inline         |\n",
      "|             |           |              | markdown._              |\n",
      "+-------------+-----------+--------------+-------------------------+\n"
     ]
    }
   ],
   "source": [
    "table1 = AsciiTable(table)\n",
    "print(table1.table)"
   ]
  },
  {
   "cell_type": "code",
   "execution_count": 5,
   "metadata": {
    "collapsed": false
   },
   "outputs": [
    {
     "name": "stdout",
     "output_type": "stream",
     "text": [
      "+-------------+-----------+--------------+-------------------------+\n",
      "| **_Centered | ~~Default | _Right       | `Left                   |\n",
      "| Header_**   | Aligned~~ | Aligned_     | Aligned`                |\n",
      "+-------------+-----------+--------------+-------------------------+\n",
      "| First~1~    | row       | 12~units~    | Example of a row that   |\n",
      "|             |           |              | spans multiple lines.   |\n",
      "+-------------+-----------+--------------+-------------------------+\n",
      "| *Second~2~* | row       | 5^10^~units~ | Here's **another** one. |\n",
      "|             |           |              | _Note the appropriately |\n",
      "|             |           |              | rendered inline         |\n",
      "|             |           |              | markdown._              |\n",
      "+-------------+-----------+--------------+-------------------------+\n"
     ]
    }
   ],
   "source": [
    "table1.inner_row_border = True\n",
    "print(table1.table)"
   ]
  },
  {
   "cell_type": "code",
   "execution_count": 6,
   "metadata": {
    "collapsed": false
   },
   "outputs": [
    {
     "name": "stdout",
     "output_type": "stream",
     "text": [
      "\u001b(0lqqqqqqqqqqqqqwqqqqqqqqqqqwqqqqqqqqqqqqqqwqqqqqqqqqqqqqqqqqqqqqqqqqk\u001b(B\n",
      "\u001b(0x\u001b(B **_Centered \u001b(0x\u001b(B ~~Default \u001b(0x\u001b(B _Right       \u001b(0x\u001b(B `Left                   \u001b(0x\u001b(B\n",
      "\u001b(0x\u001b(B Header_**   \u001b(0x\u001b(B Aligned~~ \u001b(0x\u001b(B Aligned_     \u001b(0x\u001b(B Aligned`                \u001b(0x\u001b(B\n",
      "\u001b(0tqqqqqqqqqqqqqnqqqqqqqqqqqnqqqqqqqqqqqqqqnqqqqqqqqqqqqqqqqqqqqqqqqqu\u001b(B\n",
      "\u001b(0x\u001b(B First~1~    \u001b(0x\u001b(B row       \u001b(0x\u001b(B 12~units~    \u001b(0x\u001b(B Example of a row that   \u001b(0x\u001b(B\n",
      "\u001b(0x\u001b(B             \u001b(0x\u001b(B           \u001b(0x\u001b(B              \u001b(0x\u001b(B spans multiple lines.   \u001b(0x\u001b(B\n",
      "\u001b(0x\u001b(B *Second~2~* \u001b(0x\u001b(B row       \u001b(0x\u001b(B 5^10^~units~ \u001b(0x\u001b(B Here's **another** one. \u001b(0x\u001b(B\n",
      "\u001b(0x\u001b(B             \u001b(0x\u001b(B           \u001b(0x\u001b(B              \u001b(0x\u001b(B _Note the appropriately \u001b(0x\u001b(B\n",
      "\u001b(0x\u001b(B             \u001b(0x\u001b(B           \u001b(0x\u001b(B              \u001b(0x\u001b(B rendered inline         \u001b(0x\u001b(B\n",
      "\u001b(0x\u001b(B             \u001b(0x\u001b(B           \u001b(0x\u001b(B              \u001b(0x\u001b(B markdown._              \u001b(0x\u001b(B\n",
      "\u001b(0mqqqqqqqqqqqqqvqqqqqqqqqqqvqqqqqqqqqqqqqqvqqqqqqqqqqqqqqqqqqqqqqqqqj\u001b(B\n"
     ]
    }
   ],
   "source": [
    "table2 = SingleTable(table)\n",
    "print(table2.table)"
   ]
  },
  {
   "cell_type": "code",
   "execution_count": 7,
   "metadata": {
    "collapsed": false
   },
   "outputs": [
    {
     "name": "stdout",
     "output_type": "stream",
     "text": [
      "╔═════════════╦═══════════╦══════════════╦═════════════════════════╗\n",
      "║ **_Centered ║ ~~Default ║ _Right       ║ `Left                   ║\n",
      "║ Header_**   ║ Aligned~~ ║ Aligned_     ║ Aligned`                ║\n",
      "╠═════════════╬═══════════╬══════════════╬═════════════════════════╣\n",
      "║ First~1~    ║ row       ║ 12~units~    ║ Example of a row that   ║\n",
      "║             ║           ║              ║ spans multiple lines.   ║\n",
      "║ *Second~2~* ║ row       ║ 5^10^~units~ ║ Here's **another** one. ║\n",
      "║             ║           ║              ║ _Note the appropriately ║\n",
      "║             ║           ║              ║ rendered inline         ║\n",
      "║             ║           ║              ║ markdown._              ║\n",
      "╚═════════════╩═══════════╩══════════════╩═════════════════════════╝\n"
     ]
    }
   ],
   "source": [
    "table3 = DoubleTable(table)\n",
    "print(table3.table)"
   ]
  },
  {
   "cell_type": "code",
   "execution_count": 8,
   "metadata": {
    "collapsed": false
   },
   "outputs": [
    {
     "name": "stdout",
     "output_type": "stream",
     "text": [
      "| **_Centered | ~~Default | _Right       | `Left                   |\n",
      "| Header_**   | Aligned~~ | Aligned_     | Aligned`                |\n",
      "|-------------|-----------|--------------|-------------------------|\n",
      "| First~1~    | row       | 12~units~    | Example of a row that   |\n",
      "|             |           |              | spans multiple lines.   |\n",
      "| *Second~2~* | row       | 5^10^~units~ | Here's **another** one. |\n",
      "|             |           |              | _Note the appropriately |\n",
      "|             |           |              | rendered inline         |\n",
      "|             |           |              | markdown._              |\n"
     ]
    }
   ],
   "source": [
    "table4 = GithubFlavoredMarkdownTable(table)\n",
    "print(table4.table)"
   ]
  }
 ],
 "metadata": {
  "kernelspec": {
   "display_name": "Python 3",
   "language": "python",
   "name": "python3"
  },
  "language_info": {
   "codemirror_mode": {
    "name": "ipython",
    "version": 3
   },
   "file_extension": ".py",
   "mimetype": "text/x-python",
   "name": "python",
   "nbconvert_exporter": "python",
   "pygments_lexer": "ipython3",
   "version": "3.5.2"
  }
 },
 "nbformat": 4,
 "nbformat_minor": 1
}
