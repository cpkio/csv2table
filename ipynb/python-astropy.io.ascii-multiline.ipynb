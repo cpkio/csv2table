{
 "cells": [
  {
   "cell_type": "code",
   "execution_count": 1,
   "metadata": {
    "collapsed": false
   },
   "outputs": [],
   "source": [
    "from astropy.io import ascii\n",
    "import sys"
   ]
  },
  {
   "cell_type": "code",
   "execution_count": 2,
   "metadata": {
    "collapsed": true
   },
   "outputs": [],
   "source": [
    "table=ascii.read('../source/multiline.csv', format='csv')"
   ]
  },
  {
   "cell_type": "code",
   "execution_count": 3,
   "metadata": {
    "collapsed": false
   },
   "outputs": [
    {
     "name": "stdout",
     "output_type": "stream",
     "text": [
      "**_CenteredHeader_** ...\n",
      "-------------------- ...\n",
      "          Header_**\" ...\n",
      "            First~1~ ...\n",
      "         *Second~2~* ...\n"
     ]
    }
   ],
   "source": [
    "print(table)"
   ]
  },
  {
   "cell_type": "code",
   "execution_count": 4,
   "metadata": {
    "collapsed": false
   },
   "outputs": [
    {
     "name": "stdout",
     "output_type": "stream",
     "text": [
      "\\begin{deluxetable}{cccc}\n",
      "\\tablehead{\\colhead{**_CenteredHeader_**} & \\colhead{~~DefaultAligned~~} & \\colhead{_RightAligned_} & \\colhead{`LeftAligned`}}\n",
      "\\startdata\n",
      "Header_**\" & ~~DefaultAligned~~ & _RightAligned_ & `LeftAligned` \\\\\n",
      "First~1~ & row & 12~units~ & Example of a row thatspans multiple lines. \\\\\n",
      "*Second~2~* & row & 5^10^~units~ & Here's **another** one._Note the appropriatelyrendered inlinemarkdown._\n",
      "\\enddata\n",
      "\\end{deluxetable}\n"
     ]
    }
   ],
   "source": [
    "ascii.write(table, sys.stdout, format='aastex')"
   ]
  },
  {
   "cell_type": "code",
   "execution_count": 5,
   "metadata": {
    "collapsed": false
   },
   "outputs": [
    {
     "name": "stdout",
     "output_type": "stream",
     "text": [
      "**_CenteredHeader_** ~~DefaultAligned~~ _RightAligned_ `LeftAligned`\n",
      "\"Header_**\"\"\" ~~DefaultAligned~~ _RightAligned_ `LeftAligned`\n",
      "First~1~ row 12~units~ \"Example of a row thatspans multiple lines.\"\n",
      "*Second~2~* row 5^10^~units~ \"Here's **another** one._Note the appropriatelyrendered inlinemarkdown._\"\n"
     ]
    }
   ],
   "source": [
    "ascii.write(table, sys.stdout, format='basic')"
   ]
  },
  {
   "cell_type": "code",
   "execution_count": 6,
   "metadata": {
    "collapsed": false
   },
   "outputs": [
    {
     "name": "stdout",
     "output_type": "stream",
     "text": [
      "# **_CenteredHeader_** ~~DefaultAligned~~ _RightAligned_ `LeftAligned`\n",
      "\"Header_**\"\"\" ~~DefaultAligned~~ _RightAligned_ `LeftAligned`\n",
      "First~1~ row 12~units~ \"Example of a row thatspans multiple lines.\"\n",
      "*Second~2~* row 5^10^~units~ \"Here's **another** one._Note the appropriatelyrendered inlinemarkdown._\"\n"
     ]
    }
   ],
   "source": [
    "ascii.write(table, sys.stdout, format='commented_header')"
   ]
  },
  {
   "cell_type": "code",
   "execution_count": 7,
   "metadata": {
    "collapsed": false
   },
   "outputs": [
    {
     "name": "stdout",
     "output_type": "stream",
     "text": [
      "**_CenteredHeader_**,~~DefaultAligned~~,_RightAligned_,`LeftAligned`\n",
      "\"Header_**\"\"\",~~DefaultAligned~~,_RightAligned_,`LeftAligned`\n",
      "First~1~,row,12~units~,Example of a row thatspans multiple lines.\n",
      "*Second~2~*,row,5^10^~units~,Here's **another** one._Note the appropriatelyrendered inlinemarkdown._\n"
     ]
    }
   ],
   "source": [
    "ascii.write(table, sys.stdout, format='csv')"
   ]
  },
  {
   "cell_type": "code",
   "execution_count": 8,
   "metadata": {
    "collapsed": false
   },
   "outputs": [
    {
     "name": "stdout",
     "output_type": "stream",
     "text": [
      "# %ECSV 0.9\n",
      "# ---\n",
      "# datatype:\n",
      "# - {name: '**_CenteredHeader_**', datatype: string}\n",
      "# - {name: ~~DefaultAligned~~, datatype: string}\n",
      "# - {name: _RightAligned_, datatype: string}\n",
      "# - {name: '`LeftAligned`', datatype: string}\n",
      "**_CenteredHeader_** ~~DefaultAligned~~ _RightAligned_ `LeftAligned`\n",
      "\"Header_**\"\"\" ~~DefaultAligned~~ _RightAligned_ `LeftAligned`\n",
      "First~1~ row 12~units~ \"Example of a row thatspans multiple lines.\"\n",
      "*Second~2~* row 5^10^~units~ \"Here's **another** one._Note the appropriatelyrendered inlinemarkdown._\"\n"
     ]
    }
   ],
   "source": [
    "ascii.write(table, sys.stdout, format='ecsv')"
   ]
  },
  {
   "cell_type": "code",
   "execution_count": 9,
   "metadata": {
    "collapsed": false
   },
   "outputs": [
    {
     "name": "stdout",
     "output_type": "stream",
     "text": [
      "| **_CenteredHeader_** | ~~DefaultAligned~~ | _RightAligned_ |                                                           `LeftAligned` |\n",
      "|           Header_**\" | ~~DefaultAligned~~ | _RightAligned_ |                                                           `LeftAligned` |\n",
      "|             First~1~ |                row |      12~units~ |                              Example of a row thatspans multiple lines. |\n",
      "|          *Second~2~* |                row |   5^10^~units~ | Here's **another** one._Note the appropriatelyrendered inlinemarkdown._ |\n"
     ]
    }
   ],
   "source": [
    "ascii.write(table, sys.stdout, format='fixed_width')"
   ]
  },
  {
   "cell_type": "code",
   "execution_count": 10,
   "metadata": {
    "collapsed": false
   },
   "outputs": [
    {
     "name": "stdout",
     "output_type": "stream",
     "text": [
      "|  Header_**\" | ~~DefaultAligned~~ | _RightAligned_ |                                                           `LeftAligned` |\n",
      "|    First~1~ |                row |      12~units~ |                              Example of a row thatspans multiple lines. |\n",
      "| *Second~2~* |                row |   5^10^~units~ | Here's **another** one._Note the appropriatelyrendered inlinemarkdown._ |\n"
     ]
    }
   ],
   "source": [
    "ascii.write(table, sys.stdout, format='fixed_width_no_header')"
   ]
  },
  {
   "cell_type": "code",
   "execution_count": 11,
   "metadata": {
    "collapsed": false
   },
   "outputs": [
    {
     "name": "stdout",
     "output_type": "stream",
     "text": [
      "**_CenteredHeader_** ~~DefaultAligned~~ _RightAligned_                                                           `LeftAligned`\n",
      "-------------------- ------------------ -------------- -----------------------------------------------------------------------\n",
      "          Header_**\" ~~DefaultAligned~~ _RightAligned_                                                           `LeftAligned`\n",
      "            First~1~                row      12~units~                              Example of a row thatspans multiple lines.\n",
      "         *Second~2~*                row   5^10^~units~ Here's **another** one._Note the appropriatelyrendered inlinemarkdown._\n"
     ]
    }
   ],
   "source": [
    "ascii.write(table, sys.stdout, format='fixed_width_two_line')"
   ]
  },
  {
   "cell_type": "code",
   "execution_count": 12,
   "metadata": {
    "collapsed": false
   },
   "outputs": [
    {
     "name": "stdout",
     "output_type": "stream",
     "text": [
      "<html>\n",
      " <head>\n",
      "  <meta charset=\"utf-8\"/>\n",
      "  <meta content=\"text/html;charset=UTF-8\" http-equiv=\"Content-type\"/>\n",
      " </head>\n",
      " <body>\n",
      "  <table>\n",
      "   <thead>\n",
      "    <tr>\n",
      "     <th>**_CenteredHeader_**</th>\n",
      "     <th>~~DefaultAligned~~</th>\n",
      "     <th>_RightAligned_</th>\n",
      "     <th>`LeftAligned`</th>\n",
      "    </tr>\n",
      "   </thead>\n",
      "   <tr>\n",
      "    <td>Header_**\"</td>\n",
      "    <td>~~DefaultAligned~~</td>\n",
      "    <td>_RightAligned_</td>\n",
      "    <td>`LeftAligned`</td>\n",
      "   </tr>\n",
      "   <tr>\n",
      "    <td>First~1~</td>\n",
      "    <td>row</td>\n",
      "    <td>12~units~</td>\n",
      "    <td>Example of a row thatspans multiple lines.</td>\n",
      "   </tr>\n",
      "   <tr>\n",
      "    <td>*Second~2~*</td>\n",
      "    <td>row</td>\n",
      "    <td>5^10^~units~</td>\n",
      "    <td>Here's **another** one._Note the appropriatelyrendered inlinemarkdown._</td>\n",
      "   </tr>\n",
      "  </table>\n",
      " </body>\n",
      "</html>\n",
      "\n"
     ]
    }
   ],
   "source": [
    "ascii.write(table, sys.stdout, format='html')"
   ]
  },
  {
   "cell_type": "code",
   "execution_count": 13,
   "metadata": {
    "collapsed": false
   },
   "outputs": [
    {
     "ename": "AttributeError",
     "evalue": "'NoneType' object has no attribute 'end'",
     "output_type": "error",
     "traceback": [
      "\u001b[0;31m---------------------------------------------------------------------------\u001b[0m",
      "\u001b[0;31mAttributeError\u001b[0m                            Traceback (most recent call last)",
      "\u001b[0;32m<ipython-input-13-f98b4fa4cacf>\u001b[0m in \u001b[0;36m<module>\u001b[0;34m()\u001b[0m\n\u001b[0;32m----> 1\u001b[0;31m \u001b[0mascii\u001b[0m\u001b[0;34m.\u001b[0m\u001b[0mwrite\u001b[0m\u001b[0;34m(\u001b[0m\u001b[0mtable\u001b[0m\u001b[0;34m,\u001b[0m \u001b[0msys\u001b[0m\u001b[0;34m.\u001b[0m\u001b[0mstdout\u001b[0m\u001b[0;34m,\u001b[0m \u001b[0mformat\u001b[0m\u001b[0;34m=\u001b[0m\u001b[0;34m'ipac'\u001b[0m\u001b[0;34m)\u001b[0m\u001b[0;34m\u001b[0m\u001b[0m\n\u001b[0m",
      "\u001b[0;32m/usr/local/lib/python3.5/site-packages/astropy/io/ascii/ui.py\u001b[0m in \u001b[0;36mwrite\u001b[0;34m(table, output, format, Writer, fast_writer, **kwargs)\u001b[0m\n\u001b[1;32m    688\u001b[0m         \u001b[0;32mreturn\u001b[0m\u001b[0;34m\u001b[0m\u001b[0m\n\u001b[1;32m    689\u001b[0m \u001b[0;34m\u001b[0m\u001b[0m\n\u001b[0;32m--> 690\u001b[0;31m     \u001b[0mlines\u001b[0m \u001b[0;34m=\u001b[0m \u001b[0mwriter\u001b[0m\u001b[0;34m.\u001b[0m\u001b[0mwrite\u001b[0m\u001b[0;34m(\u001b[0m\u001b[0mtable\u001b[0m\u001b[0;34m)\u001b[0m\u001b[0;34m\u001b[0m\u001b[0m\n\u001b[0m\u001b[1;32m    691\u001b[0m \u001b[0;34m\u001b[0m\u001b[0m\n\u001b[1;32m    692\u001b[0m     \u001b[0;31m# Write the lines to output\u001b[0m\u001b[0;34m\u001b[0m\u001b[0;34m\u001b[0m\u001b[0m\n",
      "\u001b[0;32m/usr/local/lib/python3.5/site-packages/astropy/io/ascii/ipac.py\u001b[0m in \u001b[0;36mwrite\u001b[0;34m(self, table)\u001b[0m\n\u001b[1;32m    495\u001b[0m         \u001b[0;31m# get header and data as strings to find width of each column\u001b[0m\u001b[0;34m\u001b[0m\u001b[0;34m\u001b[0m\u001b[0m\n\u001b[1;32m    496\u001b[0m         \u001b[0;32mfor\u001b[0m \u001b[0mi\u001b[0m\u001b[0;34m,\u001b[0m \u001b[0mcol\u001b[0m \u001b[0;32min\u001b[0m \u001b[0menumerate\u001b[0m\u001b[0;34m(\u001b[0m\u001b[0mtable\u001b[0m\u001b[0;34m.\u001b[0m\u001b[0mcolumns\u001b[0m\u001b[0;34m.\u001b[0m\u001b[0mvalues\u001b[0m\u001b[0;34m(\u001b[0m\u001b[0;34m)\u001b[0m\u001b[0;34m)\u001b[0m\u001b[0;34m:\u001b[0m\u001b[0;34m\u001b[0m\u001b[0m\n\u001b[0;32m--> 497\u001b[0;31m             \u001b[0mcol\u001b[0m\u001b[0;34m.\u001b[0m\u001b[0mheadwidth\u001b[0m \u001b[0;34m=\u001b[0m \u001b[0mmax\u001b[0m\u001b[0;34m(\u001b[0m\u001b[0;34m[\u001b[0m\u001b[0mlen\u001b[0m\u001b[0;34m(\u001b[0m\u001b[0mvals\u001b[0m\u001b[0;34m[\u001b[0m\u001b[0mi\u001b[0m\u001b[0;34m]\u001b[0m\u001b[0;34m)\u001b[0m \u001b[0;32mfor\u001b[0m \u001b[0mvals\u001b[0m \u001b[0;32min\u001b[0m \u001b[0mself\u001b[0m\u001b[0;34m.\u001b[0m\u001b[0mheader\u001b[0m\u001b[0;34m.\u001b[0m\u001b[0mstr_vals\u001b[0m\u001b[0;34m(\u001b[0m\u001b[0;34m)\u001b[0m\u001b[0;34m]\u001b[0m\u001b[0;34m)\u001b[0m\u001b[0;34m\u001b[0m\u001b[0m\n\u001b[0m\u001b[1;32m    498\u001b[0m         \u001b[0;31m# keep data_str_vals because they take some time to make\u001b[0m\u001b[0;34m\u001b[0m\u001b[0;34m\u001b[0m\u001b[0m\n\u001b[1;32m    499\u001b[0m         \u001b[0mdata_str_vals\u001b[0m \u001b[0;34m=\u001b[0m \u001b[0;34m[\u001b[0m\u001b[0;34m]\u001b[0m\u001b[0;34m\u001b[0m\u001b[0m\n",
      "\u001b[0;32m/usr/local/lib/python3.5/site-packages/astropy/io/ascii/ipac.py\u001b[0m in \u001b[0;36mstr_vals\u001b[0;34m(self)\u001b[0m\n\u001b[1;32m    239\u001b[0m         \u001b[0;32mfor\u001b[0m \u001b[0mname\u001b[0m \u001b[0;32min\u001b[0m \u001b[0mnamelist\u001b[0m\u001b[0;34m:\u001b[0m\u001b[0;34m\u001b[0m\u001b[0m\n\u001b[1;32m    240\u001b[0m             \u001b[0mm\u001b[0m \u001b[0;34m=\u001b[0m \u001b[0mre\u001b[0m\u001b[0;34m.\u001b[0m\u001b[0mmatch\u001b[0m\u001b[0;34m(\u001b[0m\u001b[0;34m'\\w+'\u001b[0m\u001b[0;34m,\u001b[0m \u001b[0mname\u001b[0m\u001b[0;34m)\u001b[0m\u001b[0;34m\u001b[0m\u001b[0m\n\u001b[0;32m--> 241\u001b[0;31m             \u001b[0;32mif\u001b[0m \u001b[0mm\u001b[0m\u001b[0;34m.\u001b[0m\u001b[0mend\u001b[0m\u001b[0;34m(\u001b[0m\u001b[0;34m)\u001b[0m \u001b[0;34m!=\u001b[0m \u001b[0mlen\u001b[0m\u001b[0;34m(\u001b[0m\u001b[0mname\u001b[0m\u001b[0;34m)\u001b[0m\u001b[0;34m:\u001b[0m\u001b[0;34m\u001b[0m\u001b[0m\n\u001b[0m\u001b[1;32m    242\u001b[0m                 raise IpacFormatE('{0} - Only alphanumeric characters and _ '\n\u001b[1;32m    243\u001b[0m                                   'are allowed in column names.'.format(name))\n",
      "\u001b[0;31mAttributeError\u001b[0m: 'NoneType' object has no attribute 'end'"
     ]
    }
   ],
   "source": [
    "ascii.write(table, sys.stdout, format='ipac')"
   ]
  },
  {
   "cell_type": "code",
   "execution_count": null,
   "metadata": {
    "collapsed": false
   },
   "outputs": [],
   "source": [
    "ascii.write(table, sys.stdout, format='latex')"
   ]
  },
  {
   "cell_type": "code",
   "execution_count": null,
   "metadata": {
    "collapsed": false
   },
   "outputs": [],
   "source": [
    "ascii.write(table, sys.stdout, format='no_header')"
   ]
  },
  {
   "cell_type": "code",
   "execution_count": null,
   "metadata": {
    "collapsed": false
   },
   "outputs": [],
   "source": [
    "ascii.write(table, sys.stdout, format='rdb')"
   ]
  },
  {
   "cell_type": "code",
   "execution_count": null,
   "metadata": {
    "collapsed": false
   },
   "outputs": [],
   "source": [
    "ascii.write(table, sys.stdout, format='rst')"
   ]
  },
  {
   "cell_type": "code",
   "execution_count": null,
   "metadata": {
    "collapsed": false
   },
   "outputs": [],
   "source": [
    "ascii.write(table, sys.stdout, format='tab')"
   ]
  }
 ],
 "metadata": {
  "kernelspec": {
   "display_name": "Python 3",
   "language": "python",
   "name": "python3"
  },
  "language_info": {
   "codemirror_mode": {
    "name": "ipython",
    "version": 3
   },
   "file_extension": ".py",
   "mimetype": "text/x-python",
   "name": "python",
   "nbconvert_exporter": "python",
   "pygments_lexer": "ipython3",
   "version": "3.5.2"
  }
 },
 "nbformat": 4,
 "nbformat_minor": 1
}
